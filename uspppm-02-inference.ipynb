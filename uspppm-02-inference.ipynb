{
 "cells": [
  {
   "cell_type": "markdown",
   "id": "f5f2542a",
   "metadata": {
    "_cell_guid": "b1076dfc-b9ad-4769-8c92-a6c4dae69d19",
    "_uuid": "8f2839f25d086af736a60e9eeb907d3b93b6e0e5",
    "papermill": {
     "duration": 0.008821,
     "end_time": "2022-06-08T18:14:58.051493",
     "exception": false,
     "start_time": "2022-06-08T18:14:58.042672",
     "status": "completed"
    },
    "tags": []
   },
   "source": [
    "# U.S. Patent Phrase to Phrase Matching\n",
    "This is a notebook for the [U.S. Patent Phrase to Phrase Matching competition](https://www.kaggle.com/competitions/us-patent-phrase-to-phrase-matching) based on:\n",
    "* [Jeremy Howard's notebook](https://www.kaggle.com/code/jhoward/iterate-like-a-grandmaster)\n",
    "* [Nayak Roshan's notebook](https://www.kaggle.com/code/nayakroshan/uspppm-pytorch-lightning)\n",
    "* [Y. Nakama's notebook](https://www.kaggle.com/code/yasufuminakama/pppm-deberta-v3-large-baseline-w-w-b-train/notebook)\n",
    "This is the inference step. The training step is [here](https://www.kaggle.com/code/edmundtang/uspppm-01-training/edit/run/97244433)."
   ]
  },
  {
   "cell_type": "markdown",
   "id": "541f1358",
   "metadata": {
    "papermill": {
     "duration": 0.007403,
     "end_time": "2022-06-08T18:14:58.066273",
     "exception": false,
     "start_time": "2022-06-08T18:14:58.058870",
     "status": "completed"
    },
    "tags": []
   },
   "source": [
    "## Libraries"
   ]
  },
  {
   "cell_type": "code",
   "execution_count": 1,
   "id": "7d30e4d1",
   "metadata": {
    "execution": {
     "iopub.execute_input": "2022-06-08T18:14:58.083072Z",
     "iopub.status.busy": "2022-06-08T18:14:58.082508Z",
     "iopub.status.idle": "2022-06-08T18:15:07.109384Z",
     "shell.execute_reply": "2022-06-08T18:15:07.107151Z"
    },
    "papermill": {
     "duration": 9.039417,
     "end_time": "2022-06-08T18:15:07.113125",
     "exception": false,
     "start_time": "2022-06-08T18:14:58.073708",
     "status": "completed"
    },
    "tags": []
   },
   "outputs": [
    {
     "name": "stdout",
     "output_type": "stream",
     "text": [
      "torch.__version__: 1.11.0\n",
      "tokenizers.__version__: 0.12.1\n",
      "transformers.__version__: 4.18.0\n",
      "env: TOKENIZERS_PARALLELISM=true\n"
     ]
    }
   ],
   "source": [
    "import gc\n",
    "import re\n",
    "import time\n",
    "import math\n",
    "import random\n",
    "import warnings\n",
    "warnings.filterwarnings(\"ignore\")\n",
    "\n",
    "import scipy as sp\n",
    "from scipy import stats\n",
    "import numpy as np\n",
    "import pandas as pd\n",
    "pd.set_option('display.max_rows', 500)\n",
    "pd.set_option('display.max_columns', 500)\n",
    "pd.set_option('display.width', 1000)\n",
    "from tqdm.auto import tqdm\n",
    "\n",
    "import torch\n",
    "print(f\"torch.__version__: {torch.__version__}\")\n",
    "import torch.nn as nn\n",
    "from torch.nn import Parameter\n",
    "import torch.nn.functional as F\n",
    "from torch.optim import Adam, SGD, AdamW\n",
    "from torch.utils.data import DataLoader, Dataset\n",
    "\n",
    "import tokenizers\n",
    "import transformers\n",
    "print(f\"tokenizers.__version__: {tokenizers.__version__}\")\n",
    "print(f\"transformers.__version__: {transformers.__version__}\")\n",
    "from transformers import AutoTokenizer, AutoModel, AutoConfig, AutoModelForSequenceClassification, BertForSequenceClassification\n",
    "from transformers import get_linear_schedule_with_warmup, get_cosine_schedule_with_warmup\n",
    "%env TOKENIZERS_PARALLELISM=true\n",
    "\n",
    "device = torch.device('cuda' if torch.cuda.is_available() else 'cpu')"
   ]
  },
  {
   "cell_type": "markdown",
   "id": "fd48e6de",
   "metadata": {
    "papermill": {
     "duration": 0.007703,
     "end_time": "2022-06-08T18:15:07.129428",
     "exception": false,
     "start_time": "2022-06-08T18:15:07.121725",
     "status": "completed"
    },
    "tags": []
   },
   "source": [
    "## Configuration (CFG)"
   ]
  },
  {
   "cell_type": "code",
   "execution_count": 2,
   "id": "9eebf88f",
   "metadata": {
    "execution": {
     "iopub.execute_input": "2022-06-08T18:15:07.147849Z",
     "iopub.status.busy": "2022-06-08T18:15:07.146800Z",
     "iopub.status.idle": "2022-06-08T18:15:07.156197Z",
     "shell.execute_reply": "2022-06-08T18:15:07.155108Z"
    },
    "papermill": {
     "duration": 0.021208,
     "end_time": "2022-06-08T18:15:07.158538",
     "exception": false,
     "start_time": "2022-06-08T18:15:07.137330",
     "status": "completed"
    },
    "tags": []
   },
   "outputs": [],
   "source": [
    "class CFG:\n",
    "    model_type = 'bert' # ['bert', 'deberta']\n",
    "    model_name = 'anferico/bert-for-patents' # ['anferico/bert-for-patents' ''../input/bert-for-patent/bert-for-patents/', 'microsoft/deberta-v3-large']\n",
    "    path = '../input/patentbert01/' \n",
    "    config_path = path + 'config.pth'\n",
    "    max_len = 150\n",
    "    val_size = 0.25\n",
    "    seed = 42\n",
    "    batch_size = 16\n",
    "    num_workers = 4\n",
    "    encoder_lr = 2e-5\n",
    "    decoder_lr = 2e-5\n",
    "    weight_decay = 0.01\n",
    "    eps = 1e-6\n",
    "    betas = (0.9, 0.999)\n",
    "    num_cycles=0.5\n",
    "    num_warmup_steps = 0\n",
    "    scheduler = 'cosine' # ['linear','cosine']\n",
    "    batch_scheduler = True\n",
    "    fc_dropout = 0.20\n",
    "    target_size = 1\n",
    "    epochs = 3\n",
    "    train = True\n",
    "    apex = True\n",
    "    gradient_accumulation_steps = 1\n",
    "    max_grad_norm = 1000\n",
    "    print_freq = 50\n",
    "    debug = False\n",
    "    \n",
    "if CFG.debug:\n",
    "    CFG.epochs = 2\n",
    "    CFG.trn_fold = [0]"
   ]
  },
  {
   "cell_type": "markdown",
   "id": "369a2a4d",
   "metadata": {
    "papermill": {
     "duration": 0.007573,
     "end_time": "2022-06-08T18:15:07.174034",
     "exception": false,
     "start_time": "2022-06-08T18:15:07.166461",
     "status": "completed"
    },
    "tags": []
   },
   "source": [
    "## Directory Settings"
   ]
  },
  {
   "cell_type": "code",
   "execution_count": 3,
   "id": "b62d95ff",
   "metadata": {
    "execution": {
     "iopub.execute_input": "2022-06-08T18:15:07.191695Z",
     "iopub.status.busy": "2022-06-08T18:15:07.190967Z",
     "iopub.status.idle": "2022-06-08T18:15:41.598499Z",
     "shell.execute_reply": "2022-06-08T18:15:41.597366Z"
    },
    "papermill": {
     "duration": 34.41931,
     "end_time": "2022-06-08T18:15:41.601131",
     "exception": false,
     "start_time": "2022-06-08T18:15:07.181821",
     "status": "completed"
    },
    "tags": []
   },
   "outputs": [
    {
     "name": "stdout",
     "output_type": "stream",
     "text": [
      "\u001b[33mWARNING: Running pip as the 'root' user can result in broken permissions and conflicting behaviour with the system package manager. It is recommended to use a virtual environment instead: https://pip.pypa.io/warnings/venv\u001b[0m\u001b[33m\r\n",
      "\u001b[0m\u001b[33mWARNING: There was an error checking the latest version of pip.\u001b[0m\u001b[33m\r\n",
      "\u001b[0m"
     ]
    }
   ],
   "source": [
    "import os\n",
    "\n",
    "iskaggle = os.environ.get('KAGGLE_KERNEL_RUN_TYPE', '')\n",
    "if iskaggle:\n",
    "    !pip install -q datasets\n",
    "import datasets\n",
    "from datasets import load_dataset, Dataset, DatasetDict\n",
    "INPUT_DIR = '../input/us-patent-phrase-to-phrase-matching/'\n",
    "OUTPUT_DIR = './'\n",
    "if not os.path.exists(OUTPUT_DIR):\n",
    "    os.makedirs(OUTPUT_DIR)"
   ]
  },
  {
   "cell_type": "markdown",
   "id": "deaf7f04",
   "metadata": {
    "papermill": {
     "duration": 0.007692,
     "end_time": "2022-06-08T18:15:41.616973",
     "exception": false,
     "start_time": "2022-06-08T18:15:41.609281",
     "status": "completed"
    },
    "tags": []
   },
   "source": []
  },
  {
   "cell_type": "code",
   "execution_count": 4,
   "id": "23b00416",
   "metadata": {
    "execution": {
     "iopub.execute_input": "2022-06-08T18:15:41.634668Z",
     "iopub.status.busy": "2022-06-08T18:15:41.633764Z",
     "iopub.status.idle": "2022-06-08T18:15:41.639432Z",
     "shell.execute_reply": "2022-06-08T18:15:41.638427Z"
    },
    "papermill": {
     "duration": 0.016937,
     "end_time": "2022-06-08T18:15:41.641773",
     "exception": false,
     "start_time": "2022-06-08T18:15:41.624836",
     "status": "completed"
    },
    "tags": []
   },
   "outputs": [],
   "source": [
    "def get_score(y_true, y_pred):\n",
    "    score = stats.pearsonr(y_true, y_pred)[0]\n",
    "    return score"
   ]
  },
  {
   "cell_type": "code",
   "execution_count": 5,
   "id": "573d5bd6",
   "metadata": {
    "execution": {
     "iopub.execute_input": "2022-06-08T18:15:41.658894Z",
     "iopub.status.busy": "2022-06-08T18:15:41.658586Z",
     "iopub.status.idle": "2022-06-08T18:15:41.667889Z",
     "shell.execute_reply": "2022-06-08T18:15:41.666863Z"
    },
    "papermill": {
     "duration": 0.020769,
     "end_time": "2022-06-08T18:15:41.670309",
     "exception": false,
     "start_time": "2022-06-08T18:15:41.649540",
     "status": "completed"
    },
    "tags": []
   },
   "outputs": [],
   "source": [
    "def seed_everything(seed=42):\n",
    "    random.seed(seed)\n",
    "    os.environ['PYTHONHASHSEED'] = str(seed)\n",
    "    np.random.seed(seed)\n",
    "    torch.manual_seed(seed)\n",
    "    torch.cuda.manual_seed(seed)\n",
    "    torch.backends.cudnn.deterministic = True\n",
    "    \n",
    "seed_everything(seed=CFG.seed)"
   ]
  },
  {
   "cell_type": "markdown",
   "id": "2ce8e14a",
   "metadata": {
    "papermill": {
     "duration": 0.007736,
     "end_time": "2022-06-08T18:15:41.685798",
     "exception": false,
     "start_time": "2022-06-08T18:15:41.678062",
     "status": "completed"
    },
    "tags": []
   },
   "source": [
    "## Data Loading"
   ]
  },
  {
   "cell_type": "code",
   "execution_count": 6,
   "id": "cc9e1727",
   "metadata": {
    "execution": {
     "iopub.execute_input": "2022-06-08T18:15:41.702582Z",
     "iopub.status.busy": "2022-06-08T18:15:41.702267Z",
     "iopub.status.idle": "2022-06-08T18:15:41.747840Z",
     "shell.execute_reply": "2022-06-08T18:15:41.746577Z"
    },
    "papermill": {
     "duration": 0.057008,
     "end_time": "2022-06-08T18:15:41.750610",
     "exception": false,
     "start_time": "2022-06-08T18:15:41.693602",
     "status": "completed"
    },
    "tags": []
   },
   "outputs": [
    {
     "name": "stdout",
     "output_type": "stream",
     "text": [
      "test.shape: (36, 4)\n",
      "submission.shape: (36, 2)\n"
     ]
    },
    {
     "data": {
      "text/html": [
       "<div>\n",
       "<style scoped>\n",
       "    .dataframe tbody tr th:only-of-type {\n",
       "        vertical-align: middle;\n",
       "    }\n",
       "\n",
       "    .dataframe tbody tr th {\n",
       "        vertical-align: top;\n",
       "    }\n",
       "\n",
       "    .dataframe thead th {\n",
       "        text-align: right;\n",
       "    }\n",
       "</style>\n",
       "<table border=\"1\" class=\"dataframe\">\n",
       "  <thead>\n",
       "    <tr style=\"text-align: right;\">\n",
       "      <th></th>\n",
       "      <th>id</th>\n",
       "      <th>anchor</th>\n",
       "      <th>target</th>\n",
       "      <th>context</th>\n",
       "    </tr>\n",
       "  </thead>\n",
       "  <tbody>\n",
       "    <tr>\n",
       "      <th>0</th>\n",
       "      <td>4112d61851461f60</td>\n",
       "      <td>opc drum</td>\n",
       "      <td>inorganic photoconductor drum</td>\n",
       "      <td>G02</td>\n",
       "    </tr>\n",
       "    <tr>\n",
       "      <th>1</th>\n",
       "      <td>09e418c93a776564</td>\n",
       "      <td>adjust gas flow</td>\n",
       "      <td>altering gas flow</td>\n",
       "      <td>F23</td>\n",
       "    </tr>\n",
       "    <tr>\n",
       "      <th>2</th>\n",
       "      <td>36baf228038e314b</td>\n",
       "      <td>lower trunnion</td>\n",
       "      <td>lower locating</td>\n",
       "      <td>B60</td>\n",
       "    </tr>\n",
       "    <tr>\n",
       "      <th>3</th>\n",
       "      <td>1f37ead645e7f0c8</td>\n",
       "      <td>cap component</td>\n",
       "      <td>upper portion</td>\n",
       "      <td>D06</td>\n",
       "    </tr>\n",
       "    <tr>\n",
       "      <th>4</th>\n",
       "      <td>71a5b6ad068d531f</td>\n",
       "      <td>neural stimulation</td>\n",
       "      <td>artificial neural network</td>\n",
       "      <td>H04</td>\n",
       "    </tr>\n",
       "  </tbody>\n",
       "</table>\n",
       "</div>"
      ],
      "text/plain": [
       "                 id              anchor                         target context\n",
       "0  4112d61851461f60            opc drum  inorganic photoconductor drum     G02\n",
       "1  09e418c93a776564     adjust gas flow              altering gas flow     F23\n",
       "2  36baf228038e314b      lower trunnion                 lower locating     B60\n",
       "3  1f37ead645e7f0c8       cap component                  upper portion     D06\n",
       "4  71a5b6ad068d531f  neural stimulation      artificial neural network     H04"
      ]
     },
     "metadata": {},
     "output_type": "display_data"
    },
    {
     "data": {
      "text/html": [
       "<div>\n",
       "<style scoped>\n",
       "    .dataframe tbody tr th:only-of-type {\n",
       "        vertical-align: middle;\n",
       "    }\n",
       "\n",
       "    .dataframe tbody tr th {\n",
       "        vertical-align: top;\n",
       "    }\n",
       "\n",
       "    .dataframe thead th {\n",
       "        text-align: right;\n",
       "    }\n",
       "</style>\n",
       "<table border=\"1\" class=\"dataframe\">\n",
       "  <thead>\n",
       "    <tr style=\"text-align: right;\">\n",
       "      <th></th>\n",
       "      <th>id</th>\n",
       "      <th>score</th>\n",
       "    </tr>\n",
       "  </thead>\n",
       "  <tbody>\n",
       "    <tr>\n",
       "      <th>0</th>\n",
       "      <td>4112d61851461f60</td>\n",
       "      <td>0</td>\n",
       "    </tr>\n",
       "    <tr>\n",
       "      <th>1</th>\n",
       "      <td>09e418c93a776564</td>\n",
       "      <td>0</td>\n",
       "    </tr>\n",
       "    <tr>\n",
       "      <th>2</th>\n",
       "      <td>36baf228038e314b</td>\n",
       "      <td>0</td>\n",
       "    </tr>\n",
       "    <tr>\n",
       "      <th>3</th>\n",
       "      <td>1f37ead645e7f0c8</td>\n",
       "      <td>0</td>\n",
       "    </tr>\n",
       "    <tr>\n",
       "      <th>4</th>\n",
       "      <td>71a5b6ad068d531f</td>\n",
       "      <td>0</td>\n",
       "    </tr>\n",
       "  </tbody>\n",
       "</table>\n",
       "</div>"
      ],
      "text/plain": [
       "                 id  score\n",
       "0  4112d61851461f60      0\n",
       "1  09e418c93a776564      0\n",
       "2  36baf228038e314b      0\n",
       "3  1f37ead645e7f0c8      0\n",
       "4  71a5b6ad068d531f      0"
      ]
     },
     "metadata": {},
     "output_type": "display_data"
    }
   ],
   "source": [
    "test_df = pd.read_csv(INPUT_DIR+'test.csv')\n",
    "submission = pd.read_csv(INPUT_DIR+'sample_submission.csv')\n",
    "print(f\"test.shape: {test_df.shape}\")\n",
    "print(f\"submission.shape: {submission.shape}\")\n",
    "display(test_df.head())\n",
    "display(submission.head())"
   ]
  },
  {
   "cell_type": "code",
   "execution_count": 7,
   "id": "3d710e42",
   "metadata": {
    "execution": {
     "iopub.execute_input": "2022-06-08T18:15:41.768684Z",
     "iopub.status.busy": "2022-06-08T18:15:41.768335Z",
     "iopub.status.idle": "2022-06-08T18:15:42.756526Z",
     "shell.execute_reply": "2022-06-08T18:15:42.755342Z"
    },
    "papermill": {
     "duration": 1.000734,
     "end_time": "2022-06-08T18:15:42.759640",
     "exception": false,
     "start_time": "2022-06-08T18:15:41.758906",
     "status": "completed"
    },
    "tags": []
   },
   "outputs": [
    {
     "data": {
      "text/html": [
       "<div>\n",
       "<style scoped>\n",
       "    .dataframe tbody tr th:only-of-type {\n",
       "        vertical-align: middle;\n",
       "    }\n",
       "\n",
       "    .dataframe tbody tr th {\n",
       "        vertical-align: top;\n",
       "    }\n",
       "\n",
       "    .dataframe thead th {\n",
       "        text-align: right;\n",
       "    }\n",
       "</style>\n",
       "<table border=\"1\" class=\"dataframe\">\n",
       "  <thead>\n",
       "    <tr style=\"text-align: right;\">\n",
       "      <th></th>\n",
       "      <th>id</th>\n",
       "      <th>anchor</th>\n",
       "      <th>target</th>\n",
       "      <th>context</th>\n",
       "      <th>context_text</th>\n",
       "    </tr>\n",
       "  </thead>\n",
       "  <tbody>\n",
       "    <tr>\n",
       "      <th>0</th>\n",
       "      <td>4112d61851461f60</td>\n",
       "      <td>opc drum</td>\n",
       "      <td>inorganic photoconductor drum</td>\n",
       "      <td>G02</td>\n",
       "      <td>PHYSICS. OPTICS</td>\n",
       "    </tr>\n",
       "    <tr>\n",
       "      <th>1</th>\n",
       "      <td>09e418c93a776564</td>\n",
       "      <td>adjust gas flow</td>\n",
       "      <td>altering gas flow</td>\n",
       "      <td>F23</td>\n",
       "      <td>MECHANICAL ENGINEERING; LIGHTING; HEATING; WEA...</td>\n",
       "    </tr>\n",
       "    <tr>\n",
       "      <th>2</th>\n",
       "      <td>36baf228038e314b</td>\n",
       "      <td>lower trunnion</td>\n",
       "      <td>lower locating</td>\n",
       "      <td>B60</td>\n",
       "      <td>PERFORMING OPERATIONS; TRANSPORTING. VEHICLES ...</td>\n",
       "    </tr>\n",
       "    <tr>\n",
       "      <th>3</th>\n",
       "      <td>1f37ead645e7f0c8</td>\n",
       "      <td>cap component</td>\n",
       "      <td>upper portion</td>\n",
       "      <td>D06</td>\n",
       "      <td>TEXTILES; PAPER. TREATMENT OF TEXTILES OR THE ...</td>\n",
       "    </tr>\n",
       "    <tr>\n",
       "      <th>4</th>\n",
       "      <td>71a5b6ad068d531f</td>\n",
       "      <td>neural stimulation</td>\n",
       "      <td>artificial neural network</td>\n",
       "      <td>H04</td>\n",
       "      <td>ELECTRICITY. ELECTRIC COMMUNICATION TECHNIQUE</td>\n",
       "    </tr>\n",
       "  </tbody>\n",
       "</table>\n",
       "</div>"
      ],
      "text/plain": [
       "                 id              anchor                         target context                                       context_text\n",
       "0  4112d61851461f60            opc drum  inorganic photoconductor drum     G02                                    PHYSICS. OPTICS\n",
       "1  09e418c93a776564     adjust gas flow              altering gas flow     F23  MECHANICAL ENGINEERING; LIGHTING; HEATING; WEA...\n",
       "2  36baf228038e314b      lower trunnion                 lower locating     B60  PERFORMING OPERATIONS; TRANSPORTING. VEHICLES ...\n",
       "3  1f37ead645e7f0c8       cap component                  upper portion     D06  TEXTILES; PAPER. TREATMENT OF TEXTILES OR THE ...\n",
       "4  71a5b6ad068d531f  neural stimulation      artificial neural network     H04      ELECTRICITY. ELECTRIC COMMUNICATION TECHNIQUE"
      ]
     },
     "metadata": {},
     "output_type": "display_data"
    }
   ],
   "source": [
    "def get_cpc_texts():\n",
    "    contexts = []\n",
    "    pattern = '[A-Z]\\d+'\n",
    "    for file_name in os.listdir('../input/cpc-data/CPCSchemeXML202105'):\n",
    "        result = re.findall(pattern, file_name)\n",
    "        if result:\n",
    "            contexts.append(result)\n",
    "    contexts = sorted(set(sum(contexts, [])))\n",
    "    results = {}\n",
    "    for cpc in ['A', 'B', 'C', 'D', 'E', 'F', 'G', 'H', 'Y']:\n",
    "        with open(f'../input/cpc-data/CPCTitleList202202/cpc-section-{cpc}_20220201.txt') as f:\n",
    "            s = f.read()\n",
    "        pattern = f'{cpc}\\t\\t.+'\n",
    "        result = re.findall(pattern, s)\n",
    "        cpc_result = result[0].lstrip(pattern)\n",
    "        for context in [c for c in contexts if c[0] == cpc]:\n",
    "            pattern = f'{context}\\t\\t.+'\n",
    "            result = re.findall(pattern, s)\n",
    "            results[context] = cpc_result + \". \" + result[0].lstrip(pattern)\n",
    "    return results\n",
    "\n",
    "cpc_texts = get_cpc_texts()\n",
    "torch.save(cpc_texts, OUTPUT_DIR+\"cpc_texts.pth\")\n",
    "test_df['context_text'] = test_df['context'].map(cpc_texts)\n",
    "display(test_df.head())"
   ]
  },
  {
   "cell_type": "markdown",
   "id": "43d2416c",
   "metadata": {
    "papermill": {
     "duration": 0.014657,
     "end_time": "2022-06-08T18:15:42.788667",
     "exception": false,
     "start_time": "2022-06-08T18:15:42.774010",
     "status": "completed"
    },
    "tags": []
   },
   "source": [
    "## Tokenizer"
   ]
  },
  {
   "cell_type": "code",
   "execution_count": 8,
   "id": "b0fecd95",
   "metadata": {
    "execution": {
     "iopub.execute_input": "2022-06-08T18:15:42.811849Z",
     "iopub.status.busy": "2022-06-08T18:15:42.811426Z",
     "iopub.status.idle": "2022-06-08T18:15:42.943411Z",
     "shell.execute_reply": "2022-06-08T18:15:42.941638Z"
    },
    "papermill": {
     "duration": 0.144068,
     "end_time": "2022-06-08T18:15:42.946065",
     "exception": false,
     "start_time": "2022-06-08T18:15:42.801997",
     "status": "completed"
    },
    "tags": []
   },
   "outputs": [
    {
     "name": "stdout",
     "output_type": "stream",
     "text": [
      "['[UNK]', '[SEP]', '[PAD]', '[CLS]', '[MASK]']\n",
      "[SEP]\n"
     ]
    }
   ],
   "source": [
    "tokz = AutoTokenizer.from_pretrained(CFG.path + 'tokenizer')\n",
    "tokz.save_pretrained(OUTPUT_DIR+'tokenizer/')\n",
    "CFG.tokenizer = tokz\n",
    "print(tokz.all_special_tokens)\n",
    "sep = tokz.sep_token\n",
    "print(sep)"
   ]
  },
  {
   "cell_type": "code",
   "execution_count": 9,
   "id": "dca9fe3f",
   "metadata": {
    "execution": {
     "iopub.execute_input": "2022-06-08T18:15:42.965411Z",
     "iopub.status.busy": "2022-06-08T18:15:42.964918Z",
     "iopub.status.idle": "2022-06-08T18:15:42.981421Z",
     "shell.execute_reply": "2022-06-08T18:15:42.980340Z"
    },
    "papermill": {
     "duration": 0.028618,
     "end_time": "2022-06-08T18:15:42.983649",
     "exception": false,
     "start_time": "2022-06-08T18:15:42.955031",
     "status": "completed"
    },
    "tags": []
   },
   "outputs": [
    {
     "data": {
      "text/html": [
       "<div>\n",
       "<style scoped>\n",
       "    .dataframe tbody tr th:only-of-type {\n",
       "        vertical-align: middle;\n",
       "    }\n",
       "\n",
       "    .dataframe tbody tr th {\n",
       "        vertical-align: top;\n",
       "    }\n",
       "\n",
       "    .dataframe thead th {\n",
       "        text-align: right;\n",
       "    }\n",
       "</style>\n",
       "<table border=\"1\" class=\"dataframe\">\n",
       "  <thead>\n",
       "    <tr style=\"text-align: right;\">\n",
       "      <th></th>\n",
       "      <th>id</th>\n",
       "      <th>anchor</th>\n",
       "      <th>target</th>\n",
       "      <th>context</th>\n",
       "      <th>context_text</th>\n",
       "      <th>inputs</th>\n",
       "    </tr>\n",
       "  </thead>\n",
       "  <tbody>\n",
       "    <tr>\n",
       "      <th>0</th>\n",
       "      <td>4112d61851461f60</td>\n",
       "      <td>opc drum</td>\n",
       "      <td>inorganic photoconductor drum</td>\n",
       "      <td>G02</td>\n",
       "      <td>PHYSICS. OPTICS</td>\n",
       "      <td>opc drum[SEP]inorganic photoconductor drum[SEP...</td>\n",
       "    </tr>\n",
       "    <tr>\n",
       "      <th>1</th>\n",
       "      <td>09e418c93a776564</td>\n",
       "      <td>adjust gas flow</td>\n",
       "      <td>altering gas flow</td>\n",
       "      <td>F23</td>\n",
       "      <td>MECHANICAL ENGINEERING; LIGHTING; HEATING; WEA...</td>\n",
       "      <td>adjust gas flow[SEP]altering gas flow[SEP]MECH...</td>\n",
       "    </tr>\n",
       "    <tr>\n",
       "      <th>2</th>\n",
       "      <td>36baf228038e314b</td>\n",
       "      <td>lower trunnion</td>\n",
       "      <td>lower locating</td>\n",
       "      <td>B60</td>\n",
       "      <td>PERFORMING OPERATIONS; TRANSPORTING. VEHICLES ...</td>\n",
       "      <td>lower trunnion[SEP]lower locating[SEP]PERFORMI...</td>\n",
       "    </tr>\n",
       "    <tr>\n",
       "      <th>3</th>\n",
       "      <td>1f37ead645e7f0c8</td>\n",
       "      <td>cap component</td>\n",
       "      <td>upper portion</td>\n",
       "      <td>D06</td>\n",
       "      <td>TEXTILES; PAPER. TREATMENT OF TEXTILES OR THE ...</td>\n",
       "      <td>cap component[SEP]upper portion[SEP]TEXTILES; ...</td>\n",
       "    </tr>\n",
       "    <tr>\n",
       "      <th>4</th>\n",
       "      <td>71a5b6ad068d531f</td>\n",
       "      <td>neural stimulation</td>\n",
       "      <td>artificial neural network</td>\n",
       "      <td>H04</td>\n",
       "      <td>ELECTRICITY. ELECTRIC COMMUNICATION TECHNIQUE</td>\n",
       "      <td>neural stimulation[SEP]artificial neural netwo...</td>\n",
       "    </tr>\n",
       "  </tbody>\n",
       "</table>\n",
       "</div>"
      ],
      "text/plain": [
       "                 id              anchor                         target context                                       context_text                                             inputs\n",
       "0  4112d61851461f60            opc drum  inorganic photoconductor drum     G02                                    PHYSICS. OPTICS  opc drum[SEP]inorganic photoconductor drum[SEP...\n",
       "1  09e418c93a776564     adjust gas flow              altering gas flow     F23  MECHANICAL ENGINEERING; LIGHTING; HEATING; WEA...  adjust gas flow[SEP]altering gas flow[SEP]MECH...\n",
       "2  36baf228038e314b      lower trunnion                 lower locating     B60  PERFORMING OPERATIONS; TRANSPORTING. VEHICLES ...  lower trunnion[SEP]lower locating[SEP]PERFORMI...\n",
       "3  1f37ead645e7f0c8       cap component                  upper portion     D06  TEXTILES; PAPER. TREATMENT OF TEXTILES OR THE ...  cap component[SEP]upper portion[SEP]TEXTILES; ...\n",
       "4  71a5b6ad068d531f  neural stimulation      artificial neural network     H04      ELECTRICITY. ELECTRIC COMMUNICATION TECHNIQUE  neural stimulation[SEP]artificial neural netwo..."
      ]
     },
     "metadata": {},
     "output_type": "display_data"
    }
   ],
   "source": [
    "test_df['inputs'] = test_df.anchor + sep + test_df.target + sep + test_df.context_text\n",
    "display(test_df.head())"
   ]
  },
  {
   "cell_type": "markdown",
   "id": "4d3986a2",
   "metadata": {
    "papermill": {
     "duration": 0.008693,
     "end_time": "2022-06-08T18:15:43.001180",
     "exception": false,
     "start_time": "2022-06-08T18:15:42.992487",
     "status": "completed"
    },
    "tags": []
   },
   "source": [
    "## Build Dataset"
   ]
  },
  {
   "cell_type": "code",
   "execution_count": 10,
   "id": "9d3ba3e4",
   "metadata": {
    "execution": {
     "iopub.execute_input": "2022-06-08T18:15:43.021251Z",
     "iopub.status.busy": "2022-06-08T18:15:43.020238Z",
     "iopub.status.idle": "2022-06-08T18:15:43.029360Z",
     "shell.execute_reply": "2022-06-08T18:15:43.028360Z"
    },
    "papermill": {
     "duration": 0.021247,
     "end_time": "2022-06-08T18:15:43.031585",
     "exception": false,
     "start_time": "2022-06-08T18:15:43.010338",
     "status": "completed"
    },
    "tags": []
   },
   "outputs": [],
   "source": [
    "def prepare_input(cfg, text):\n",
    "    inputs = cfg.tokenizer(text,\n",
    "                           add_special_tokens=True,\n",
    "                           max_length=cfg.max_len,\n",
    "                           padding=\"max_length\",\n",
    "                           return_offsets_mapping=False)\n",
    "    for k, v in inputs.items():\n",
    "        inputs[k] = torch.tensor(v, dtype=torch.long)\n",
    "    return inputs\n",
    "\n",
    "class TestDataset(Dataset):\n",
    "    def __init__(self, cfg, ds):\n",
    "        self.cfg = cfg\n",
    "        self.inputs = ds['inputs']\n",
    "        \n",
    "    def __len__(self):\n",
    "        return len(self.inputs)\n",
    "    \n",
    "    def __getitem__(self, item):\n",
    "        inputs = prepare_input(self.cfg, self.inputs[item])\n",
    "        return inputs"
   ]
  },
  {
   "cell_type": "code",
   "execution_count": 11,
   "id": "dd0e4f39",
   "metadata": {
    "execution": {
     "iopub.execute_input": "2022-06-08T18:15:43.050672Z",
     "iopub.status.busy": "2022-06-08T18:15:43.050352Z",
     "iopub.status.idle": "2022-06-08T18:15:43.079259Z",
     "shell.execute_reply": "2022-06-08T18:15:43.078257Z"
    },
    "papermill": {
     "duration": 0.041341,
     "end_time": "2022-06-08T18:15:43.081656",
     "exception": false,
     "start_time": "2022-06-08T18:15:43.040315",
     "status": "completed"
    },
    "tags": []
   },
   "outputs": [],
   "source": [
    "test_ds = Dataset.from_pandas(test_df)\n",
    "test_dataset = TestDataset(CFG, test_ds)\n",
    "test_loader = DataLoader(test_dataset,\n",
    "                         batch_size=CFG.batch_size, shuffle=False,\n",
    "                         num_workers=CFG.num_workers, pin_memory=True, drop_last=False)"
   ]
  },
  {
   "cell_type": "markdown",
   "id": "fd70398b",
   "metadata": {
    "papermill": {
     "duration": 0.008754,
     "end_time": "2022-06-08T18:15:43.099800",
     "exception": false,
     "start_time": "2022-06-08T18:15:43.091046",
     "status": "completed"
    },
    "tags": []
   },
   "source": [
    "## Load Model"
   ]
  },
  {
   "cell_type": "code",
   "execution_count": 12,
   "id": "520922ea",
   "metadata": {
    "execution": {
     "iopub.execute_input": "2022-06-08T18:15:43.118996Z",
     "iopub.status.busy": "2022-06-08T18:15:43.118614Z",
     "iopub.status.idle": "2022-06-08T18:15:43.138441Z",
     "shell.execute_reply": "2022-06-08T18:15:43.137307Z"
    },
    "papermill": {
     "duration": 0.032199,
     "end_time": "2022-06-08T18:15:43.140741",
     "exception": false,
     "start_time": "2022-06-08T18:15:43.108542",
     "status": "completed"
    },
    "tags": []
   },
   "outputs": [],
   "source": [
    "class CustomModel(nn.Module):\n",
    "    def __init__(self, cfg, config_path=None, pretrained=False):\n",
    "        super().__init__()\n",
    "        self.cfg = cfg\n",
    "        if config_path is None:\n",
    "            self.config = AutoConfig.from_pretrained(cfg.model_name, output_hidden_states=True)\n",
    "        else:\n",
    "            self.config = torch.load(config_path)\n",
    "        if CFG.model_type == 'deberta':\n",
    "            if pretrained:\n",
    "                self.model = AutoModel.from_pretrained(cfg.model_name, config=self.config)\n",
    "            else:\n",
    "                self.model = AutoModel.from_config(self.config)\n",
    "            self.fc_dropout = nn.Dropout(cfg.fc_dropout)\n",
    "            self.fc = nn.Linear(self.config.hidden_size, self.cfg.target_size)\n",
    "            self._init_weights(self.fc)\n",
    "            self.attention = nn.Sequential(\n",
    "                nn.Linear(self.config.hidden_size, 512),\n",
    "                nn.Tanh(),\n",
    "                nn.Linear(512, 1),\n",
    "                nn.Softmax(dim=1)\n",
    "            )\n",
    "            self._init_weights(self.attention)\n",
    "        elif CFG.model_type == 'bert':\n",
    "            if pretrained:\n",
    "                self.model = AutoModel.from_pretrained(cfg.model_name, config=self.config)\n",
    "            else:\n",
    "                self.model = AutoModel.from_config(self.config)\n",
    "            self.head = nn.Linear(self.config.hidden_size, 1, bias=True)\n",
    "            self.dropout = nn.Dropout(0.5)\n",
    "            \n",
    "        \n",
    "    def _init_weights(self, module):\n",
    "        if isinstance(module, nn.Linear):\n",
    "            module.weight.data.normal_(mean=0.0, std=self.config.initializer_range)\n",
    "            if module.bias is not None:\n",
    "                module.bias.data.zero_()\n",
    "        elif isinstance(module, nn.Embedding):\n",
    "            module.weight.data.normal_(mean=0.0, std=self.config.initializer_range)\n",
    "            if module.padding_idx is not None:\n",
    "                module.weight.data[module.padding_idx].zero_()\n",
    "        elif isinstance(module, nn.LayerNorm):\n",
    "            module.bias.data.zero_()\n",
    "            module.weight.data.fill_(1.0)\n",
    "\n",
    "    def forward(self, inputs):\n",
    "        if CFG.model_type == 'deberta':\n",
    "            outputs = self.model(**inputs)\n",
    "            last_hidden_states = outputs[0]\n",
    "            # feature = torch.mean(last_hidden_states, 1)\n",
    "            weights = self.attention(last_hidden_states)\n",
    "            feats = torch.sum(weights * last_hidden_states, dim=1)\n",
    "            output = self.fc(self.fc_dropout(feats))\n",
    "        elif CFG.model_type == 'bert':\n",
    "            feats = self.model(**inputs)\n",
    "            feats = torch.sum(feats[0], 1)/feats[0].shape[1]\n",
    "            feats = self.dropout(feats)\n",
    "            output = self.head(feats)\n",
    "        return output"
   ]
  },
  {
   "cell_type": "code",
   "execution_count": null,
   "id": "ab97fddc",
   "metadata": {
    "papermill": {
     "duration": 0.00851,
     "end_time": "2022-06-08T18:15:43.158278",
     "exception": false,
     "start_time": "2022-06-08T18:15:43.149768",
     "status": "completed"
    },
    "tags": []
   },
   "outputs": [],
   "source": []
  },
  {
   "cell_type": "raw",
   "id": "6608b2a0",
   "metadata": {
    "papermill": {
     "duration": 0.009148,
     "end_time": "2022-06-08T18:15:43.176187",
     "exception": false,
     "start_time": "2022-06-08T18:15:43.167039",
     "status": "completed"
    },
    "tags": []
   },
   "source": []
  },
  {
   "cell_type": "code",
   "execution_count": 13,
   "id": "d2f204b3",
   "metadata": {
    "execution": {
     "iopub.execute_input": "2022-06-08T18:15:43.195819Z",
     "iopub.status.busy": "2022-06-08T18:15:43.195444Z",
     "iopub.status.idle": "2022-06-08T18:15:43.202843Z",
     "shell.execute_reply": "2022-06-08T18:15:43.201809Z"
    },
    "papermill": {
     "duration": 0.019883,
     "end_time": "2022-06-08T18:15:43.205246",
     "exception": false,
     "start_time": "2022-06-08T18:15:43.185363",
     "status": "completed"
    },
    "tags": []
   },
   "outputs": [],
   "source": [
    "def inference_fn(test_loader, model, device):\n",
    "    preds = []\n",
    "    model.eval()\n",
    "    model.to(device)\n",
    "    tk0 = tqdm(test_loader, total=len(test_loader))\n",
    "    for inputs in tk0:\n",
    "        for k, v in inputs.items():\n",
    "            inputs[k] = v.to(device)\n",
    "        with torch.no_grad():\n",
    "            y_preds = model(inputs)\n",
    "        preds.append(y_preds.sigmoid().to('cpu').numpy())\n",
    "    predictions = np.concatenate(preds)\n",
    "    return predictions"
   ]
  },
  {
   "cell_type": "code",
   "execution_count": 14,
   "id": "9d8ce5ce",
   "metadata": {
    "execution": {
     "iopub.execute_input": "2022-06-08T18:15:43.224666Z",
     "iopub.status.busy": "2022-06-08T18:15:43.224343Z",
     "iopub.status.idle": "2022-06-08T18:16:09.855649Z",
     "shell.execute_reply": "2022-06-08T18:16:09.854018Z"
    },
    "papermill": {
     "duration": 26.644091,
     "end_time": "2022-06-08T18:16:09.858403",
     "exception": false,
     "start_time": "2022-06-08T18:15:43.214312",
     "status": "completed"
    },
    "tags": []
   },
   "outputs": [
    {
     "data": {
      "application/vnd.jupyter.widget-view+json": {
       "model_id": "3691698b45bf4495824d49997ac2554d",
       "version_major": 2,
       "version_minor": 0
      },
      "text/plain": [
       "  0%|          | 0/3 [00:00<?, ?it/s]"
      ]
     },
     "metadata": {},
     "output_type": "display_data"
    }
   ],
   "source": [
    "predictions = []\n",
    "model = CustomModel(CFG, config_path=CFG.config_path, pretrained = False)\n",
    "state = torch.load(CFG.path+f\"{CFG.model_name.replace('/', '-')}_best.pth\",\n",
    "                  map_location=torch.device('cpu'))\n",
    "model.load_state_dict(state['model'])\n",
    "prediction = inference_fn(test_loader, model, device)\n",
    "predictions.append(prediction)\n",
    "\n",
    "predictions = np.mean(predictions,axis=0)"
   ]
  },
  {
   "cell_type": "code",
   "execution_count": 15,
   "id": "511b3ccd",
   "metadata": {
    "execution": {
     "iopub.execute_input": "2022-06-08T18:16:09.880207Z",
     "iopub.status.busy": "2022-06-08T18:16:09.879120Z",
     "iopub.status.idle": "2022-06-08T18:16:09.890146Z",
     "shell.execute_reply": "2022-06-08T18:16:09.889018Z"
    },
    "papermill": {
     "duration": 0.024018,
     "end_time": "2022-06-08T18:16:09.892307",
     "exception": false,
     "start_time": "2022-06-08T18:16:09.868289",
     "status": "completed"
    },
    "tags": []
   },
   "outputs": [
    {
     "data": {
      "text/plain": [
       "array([[4.9840662e-01],\n",
       "       [6.4862382e-01],\n",
       "       [4.6567169e-01],\n",
       "       [2.7261868e-01],\n",
       "       [1.2427785e-04],\n",
       "       [5.0456631e-01],\n",
       "       [4.6697956e-01],\n",
       "       [1.4561992e-04],\n",
       "       [2.4437392e-01],\n",
       "       [9.9858898e-01],\n",
       "       [2.7178407e-01],\n",
       "       [2.6364738e-01],\n",
       "       [7.5953579e-01],\n",
       "       [8.7590289e-01],\n",
       "       [7.6441365e-01],\n",
       "       [2.8777254e-01],\n",
       "       [3.1547588e-01],\n",
       "       [1.3133351e-04],\n",
       "       [4.6362427e-01],\n",
       "       [4.0322927e-01],\n",
       "       [4.2006066e-01],\n",
       "       [2.5187093e-01],\n",
       "       [2.7964514e-01],\n",
       "       [2.4864565e-01],\n",
       "       [5.1183647e-01],\n",
       "       [1.2067416e-04],\n",
       "       [6.8892172e-05],\n",
       "       [7.1039583e-05],\n",
       "       [2.1960847e-04],\n",
       "       [6.8790501e-01],\n",
       "       [2.1251523e-01],\n",
       "       [1.4590763e-04],\n",
       "       [7.6559198e-01],\n",
       "       [5.7012039e-01],\n",
       "       [2.4984114e-01],\n",
       "       [2.7074209e-01]], dtype=float32)"
      ]
     },
     "metadata": {},
     "output_type": "display_data"
    }
   ],
   "source": [
    "display(predictions)"
   ]
  },
  {
   "attachments": {
    "b0065068-706b-4698-80df-a87301d2aca1.png": {
     "image/png": "[encoded data removed]"
    }
   },
   "cell_type": "markdown",
   "id": "a9df61dd",
   "metadata": {
    "papermill": {
     "duration": 0.00914,
     "end_time": "2022-06-08T18:16:09.910621",
     "exception": false,
     "start_time": "2022-06-08T18:16:09.901481",
     "status": "completed"
    },
    "tags": []
   },
   "source": [
    "![image.png](attachment:b0065068-706b-4698-80df-a87301d2aca1.png)\n"
   ]
  },
  {
   "cell_type": "code",
   "execution_count": 16,
   "id": "b17f0e54",
   "metadata": {
    "execution": {
     "iopub.execute_input": "2022-06-08T18:16:09.930690Z",
     "iopub.status.busy": "2022-06-08T18:16:09.930364Z",
     "iopub.status.idle": "2022-06-08T18:16:09.954645Z",
     "shell.execute_reply": "2022-06-08T18:16:09.953619Z"
    },
    "papermill": {
     "duration": 0.036899,
     "end_time": "2022-06-08T18:16:09.957080",
     "exception": false,
     "start_time": "2022-06-08T18:16:09.920181",
     "status": "completed"
    },
    "tags": []
   },
   "outputs": [
    {
     "data": {
      "text/html": [
       "<div>\n",
       "<style scoped>\n",
       "    .dataframe tbody tr th:only-of-type {\n",
       "        vertical-align: middle;\n",
       "    }\n",
       "\n",
       "    .dataframe tbody tr th {\n",
       "        vertical-align: top;\n",
       "    }\n",
       "\n",
       "    .dataframe thead th {\n",
       "        text-align: right;\n",
       "    }\n",
       "</style>\n",
       "<table border=\"1\" class=\"dataframe\">\n",
       "  <thead>\n",
       "    <tr style=\"text-align: right;\">\n",
       "      <th></th>\n",
       "      <th>id</th>\n",
       "      <th>score</th>\n",
       "    </tr>\n",
       "  </thead>\n",
       "  <tbody>\n",
       "    <tr>\n",
       "      <th>0</th>\n",
       "      <td>4112d61851461f60</td>\n",
       "      <td>0.498407</td>\n",
       "    </tr>\n",
       "    <tr>\n",
       "      <th>1</th>\n",
       "      <td>09e418c93a776564</td>\n",
       "      <td>0.648624</td>\n",
       "    </tr>\n",
       "    <tr>\n",
       "      <th>2</th>\n",
       "      <td>36baf228038e314b</td>\n",
       "      <td>0.465672</td>\n",
       "    </tr>\n",
       "    <tr>\n",
       "      <th>3</th>\n",
       "      <td>1f37ead645e7f0c8</td>\n",
       "      <td>0.272619</td>\n",
       "    </tr>\n",
       "    <tr>\n",
       "      <th>4</th>\n",
       "      <td>71a5b6ad068d531f</td>\n",
       "      <td>0.000124</td>\n",
       "    </tr>\n",
       "  </tbody>\n",
       "</table>\n",
       "</div>"
      ],
      "text/plain": [
       "                 id     score\n",
       "0  4112d61851461f60  0.498407\n",
       "1  09e418c93a776564  0.648624\n",
       "2  36baf228038e314b  0.465672\n",
       "3  1f37ead645e7f0c8  0.272619\n",
       "4  71a5b6ad068d531f  0.000124"
      ]
     },
     "metadata": {},
     "output_type": "display_data"
    }
   ],
   "source": [
    "submission['score'] = predictions\n",
    "display(submission.head())\n",
    "submission[['id', 'score']].to_csv('submission.csv', index=False)"
   ]
  }
 ],
 "metadata": {
  "kernelspec": {
   "display_name": "Python 3",
   "language": "python",
   "name": "python3"
  },
  "language_info": {
   "codemirror_mode": {
    "name": "ipython",
    "version": 3
   },
   "file_extension": ".py",
   "mimetype": "text/x-python",
   "name": "python",
   "nbconvert_exporter": "python",
   "pygments_lexer": "ipython3",
   "version": "3.7.12"
  },
  "papermill": {
   "default_parameters": {},
   "duration": 84.50316,
   "end_time": "2022-06-08T18:16:12.788569",
   "environment_variables": {},
   "exception": null,
   "input_path": "__notebook__.ipynb",
   "output_path": "__notebook__.ipynb",
   "parameters": {},
   "start_time": "2022-06-08T18:14:48.285409",
   "version": "2.3.4"
  },
  "widgets": {
   "application/vnd.jupyter.widget-state+json": {
    "state": {
     "295377e5c3b1400db91fa37f65817053": {
      "model_module": "@jupyter-widgets/base",
      "model_module_version": "1.2.0",
      "model_name": "LayoutModel",
      "state": {
       "_model_module": "@jupyter-widgets/base",
       "_model_module_version": "1.2.0",
       "_model_name": "LayoutModel",
       "_view_count": null,
       "_view_module": "@jupyter-widgets/base",
       "_view_module_version": "1.2.0",
       "_view_name": "LayoutView",
       "align_content": null,
       "align_items": null,
       "align_self": null,
       "border": null,
       "bottom": null,
       "display": null,
       "flex": null,
       "flex_flow": null,
       "grid_area": null,
       "grid_auto_columns": null,
       "grid_auto_flow": null,
       "grid_auto_rows": null,
       "grid_column": null,
       "grid_gap": null,
       "grid_row": null,
       "grid_template_areas": null,
       "grid_template_columns": null,
       "grid_template_rows": null,
       "height": null,
       "justify_content": null,
       "justify_items": null,
       "left": null,
       "margin": null,
       "max_height": null,
       "max_width": null,
       "min_height": null,
       "min_width": null,
       "object_fit": null,
       "object_position": null,
       "order": null,
       "overflow": null,
       "overflow_x": null,
       "overflow_y": null,
       "padding": null,
       "right": null,
       "top": null,
       "visibility": null,
       "width": null
      }
     },
     "3691698b45bf4495824d49997ac2554d": {
      "model_module": "@jupyter-widgets/controls",
      "model_module_version": "1.5.0",
      "model_name": "HBoxModel",
      "state": {
       "_dom_classes": [],
       "_model_module": "@jupyter-widgets/controls",
       "_model_module_version": "1.5.0",
       "_model_name": "HBoxModel",
       "_view_count": null,
       "_view_module": "@jupyter-widgets/controls",
       "_view_module_version": "1.5.0",
       "_view_name": "HBoxView",
       "box_style": "",
       "children": [
        "IPY_MODEL_8eebc7ff74094dc288ac9d1714d91fcd",
        "IPY_MODEL_48a97b9011424e58bc92387f8c0f4d69",
        "IPY_MODEL_7c9c512396134f6ea3f0f3358f0de9f1"
       ],
       "layout": "IPY_MODEL_de8b25111348478590f25a38cbcda35a"
      }
     },
     "48a97b9011424e58bc92387f8c0f4d69": {
      "model_module": "@jupyter-widgets/controls",
      "model_module_version": "1.5.0",
      "model_name": "FloatProgressModel",
      "state": {
       "_dom_classes": [],
       "_model_module": "@jupyter-widgets/controls",
       "_model_module_version": "1.5.0",
       "_model_name": "FloatProgressModel",
       "_view_count": null,
       "_view_module": "@jupyter-widgets/controls",
       "_view_module_version": "1.5.0",
       "_view_name": "ProgressView",
       "bar_style": "success",
       "description": "",
       "description_tooltip": null,
       "layout": "IPY_MODEL_295377e5c3b1400db91fa37f65817053",
       "max": 3.0,
       "min": 0.0,
       "orientation": "horizontal",
       "style": "IPY_MODEL_da0592cc3131470e93779e0620f07c50",
       "value": 3.0
      }
     },
     "4c4b7c39a4ab43b78baf827b46f12929": {
      "model_module": "@jupyter-widgets/base",
      "model_module_version": "1.2.0",
      "model_name": "LayoutModel",
      "state": {
       "_model_module": "@jupyter-widgets/base",
       "_model_module_version": "1.2.0",
       "_model_name": "LayoutModel",
       "_view_count": null,
       "_view_module": "@jupyter-widgets/base",
       "_view_module_version": "1.2.0",
       "_view_name": "LayoutView",
       "align_content": null,
       "align_items": null,
       "align_self": null,
       "border": null,
       "bottom": null,
       "display": null,
       "flex": null,
       "flex_flow": null,
       "grid_area": null,
       "grid_auto_columns": null,
       "grid_auto_flow": null,
       "grid_auto_rows": null,
       "grid_column": null,
       "grid_gap": null,
       "grid_row": null,
       "grid_template_areas": null,
       "grid_template_columns": null,
       "grid_template_rows": null,
       "height": null,
       "justify_content": null,
       "justify_items": null,
       "left": null,
       "margin": null,
       "max_height": null,
       "max_width": null,
       "min_height": null,
       "min_width": null,
       "object_fit": null,
       "object_position": null,
       "order": null,
       "overflow": null,
       "overflow_x": null,
       "overflow_y": null,
       "padding": null,
       "right": null,
       "top": null,
       "visibility": null,
       "width": null
      }
     },
     "63da796900e24e1eab3cd36e6cb26662": {
      "model_module": "@jupyter-widgets/controls",
      "model_module_version": "1.5.0",
      "model_name": "DescriptionStyleModel",
      "state": {
       "_model_module": "@jupyter-widgets/controls",
       "_model_module_version": "1.5.0",
       "_model_name": "DescriptionStyleModel",
       "_view_count": null,
       "_view_module": "@jupyter-widgets/base",
       "_view_module_version": "1.2.0",
       "_view_name": "StyleView",
       "description_width": ""
      }
     },
     "6e0dd46da2b044a7a5c256bdc89bbd98": {
      "model_module": "@jupyter-widgets/controls",
      "model_module_version": "1.5.0",
      "model_name": "DescriptionStyleModel",
      "state": {
       "_model_module": "@jupyter-widgets/controls",
       "_model_module_version": "1.5.0",
       "_model_name": "DescriptionStyleModel",
       "_view_count": null,
       "_view_module": "@jupyter-widgets/base",
       "_view_module_version": "1.2.0",
       "_view_name": "StyleView",
       "description_width": ""
      }
     },
     "7c9c512396134f6ea3f0f3358f0de9f1": {
      "model_module": "@jupyter-widgets/controls",
      "model_module_version": "1.5.0",
      "model_name": "HTMLModel",
      "state": {
       "_dom_classes": [],
       "_model_module": "@jupyter-widgets/controls",
       "_model_module_version": "1.5.0",
       "_model_name": "HTMLModel",
       "_view_count": null,
       "_view_module": "@jupyter-widgets/controls",
       "_view_module_version": "1.5.0",
       "_view_name": "HTMLView",
       "description": "",
       "description_tooltip": null,
       "layout": "IPY_MODEL_4c4b7c39a4ab43b78baf827b46f12929",
       "placeholder": "​",
       "style": "IPY_MODEL_63da796900e24e1eab3cd36e6cb26662",
       "value": " 3/3 [00:02&lt;00:00,  1.06it/s]"
      }
     },
     "896427ff6e8c4212b270edb8e97b5de3": {
      "model_module": "@jupyter-widgets/base",
      "model_module_version": "1.2.0",
      "model_name": "LayoutModel",
      "state": {
       "_model_module": "@jupyter-widgets/base",
       "_model_module_version": "1.2.0",
       "_model_name": "LayoutModel",
       "_view_count": null,
       "_view_module": "@jupyter-widgets/base",
       "_view_module_version": "1.2.0",
       "_view_name": "LayoutView",
       "align_content": null,
       "align_items": null,
       "align_self": null,
       "border": null,
       "bottom": null,
       "display": null,
       "flex": null,
       "flex_flow": null,
       "grid_area": null,
       "grid_auto_columns": null,
       "grid_auto_flow": null,
       "grid_auto_rows": null,
       "grid_column": null,
       "grid_gap": null,
       "grid_row": null,
       "grid_template_areas": null,
       "grid_template_columns": null,
       "grid_template_rows": null,
       "height": null,
       "justify_content": null,
       "justify_items": null,
       "left": null,
       "margin": null,
       "max_height": null,
       "max_width": null,
       "min_height": null,
       "min_width": null,
       "object_fit": null,
       "object_position": null,
       "order": null,
       "overflow": null,
       "overflow_x": null,
       "overflow_y": null,
       "padding": null,
       "right": null,
       "top": null,
       "visibility": null,
       "width": null
      }
     },
     "8eebc7ff74094dc288ac9d1714d91fcd": {
      "model_module": "@jupyter-widgets/controls",
      "model_module_version": "1.5.0",
      "model_name": "HTMLModel",
      "state": {
       "_dom_classes": [],
       "_model_module": "@jupyter-widgets/controls",
       "_model_module_version": "1.5.0",
       "_model_name": "HTMLModel",
       "_view_count": null,
       "_view_module": "@jupyter-widgets/controls",
       "_view_module_version": "1.5.0",
       "_view_name": "HTMLView",
       "description": "",
       "description_tooltip": null,
       "layout": "IPY_MODEL_896427ff6e8c4212b270edb8e97b5de3",
       "placeholder": "​",
       "style": "IPY_MODEL_6e0dd46da2b044a7a5c256bdc89bbd98",
       "value": "100%"
      }
     },
     "da0592cc3131470e93779e0620f07c50": {
      "model_module": "@jupyter-widgets/controls",
      "model_module_version": "1.5.0",
      "model_name": "ProgressStyleModel",
      "state": {
       "_model_module": "@jupyter-widgets/controls",
       "_model_module_version": "1.5.0",
       "_model_name": "ProgressStyleModel",
       "_view_count": null,
       "_view_module": "@jupyter-widgets/base",
       "_view_module_version": "1.2.0",
       "_view_name": "StyleView",
       "bar_color": null,
       "description_width": ""
      }
     },
     "de8b25111348478590f25a38cbcda35a": {
      "model_module": "@jupyter-widgets/base",
      "model_module_version": "1.2.0",
      "model_name": "LayoutModel",
      "state": {
       "_model_module": "@jupyter-widgets/base",
       "_model_module_version": "1.2.0",
       "_model_name": "LayoutModel",
       "_view_count": null,
       "_view_module": "@jupyter-widgets/base",
       "_view_module_version": "1.2.0",
       "_view_name": "LayoutView",
       "align_content": null,
       "align_items": null,
       "align_self": null,
       "border": null,
       "bottom": null,
       "display": null,
       "flex": null,
       "flex_flow": null,
       "grid_area": null,
       "grid_auto_columns": null,
       "grid_auto_flow": null,
       "grid_auto_rows": null,
       "grid_column": null,
       "grid_gap": null,
       "grid_row": null,
       "grid_template_areas": null,
       "grid_template_columns": null,
       "grid_template_rows": null,
       "height": null,
       "justify_content": null,
       "justify_items": null,
       "left": null,
       "margin": null,
       "max_height": null,
       "max_width": null,
       "min_height": null,
       "min_width": null,
       "object_fit": null,
       "object_position": null,
       "order": null,
       "overflow": null,
       "overflow_x": null,
       "overflow_y": null,
       "padding": null,
       "right": null,
       "top": null,
       "visibility": null,
       "width": null
      }
     }
    },
    "version_major": 2,
    "version_minor": 0
   }
  }
 },
 "nbformat": 4,
 "nbformat_minor": 5
}
