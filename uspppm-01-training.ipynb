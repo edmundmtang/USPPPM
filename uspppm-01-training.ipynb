{
 "cells": [
  {
   "cell_type": "markdown",
   "id": "12c5c5bd",
   "metadata": {
    "papermill": {
     "duration": 0.046253,
     "end_time": "2022-06-03T18:25:55.457153",
     "exception": false,
     "start_time": "2022-06-03T18:25:55.410900",
     "status": "completed"
    },
    "tags": []
   },
   "source": [
    "# U.S. Patent Phrase to Phrase Matching\n",
    "This is a notebook for the [U.S. Patent Phrase to Phrase Matching competition](https://www.kaggle.com/competitions/us-patent-phrase-to-phrase-matching) based on:\n",
    "* [Jeremy Howard's notebook](https://www.kaggle.com/code/jhoward/iterate-like-a-grandmaster)\n",
    "* [Nayak Roshan's notebook](https://www.kaggle.com/code/nayakroshan/uspppm-pytorch-lightning)\n",
    "* [Y. Nakama's notebook](https://www.kaggle.com/code/yasufuminakama/pppm-deberta-v3-large-baseline-w-w-b-train/notebook)"
   ]
  },
  {
   "cell_type": "code",
   "execution_count": 1,
   "id": "b9c678cd",
   "metadata": {
    "_cell_guid": "b1076dfc-b9ad-4769-8c92-a6c4dae69d19",
    "_uuid": "8f2839f25d086af736a60e9eeb907d3b93b6e0e5",
    "execution": {
     "iopub.execute_input": "2022-06-03T18:25:55.543431Z",
     "iopub.status.busy": "2022-06-03T18:25:55.542829Z",
     "iopub.status.idle": "2022-06-03T18:26:03.356592Z",
     "shell.execute_reply": "2022-06-03T18:26:03.355561Z"
    },
    "papermill": {
     "duration": 7.859539,
     "end_time": "2022-06-03T18:26:03.359377",
     "exception": false,
     "start_time": "2022-06-03T18:25:55.499838",
     "status": "completed"
    },
    "tags": []
   },
   "outputs": [
    {
     "name": "stdout",
     "output_type": "stream",
     "text": [
      "torch.__version__: 1.11.0\n",
      "tokenizers.__version__: 0.12.1\n",
      "transformers.__version__: 4.18.0\n",
      "env: TOKENIZERS_PARALLELISM=true\n"
     ]
    }
   ],
   "source": [
    "import os\n",
    "import gc\n",
    "import re\n",
    "import time\n",
    "import math\n",
    "import random\n",
    "import warnings\n",
    "warnings.filterwarnings(\"ignore\")\n",
    "\n",
    "import scipy as sp\n",
    "from scipy import stats\n",
    "import numpy as np\n",
    "import pandas as pd\n",
    "pd.set_option('display.max_rows', 500)\n",
    "pd.set_option('display.max_columns', 500)\n",
    "pd.set_option('display.width', 1000)\n",
    "from tqdm.auto import tqdm\n",
    "\n",
    "import torch\n",
    "print(f\"torch.__version__: {torch.__version__}\")\n",
    "import torch.nn as nn\n",
    "from torch.nn import Parameter\n",
    "import torch.nn.functional as F\n",
    "from torch.optim import Adam, SGD, AdamW\n",
    "from torch.utils.data import DataLoader, Dataset\n",
    "\n",
    "import tokenizers\n",
    "import transformers\n",
    "print(f\"tokenizers.__version__: {tokenizers.__version__}\")\n",
    "print(f\"transformers.__version__: {transformers.__version__}\")\n",
    "from transformers import AutoTokenizer, AutoModel, AutoConfig, AutoModelForSequenceClassification, BertForSequenceClassification\n",
    "from transformers import get_linear_schedule_with_warmup, get_cosine_schedule_with_warmup\n",
    "%env TOKENIZERS_PARALLELISM=true\n",
    "\n",
    "device = torch.device('cuda' if torch.cuda.is_available() else 'cpu')"
   ]
  },
  {
   "cell_type": "code",
   "execution_count": 2,
   "id": "53502fbf",
   "metadata": {
    "execution": {
     "iopub.execute_input": "2022-06-03T18:26:03.445373Z",
     "iopub.status.busy": "2022-06-03T18:26:03.445132Z",
     "iopub.status.idle": "2022-06-03T18:26:14.433684Z",
     "shell.execute_reply": "2022-06-03T18:26:14.432897Z"
    },
    "papermill": {
     "duration": 11.033852,
     "end_time": "2022-06-03T18:26:14.436153",
     "exception": false,
     "start_time": "2022-06-03T18:26:03.402301",
     "status": "completed"
    },
    "tags": []
   },
   "outputs": [
    {
     "name": "stdout",
     "output_type": "stream",
     "text": [
      "\u001b[33mWARNING: Running pip as the 'root' user can result in broken permissions and conflicting behaviour with the system package manager. It is recommended to use a virtual environment instead: https://pip.pypa.io/warnings/venv\u001b[0m\u001b[33m\r\n",
      "\u001b[0m"
     ]
    }
   ],
   "source": [
    "iskaggle = os.environ.get('KAGGLE_KERNEL_RUN_TYPE', '')\n",
    "if iskaggle:\n",
    "    !pip install -q datasets\n",
    "import datasets\n",
    "from datasets import load_dataset, Dataset, DatasetDict\n",
    "INPUT_DIR = '../input/us-patent-phrase-to-phrase-matching/'\n",
    "OUTPUT_DIR = './'\n",
    "if not os.path.exists(OUTPUT_DIR):\n",
    "    os.makedirs(OUTPUT_DIR)"
   ]
  },
  {
   "cell_type": "markdown",
   "id": "39fd5198",
   "metadata": {
    "papermill": {
     "duration": 0.04123,
     "end_time": "2022-06-03T18:26:14.519223",
     "exception": false,
     "start_time": "2022-06-03T18:26:14.477993",
     "status": "completed"
    },
    "tags": []
   },
   "source": [
    "## Configuration"
   ]
  },
  {
   "cell_type": "code",
   "execution_count": 3,
   "id": "b65e42a5",
   "metadata": {
    "execution": {
     "iopub.execute_input": "2022-06-03T18:26:14.604690Z",
     "iopub.status.busy": "2022-06-03T18:26:14.604426Z",
     "iopub.status.idle": "2022-06-03T18:26:14.611197Z",
     "shell.execute_reply": "2022-06-03T18:26:14.610372Z"
    },
    "papermill": {
     "duration": 0.051791,
     "end_time": "2022-06-03T18:26:14.613380",
     "exception": false,
     "start_time": "2022-06-03T18:26:14.561589",
     "status": "completed"
    },
    "tags": []
   },
   "outputs": [],
   "source": [
    "class CFG:\n",
    "    model_type = 'deberta' # ['bert', 'deberta']\n",
    "    model_name = 'microsoft/deberta-v3-large' # ['anferico/bert-for-patents' ''../input/bert-for-patent/bert-for-patents/', 'microsoft/deberta-v3-large']\n",
    "    max_len = 150\n",
    "    val_size = 0.25\n",
    "    seed = 42\n",
    "    batch_size = 16\n",
    "    num_workers = 4\n",
    "    encoder_lr = 2e-5\n",
    "    decoder_lr = 2e-5\n",
    "    weight_decay = 0.01\n",
    "    eps = 1e-6\n",
    "    betas = (0.9, 0.999)\n",
    "    num_cycles=0.5\n",
    "    num_warmup_steps = 0\n",
    "    scheduler = 'cosine' # ['linear','cosine']\n",
    "    batch_scheduler = True\n",
    "    fc_dropout = 0.20\n",
    "    target_size = 1\n",
    "    epochs = 3\n",
    "    train = True\n",
    "    apex = True\n",
    "    gradient_accumulation_steps = 1\n",
    "    max_grad_norm = 1000\n",
    "    print_freq = 50\n",
    "    debug = False\n",
    "    \n",
    "if CFG.debug:\n",
    "    CFG.epochs = 2\n",
    "    CFG.trn_fold = [0]"
   ]
  },
  {
   "cell_type": "code",
   "execution_count": 4,
   "id": "9d9ace42",
   "metadata": {
    "execution": {
     "iopub.execute_input": "2022-06-03T18:26:14.696654Z",
     "iopub.status.busy": "2022-06-03T18:26:14.696427Z",
     "iopub.status.idle": "2022-06-03T18:26:14.704105Z",
     "shell.execute_reply": "2022-06-03T18:26:14.703495Z"
    },
    "papermill": {
     "duration": 0.051284,
     "end_time": "2022-06-03T18:26:14.705720",
     "exception": false,
     "start_time": "2022-06-03T18:26:14.654436",
     "status": "completed"
    },
    "tags": []
   },
   "outputs": [],
   "source": [
    "def seed_everything(seed=42):\n",
    "    random.seed(seed)\n",
    "    os.environ['PYTHONHASHSEED'] = str(seed)\n",
    "    np.random.seed(seed)\n",
    "    torch.manual_seed(seed)\n",
    "    torch.cuda.manual_seed(seed)\n",
    "    torch.backends.cudnn.deterministic = True\n",
    "    \n",
    "seed_everything(seed=CFG.seed)"
   ]
  },
  {
   "cell_type": "markdown",
   "id": "d809e874",
   "metadata": {
    "papermill": {
     "duration": 0.040851,
     "end_time": "2022-06-03T18:26:14.787646",
     "exception": false,
     "start_time": "2022-06-03T18:26:14.746795",
     "status": "completed"
    },
    "tags": []
   },
   "source": [
    "## Load Data"
   ]
  },
  {
   "cell_type": "code",
   "execution_count": 5,
   "id": "ae8bd761",
   "metadata": {
    "execution": {
     "iopub.execute_input": "2022-06-03T18:26:14.872292Z",
     "iopub.status.busy": "2022-06-03T18:26:14.871737Z",
     "iopub.status.idle": "2022-06-03T18:26:14.999872Z",
     "shell.execute_reply": "2022-06-03T18:26:14.999077Z"
    },
    "papermill": {
     "duration": 0.173825,
     "end_time": "2022-06-03T18:26:15.003228",
     "exception": false,
     "start_time": "2022-06-03T18:26:14.829403",
     "status": "completed"
    },
    "tags": []
   },
   "outputs": [
    {
     "data": {
      "text/html": [
       "<div>\n",
       "<style scoped>\n",
       "    .dataframe tbody tr th:only-of-type {\n",
       "        vertical-align: middle;\n",
       "    }\n",
       "\n",
       "    .dataframe tbody tr th {\n",
       "        vertical-align: top;\n",
       "    }\n",
       "\n",
       "    .dataframe thead th {\n",
       "        text-align: right;\n",
       "    }\n",
       "</style>\n",
       "<table border=\"1\" class=\"dataframe\">\n",
       "  <thead>\n",
       "    <tr style=\"text-align: right;\">\n",
       "      <th></th>\n",
       "      <th>id</th>\n",
       "      <th>anchor</th>\n",
       "      <th>target</th>\n",
       "      <th>context</th>\n",
       "      <th>score</th>\n",
       "    </tr>\n",
       "  </thead>\n",
       "  <tbody>\n",
       "    <tr>\n",
       "      <th>0</th>\n",
       "      <td>37d61fd2272659b1</td>\n",
       "      <td>abatement</td>\n",
       "      <td>abatement of pollution</td>\n",
       "      <td>A47</td>\n",
       "      <td>0.50</td>\n",
       "    </tr>\n",
       "    <tr>\n",
       "      <th>1</th>\n",
       "      <td>7b9652b17b68b7a4</td>\n",
       "      <td>abatement</td>\n",
       "      <td>act of abating</td>\n",
       "      <td>A47</td>\n",
       "      <td>0.75</td>\n",
       "    </tr>\n",
       "    <tr>\n",
       "      <th>2</th>\n",
       "      <td>36d72442aefd8232</td>\n",
       "      <td>abatement</td>\n",
       "      <td>active catalyst</td>\n",
       "      <td>A47</td>\n",
       "      <td>0.25</td>\n",
       "    </tr>\n",
       "    <tr>\n",
       "      <th>3</th>\n",
       "      <td>5296b0c19e1ce60e</td>\n",
       "      <td>abatement</td>\n",
       "      <td>eliminating process</td>\n",
       "      <td>A47</td>\n",
       "      <td>0.50</td>\n",
       "    </tr>\n",
       "    <tr>\n",
       "      <th>4</th>\n",
       "      <td>54c1e3b9184cb5b6</td>\n",
       "      <td>abatement</td>\n",
       "      <td>forest region</td>\n",
       "      <td>A47</td>\n",
       "      <td>0.00</td>\n",
       "    </tr>\n",
       "  </tbody>\n",
       "</table>\n",
       "</div>"
      ],
      "text/plain": [
       "                 id     anchor                  target context  score\n",
       "0  37d61fd2272659b1  abatement  abatement of pollution     A47   0.50\n",
       "1  7b9652b17b68b7a4  abatement          act of abating     A47   0.75\n",
       "2  36d72442aefd8232  abatement         active catalyst     A47   0.25\n",
       "3  5296b0c19e1ce60e  abatement     eliminating process     A47   0.50\n",
       "4  54c1e3b9184cb5b6  abatement           forest region     A47   0.00"
      ]
     },
     "metadata": {},
     "output_type": "display_data"
    },
    {
     "name": "stdout",
     "output_type": "stream",
     "text": [
      "df.shape: (36473, 5)\n"
     ]
    },
    {
     "data": {
      "text/html": [
       "<div>\n",
       "<style scoped>\n",
       "    .dataframe tbody tr th:only-of-type {\n",
       "        vertical-align: middle;\n",
       "    }\n",
       "\n",
       "    .dataframe tbody tr th {\n",
       "        vertical-align: top;\n",
       "    }\n",
       "\n",
       "    .dataframe thead th {\n",
       "        text-align: right;\n",
       "    }\n",
       "</style>\n",
       "<table border=\"1\" class=\"dataframe\">\n",
       "  <thead>\n",
       "    <tr style=\"text-align: right;\">\n",
       "      <th></th>\n",
       "      <th>id</th>\n",
       "      <th>anchor</th>\n",
       "      <th>target</th>\n",
       "      <th>context</th>\n",
       "    </tr>\n",
       "  </thead>\n",
       "  <tbody>\n",
       "    <tr>\n",
       "      <th>0</th>\n",
       "      <td>4112d61851461f60</td>\n",
       "      <td>opc drum</td>\n",
       "      <td>inorganic photoconductor drum</td>\n",
       "      <td>G02</td>\n",
       "    </tr>\n",
       "    <tr>\n",
       "      <th>1</th>\n",
       "      <td>09e418c93a776564</td>\n",
       "      <td>adjust gas flow</td>\n",
       "      <td>altering gas flow</td>\n",
       "      <td>F23</td>\n",
       "    </tr>\n",
       "    <tr>\n",
       "      <th>2</th>\n",
       "      <td>36baf228038e314b</td>\n",
       "      <td>lower trunnion</td>\n",
       "      <td>lower locating</td>\n",
       "      <td>B60</td>\n",
       "    </tr>\n",
       "    <tr>\n",
       "      <th>3</th>\n",
       "      <td>1f37ead645e7f0c8</td>\n",
       "      <td>cap component</td>\n",
       "      <td>upper portion</td>\n",
       "      <td>D06</td>\n",
       "    </tr>\n",
       "    <tr>\n",
       "      <th>4</th>\n",
       "      <td>71a5b6ad068d531f</td>\n",
       "      <td>neural stimulation</td>\n",
       "      <td>artificial neural network</td>\n",
       "      <td>H04</td>\n",
       "    </tr>\n",
       "  </tbody>\n",
       "</table>\n",
       "</div>"
      ],
      "text/plain": [
       "                 id              anchor                         target context\n",
       "0  4112d61851461f60            opc drum  inorganic photoconductor drum     G02\n",
       "1  09e418c93a776564     adjust gas flow              altering gas flow     F23\n",
       "2  36baf228038e314b      lower trunnion                 lower locating     B60\n",
       "3  1f37ead645e7f0c8       cap component                  upper portion     D06\n",
       "4  71a5b6ad068d531f  neural stimulation      artificial neural network     H04"
      ]
     },
     "metadata": {},
     "output_type": "display_data"
    },
    {
     "name": "stdout",
     "output_type": "stream",
     "text": [
      "test_df.shape: (36, 4)\n"
     ]
    },
    {
     "data": {
      "text/html": [
       "<div>\n",
       "<style scoped>\n",
       "    .dataframe tbody tr th:only-of-type {\n",
       "        vertical-align: middle;\n",
       "    }\n",
       "\n",
       "    .dataframe tbody tr th {\n",
       "        vertical-align: top;\n",
       "    }\n",
       "\n",
       "    .dataframe thead th {\n",
       "        text-align: right;\n",
       "    }\n",
       "</style>\n",
       "<table border=\"1\" class=\"dataframe\">\n",
       "  <thead>\n",
       "    <tr style=\"text-align: right;\">\n",
       "      <th></th>\n",
       "      <th>id</th>\n",
       "      <th>score</th>\n",
       "    </tr>\n",
       "  </thead>\n",
       "  <tbody>\n",
       "    <tr>\n",
       "      <th>0</th>\n",
       "      <td>4112d61851461f60</td>\n",
       "      <td>0</td>\n",
       "    </tr>\n",
       "    <tr>\n",
       "      <th>1</th>\n",
       "      <td>09e418c93a776564</td>\n",
       "      <td>0</td>\n",
       "    </tr>\n",
       "    <tr>\n",
       "      <th>2</th>\n",
       "      <td>36baf228038e314b</td>\n",
       "      <td>0</td>\n",
       "    </tr>\n",
       "    <tr>\n",
       "      <th>3</th>\n",
       "      <td>1f37ead645e7f0c8</td>\n",
       "      <td>0</td>\n",
       "    </tr>\n",
       "    <tr>\n",
       "      <th>4</th>\n",
       "      <td>71a5b6ad068d531f</td>\n",
       "      <td>0</td>\n",
       "    </tr>\n",
       "  </tbody>\n",
       "</table>\n",
       "</div>"
      ],
      "text/plain": [
       "                 id  score\n",
       "0  4112d61851461f60      0\n",
       "1  09e418c93a776564      0\n",
       "2  36baf228038e314b      0\n",
       "3  1f37ead645e7f0c8      0\n",
       "4  71a5b6ad068d531f      0"
      ]
     },
     "metadata": {},
     "output_type": "display_data"
    },
    {
     "name": "stdout",
     "output_type": "stream",
     "text": [
      "submission.shape: (36, 2)\n"
     ]
    }
   ],
   "source": [
    "df = pd.read_csv(INPUT_DIR + '/train.csv')\n",
    "test_df = pd.read_csv(INPUT_DIR + 'test.csv')\n",
    "submission = pd.read_csv(INPUT_DIR + 'sample_submission.csv')\n",
    "display(df.head())\n",
    "print(f\"df.shape: {df.shape}\")\n",
    "display(test_df.head())\n",
    "print(f\"test_df.shape: {test_df.shape}\")\n",
    "display(submission.head())\n",
    "print(f\"submission.shape: {submission.shape}\")"
   ]
  },
  {
   "cell_type": "code",
   "execution_count": 6,
   "id": "62f91d50",
   "metadata": {
    "execution": {
     "iopub.execute_input": "2022-06-03T18:26:15.097673Z",
     "iopub.status.busy": "2022-06-03T18:26:15.097178Z",
     "iopub.status.idle": "2022-06-03T18:26:15.908406Z",
     "shell.execute_reply": "2022-06-03T18:26:15.907670Z"
    },
    "papermill": {
     "duration": 0.858933,
     "end_time": "2022-06-03T18:26:15.910476",
     "exception": false,
     "start_time": "2022-06-03T18:26:15.051543",
     "status": "completed"
    },
    "tags": []
   },
   "outputs": [
    {
     "data": {
      "text/html": [
       "<div>\n",
       "<style scoped>\n",
       "    .dataframe tbody tr th:only-of-type {\n",
       "        vertical-align: middle;\n",
       "    }\n",
       "\n",
       "    .dataframe tbody tr th {\n",
       "        vertical-align: top;\n",
       "    }\n",
       "\n",
       "    .dataframe thead th {\n",
       "        text-align: right;\n",
       "    }\n",
       "</style>\n",
       "<table border=\"1\" class=\"dataframe\">\n",
       "  <thead>\n",
       "    <tr style=\"text-align: right;\">\n",
       "      <th></th>\n",
       "      <th>id</th>\n",
       "      <th>anchor</th>\n",
       "      <th>target</th>\n",
       "      <th>context</th>\n",
       "      <th>score</th>\n",
       "      <th>context_text</th>\n",
       "    </tr>\n",
       "  </thead>\n",
       "  <tbody>\n",
       "    <tr>\n",
       "      <th>0</th>\n",
       "      <td>37d61fd2272659b1</td>\n",
       "      <td>abatement</td>\n",
       "      <td>abatement of pollution</td>\n",
       "      <td>A47</td>\n",
       "      <td>0.50</td>\n",
       "      <td>HUMAN NECESSITIES. FURNITURE; DOMESTIC ARTICLE...</td>\n",
       "    </tr>\n",
       "    <tr>\n",
       "      <th>1</th>\n",
       "      <td>7b9652b17b68b7a4</td>\n",
       "      <td>abatement</td>\n",
       "      <td>act of abating</td>\n",
       "      <td>A47</td>\n",
       "      <td>0.75</td>\n",
       "      <td>HUMAN NECESSITIES. FURNITURE; DOMESTIC ARTICLE...</td>\n",
       "    </tr>\n",
       "    <tr>\n",
       "      <th>2</th>\n",
       "      <td>36d72442aefd8232</td>\n",
       "      <td>abatement</td>\n",
       "      <td>active catalyst</td>\n",
       "      <td>A47</td>\n",
       "      <td>0.25</td>\n",
       "      <td>HUMAN NECESSITIES. FURNITURE; DOMESTIC ARTICLE...</td>\n",
       "    </tr>\n",
       "    <tr>\n",
       "      <th>3</th>\n",
       "      <td>5296b0c19e1ce60e</td>\n",
       "      <td>abatement</td>\n",
       "      <td>eliminating process</td>\n",
       "      <td>A47</td>\n",
       "      <td>0.50</td>\n",
       "      <td>HUMAN NECESSITIES. FURNITURE; DOMESTIC ARTICLE...</td>\n",
       "    </tr>\n",
       "    <tr>\n",
       "      <th>4</th>\n",
       "      <td>54c1e3b9184cb5b6</td>\n",
       "      <td>abatement</td>\n",
       "      <td>forest region</td>\n",
       "      <td>A47</td>\n",
       "      <td>0.00</td>\n",
       "      <td>HUMAN NECESSITIES. FURNITURE; DOMESTIC ARTICLE...</td>\n",
       "    </tr>\n",
       "  </tbody>\n",
       "</table>\n",
       "</div>"
      ],
      "text/plain": [
       "                 id     anchor                  target context  score                                       context_text\n",
       "0  37d61fd2272659b1  abatement  abatement of pollution     A47   0.50  HUMAN NECESSITIES. FURNITURE; DOMESTIC ARTICLE...\n",
       "1  7b9652b17b68b7a4  abatement          act of abating     A47   0.75  HUMAN NECESSITIES. FURNITURE; DOMESTIC ARTICLE...\n",
       "2  36d72442aefd8232  abatement         active catalyst     A47   0.25  HUMAN NECESSITIES. FURNITURE; DOMESTIC ARTICLE...\n",
       "3  5296b0c19e1ce60e  abatement     eliminating process     A47   0.50  HUMAN NECESSITIES. FURNITURE; DOMESTIC ARTICLE...\n",
       "4  54c1e3b9184cb5b6  abatement           forest region     A47   0.00  HUMAN NECESSITIES. FURNITURE; DOMESTIC ARTICLE..."
      ]
     },
     "metadata": {},
     "output_type": "display_data"
    },
    {
     "data": {
      "text/html": [
       "<div>\n",
       "<style scoped>\n",
       "    .dataframe tbody tr th:only-of-type {\n",
       "        vertical-align: middle;\n",
       "    }\n",
       "\n",
       "    .dataframe tbody tr th {\n",
       "        vertical-align: top;\n",
       "    }\n",
       "\n",
       "    .dataframe thead th {\n",
       "        text-align: right;\n",
       "    }\n",
       "</style>\n",
       "<table border=\"1\" class=\"dataframe\">\n",
       "  <thead>\n",
       "    <tr style=\"text-align: right;\">\n",
       "      <th></th>\n",
       "      <th>id</th>\n",
       "      <th>anchor</th>\n",
       "      <th>target</th>\n",
       "      <th>context</th>\n",
       "      <th>context_text</th>\n",
       "    </tr>\n",
       "  </thead>\n",
       "  <tbody>\n",
       "    <tr>\n",
       "      <th>0</th>\n",
       "      <td>4112d61851461f60</td>\n",
       "      <td>opc drum</td>\n",
       "      <td>inorganic photoconductor drum</td>\n",
       "      <td>G02</td>\n",
       "      <td>PHYSICS. OPTICS</td>\n",
       "    </tr>\n",
       "    <tr>\n",
       "      <th>1</th>\n",
       "      <td>09e418c93a776564</td>\n",
       "      <td>adjust gas flow</td>\n",
       "      <td>altering gas flow</td>\n",
       "      <td>F23</td>\n",
       "      <td>MECHANICAL ENGINEERING; LIGHTING; HEATING; WEA...</td>\n",
       "    </tr>\n",
       "    <tr>\n",
       "      <th>2</th>\n",
       "      <td>36baf228038e314b</td>\n",
       "      <td>lower trunnion</td>\n",
       "      <td>lower locating</td>\n",
       "      <td>B60</td>\n",
       "      <td>PERFORMING OPERATIONS; TRANSPORTING. VEHICLES ...</td>\n",
       "    </tr>\n",
       "    <tr>\n",
       "      <th>3</th>\n",
       "      <td>1f37ead645e7f0c8</td>\n",
       "      <td>cap component</td>\n",
       "      <td>upper portion</td>\n",
       "      <td>D06</td>\n",
       "      <td>TEXTILES; PAPER. TREATMENT OF TEXTILES OR THE ...</td>\n",
       "    </tr>\n",
       "    <tr>\n",
       "      <th>4</th>\n",
       "      <td>71a5b6ad068d531f</td>\n",
       "      <td>neural stimulation</td>\n",
       "      <td>artificial neural network</td>\n",
       "      <td>H04</td>\n",
       "      <td>ELECTRICITY. ELECTRIC COMMUNICATION TECHNIQUE</td>\n",
       "    </tr>\n",
       "  </tbody>\n",
       "</table>\n",
       "</div>"
      ],
      "text/plain": [
       "                 id              anchor                         target context                                       context_text\n",
       "0  4112d61851461f60            opc drum  inorganic photoconductor drum     G02                                    PHYSICS. OPTICS\n",
       "1  09e418c93a776564     adjust gas flow              altering gas flow     F23  MECHANICAL ENGINEERING; LIGHTING; HEATING; WEA...\n",
       "2  36baf228038e314b      lower trunnion                 lower locating     B60  PERFORMING OPERATIONS; TRANSPORTING. VEHICLES ...\n",
       "3  1f37ead645e7f0c8       cap component                  upper portion     D06  TEXTILES; PAPER. TREATMENT OF TEXTILES OR THE ...\n",
       "4  71a5b6ad068d531f  neural stimulation      artificial neural network     H04      ELECTRICITY. ELECTRIC COMMUNICATION TECHNIQUE"
      ]
     },
     "metadata": {},
     "output_type": "display_data"
    }
   ],
   "source": [
    "def get_cpc_texts():\n",
    "    contexts = []\n",
    "    pattern = '[A-Z]\\d+'\n",
    "    for file_name in os.listdir('../input/cpc-data/CPCSchemeXML202105'):\n",
    "        result = re.findall(pattern, file_name)\n",
    "        if result:\n",
    "            contexts.append(result)\n",
    "    contexts = sorted(set(sum(contexts, [])))\n",
    "    results = {}\n",
    "    for cpc in ['A', 'B', 'C', 'D', 'E', 'F', 'G', 'H', 'Y']:\n",
    "        with open(f'../input/cpc-data/CPCTitleList202202/cpc-section-{cpc}_20220201.txt') as f:\n",
    "            s = f.read()\n",
    "        pattern = f'{cpc}\\t\\t.+'\n",
    "        result = re.findall(pattern, s)\n",
    "        cpc_result = result[0].lstrip(pattern)\n",
    "        for context in [c for c in contexts if c[0] == cpc]:\n",
    "            pattern = f'{context}\\t\\t.+'\n",
    "            result = re.findall(pattern, s)\n",
    "            results[context] = cpc_result + \". \" + result[0].lstrip(pattern)\n",
    "    return results\n",
    "\n",
    "cpc_texts = get_cpc_texts()\n",
    "torch.save(cpc_texts, OUTPUT_DIR+\"cpc_texts.pth\")\n",
    "df['context_text'] = df['context'].map(cpc_texts)\n",
    "test_df['context_text'] = test_df['context'].map(cpc_texts)\n",
    "display(df.head())\n",
    "display(test_df.head())"
   ]
  },
  {
   "cell_type": "code",
   "execution_count": 7,
   "id": "fc8aea07",
   "metadata": {
    "execution": {
     "iopub.execute_input": "2022-06-03T18:26:16.005681Z",
     "iopub.status.busy": "2022-06-03T18:26:16.005086Z",
     "iopub.status.idle": "2022-06-03T18:26:16.026249Z",
     "shell.execute_reply": "2022-06-03T18:26:16.025586Z"
    },
    "papermill": {
     "duration": 0.06981,
     "end_time": "2022-06-03T18:26:16.027979",
     "exception": false,
     "start_time": "2022-06-03T18:26:15.958169",
     "status": "completed"
    },
    "tags": []
   },
   "outputs": [
    {
     "data": {
      "text/plain": [
       "B    8019\n",
       "H    6195\n",
       "G    6013\n",
       "C    5288\n",
       "A    4094\n",
       "F    4054\n",
       "E    1531\n",
       "D    1279\n",
       "Name: context, dtype: int64"
      ]
     },
     "metadata": {},
     "output_type": "display_data"
    }
   ],
   "source": [
    "display(df['context'].apply(lambda x: x[0]).value_counts())"
   ]
  },
  {
   "cell_type": "markdown",
   "id": "d65c1cd7",
   "metadata": {
    "papermill": {
     "duration": 0.04546,
     "end_time": "2022-06-03T18:26:16.119695",
     "exception": false,
     "start_time": "2022-06-03T18:26:16.074235",
     "status": "completed"
    },
    "tags": []
   },
   "source": [
    "## Tokenization"
   ]
  },
  {
   "cell_type": "markdown",
   "id": "051e5678",
   "metadata": {
    "papermill": {
     "duration": 0.045388,
     "end_time": "2022-06-03T18:26:16.210829",
     "exception": false,
     "start_time": "2022-06-03T18:26:16.165441",
     "status": "completed"
    },
    "tags": []
   },
   "source": [
    "Create the tokenizer. Let's see what special tokens it uses."
   ]
  },
  {
   "cell_type": "code",
   "execution_count": 8,
   "id": "21d626d3",
   "metadata": {
    "execution": {
     "iopub.execute_input": "2022-06-03T18:26:16.304752Z",
     "iopub.status.busy": "2022-06-03T18:26:16.304052Z",
     "iopub.status.idle": "2022-06-03T18:26:21.686194Z",
     "shell.execute_reply": "2022-06-03T18:26:21.684741Z"
    },
    "papermill": {
     "duration": 5.431187,
     "end_time": "2022-06-03T18:26:21.688004",
     "exception": false,
     "start_time": "2022-06-03T18:26:16.256817",
     "status": "completed"
    },
    "tags": []
   },
   "outputs": [
    {
     "data": {
      "application/vnd.jupyter.widget-view+json": {
       "model_id": "f95e6dce10bb453cb5e11433e43f80ef",
       "version_major": 2,
       "version_minor": 0
      },
      "text/plain": [
       "Downloading:   0%|          | 0.00/52.0 [00:00<?, ?B/s]"
      ]
     },
     "metadata": {},
     "output_type": "display_data"
    },
    {
     "data": {
      "application/vnd.jupyter.widget-view+json": {
       "model_id": "99e643dd73d246c6bd8a0d953d4ba67a",
       "version_major": 2,
       "version_minor": 0
      },
      "text/plain": [
       "Downloading:   0%|          | 0.00/580 [00:00<?, ?B/s]"
      ]
     },
     "metadata": {},
     "output_type": "display_data"
    },
    {
     "data": {
      "application/vnd.jupyter.widget-view+json": {
       "model_id": "6680f643b33f4ac0a960cfb739a8d026",
       "version_major": 2,
       "version_minor": 0
      },
      "text/plain": [
       "Downloading:   0%|          | 0.00/2.35M [00:00<?, ?B/s]"
      ]
     },
     "metadata": {},
     "output_type": "display_data"
    },
    {
     "name": "stderr",
     "output_type": "stream",
     "text": [
      "Special tokens have been added in the vocabulary, make sure the associated word embeddings are fine-tuned or trained.\n"
     ]
    },
    {
     "name": "stdout",
     "output_type": "stream",
     "text": [
      "['[CLS]', '[SEP]', '[UNK]', '[PAD]', '[MASK]']\n",
      "[SEP]\n"
     ]
    }
   ],
   "source": [
    "tokz = AutoTokenizer.from_pretrained(CFG.model_name)\n",
    "tokz.save_pretrained(OUTPUT_DIR+'tokenizer/')\n",
    "CFG.tokenizer = tokz\n",
    "print(tokz.all_special_tokens)\n",
    "sep = tokz.sep_token\n",
    "print(sep)"
   ]
  },
  {
   "cell_type": "code",
   "execution_count": 9,
   "id": "556688ed",
   "metadata": {
    "execution": {
     "iopub.execute_input": "2022-06-03T18:26:21.786413Z",
     "iopub.status.busy": "2022-06-03T18:26:21.786181Z",
     "iopub.status.idle": "2022-06-03T18:26:21.835392Z",
     "shell.execute_reply": "2022-06-03T18:26:21.834619Z"
    },
    "papermill": {
     "duration": 0.10004,
     "end_time": "2022-06-03T18:26:21.837169",
     "exception": false,
     "start_time": "2022-06-03T18:26:21.737129",
     "status": "completed"
    },
    "tags": []
   },
   "outputs": [
    {
     "data": {
      "text/html": [
       "<div>\n",
       "<style scoped>\n",
       "    .dataframe tbody tr th:only-of-type {\n",
       "        vertical-align: middle;\n",
       "    }\n",
       "\n",
       "    .dataframe tbody tr th {\n",
       "        vertical-align: top;\n",
       "    }\n",
       "\n",
       "    .dataframe thead th {\n",
       "        text-align: right;\n",
       "    }\n",
       "</style>\n",
       "<table border=\"1\" class=\"dataframe\">\n",
       "  <thead>\n",
       "    <tr style=\"text-align: right;\">\n",
       "      <th></th>\n",
       "      <th>id</th>\n",
       "      <th>anchor</th>\n",
       "      <th>target</th>\n",
       "      <th>context</th>\n",
       "      <th>score</th>\n",
       "      <th>context_text</th>\n",
       "      <th>inputs</th>\n",
       "    </tr>\n",
       "  </thead>\n",
       "  <tbody>\n",
       "    <tr>\n",
       "      <th>0</th>\n",
       "      <td>37d61fd2272659b1</td>\n",
       "      <td>abatement</td>\n",
       "      <td>abatement of pollution</td>\n",
       "      <td>A47</td>\n",
       "      <td>0.50</td>\n",
       "      <td>HUMAN NECESSITIES. FURNITURE; DOMESTIC ARTICLE...</td>\n",
       "      <td>abatement[SEP]abatement of pollution[SEP]HUMAN...</td>\n",
       "    </tr>\n",
       "    <tr>\n",
       "      <th>1</th>\n",
       "      <td>7b9652b17b68b7a4</td>\n",
       "      <td>abatement</td>\n",
       "      <td>act of abating</td>\n",
       "      <td>A47</td>\n",
       "      <td>0.75</td>\n",
       "      <td>HUMAN NECESSITIES. FURNITURE; DOMESTIC ARTICLE...</td>\n",
       "      <td>abatement[SEP]act of abating[SEP]HUMAN NECESSI...</td>\n",
       "    </tr>\n",
       "    <tr>\n",
       "      <th>2</th>\n",
       "      <td>36d72442aefd8232</td>\n",
       "      <td>abatement</td>\n",
       "      <td>active catalyst</td>\n",
       "      <td>A47</td>\n",
       "      <td>0.25</td>\n",
       "      <td>HUMAN NECESSITIES. FURNITURE; DOMESTIC ARTICLE...</td>\n",
       "      <td>abatement[SEP]active catalyst[SEP]HUMAN NECESS...</td>\n",
       "    </tr>\n",
       "    <tr>\n",
       "      <th>3</th>\n",
       "      <td>5296b0c19e1ce60e</td>\n",
       "      <td>abatement</td>\n",
       "      <td>eliminating process</td>\n",
       "      <td>A47</td>\n",
       "      <td>0.50</td>\n",
       "      <td>HUMAN NECESSITIES. FURNITURE; DOMESTIC ARTICLE...</td>\n",
       "      <td>abatement[SEP]eliminating process[SEP]HUMAN NE...</td>\n",
       "    </tr>\n",
       "    <tr>\n",
       "      <th>4</th>\n",
       "      <td>54c1e3b9184cb5b6</td>\n",
       "      <td>abatement</td>\n",
       "      <td>forest region</td>\n",
       "      <td>A47</td>\n",
       "      <td>0.00</td>\n",
       "      <td>HUMAN NECESSITIES. FURNITURE; DOMESTIC ARTICLE...</td>\n",
       "      <td>abatement[SEP]forest region[SEP]HUMAN NECESSIT...</td>\n",
       "    </tr>\n",
       "  </tbody>\n",
       "</table>\n",
       "</div>"
      ],
      "text/plain": [
       "                 id     anchor                  target context  score                                       context_text                                             inputs\n",
       "0  37d61fd2272659b1  abatement  abatement of pollution     A47   0.50  HUMAN NECESSITIES. FURNITURE; DOMESTIC ARTICLE...  abatement[SEP]abatement of pollution[SEP]HUMAN...\n",
       "1  7b9652b17b68b7a4  abatement          act of abating     A47   0.75  HUMAN NECESSITIES. FURNITURE; DOMESTIC ARTICLE...  abatement[SEP]act of abating[SEP]HUMAN NECESSI...\n",
       "2  36d72442aefd8232  abatement         active catalyst     A47   0.25  HUMAN NECESSITIES. FURNITURE; DOMESTIC ARTICLE...  abatement[SEP]active catalyst[SEP]HUMAN NECESS...\n",
       "3  5296b0c19e1ce60e  abatement     eliminating process     A47   0.50  HUMAN NECESSITIES. FURNITURE; DOMESTIC ARTICLE...  abatement[SEP]eliminating process[SEP]HUMAN NE...\n",
       "4  54c1e3b9184cb5b6  abatement           forest region     A47   0.00  HUMAN NECESSITIES. FURNITURE; DOMESTIC ARTICLE...  abatement[SEP]forest region[SEP]HUMAN NECESSIT..."
      ]
     },
     "metadata": {},
     "output_type": "display_data"
    },
    {
     "data": {
      "text/html": [
       "<div>\n",
       "<style scoped>\n",
       "    .dataframe tbody tr th:only-of-type {\n",
       "        vertical-align: middle;\n",
       "    }\n",
       "\n",
       "    .dataframe tbody tr th {\n",
       "        vertical-align: top;\n",
       "    }\n",
       "\n",
       "    .dataframe thead th {\n",
       "        text-align: right;\n",
       "    }\n",
       "</style>\n",
       "<table border=\"1\" class=\"dataframe\">\n",
       "  <thead>\n",
       "    <tr style=\"text-align: right;\">\n",
       "      <th></th>\n",
       "      <th>id</th>\n",
       "      <th>anchor</th>\n",
       "      <th>target</th>\n",
       "      <th>context</th>\n",
       "      <th>context_text</th>\n",
       "      <th>inputs</th>\n",
       "    </tr>\n",
       "  </thead>\n",
       "  <tbody>\n",
       "    <tr>\n",
       "      <th>0</th>\n",
       "      <td>4112d61851461f60</td>\n",
       "      <td>opc drum</td>\n",
       "      <td>inorganic photoconductor drum</td>\n",
       "      <td>G02</td>\n",
       "      <td>PHYSICS. OPTICS</td>\n",
       "      <td>opc drum[SEP]inorganic photoconductor drum[SEP...</td>\n",
       "    </tr>\n",
       "    <tr>\n",
       "      <th>1</th>\n",
       "      <td>09e418c93a776564</td>\n",
       "      <td>adjust gas flow</td>\n",
       "      <td>altering gas flow</td>\n",
       "      <td>F23</td>\n",
       "      <td>MECHANICAL ENGINEERING; LIGHTING; HEATING; WEA...</td>\n",
       "      <td>adjust gas flow[SEP]altering gas flow[SEP]MECH...</td>\n",
       "    </tr>\n",
       "    <tr>\n",
       "      <th>2</th>\n",
       "      <td>36baf228038e314b</td>\n",
       "      <td>lower trunnion</td>\n",
       "      <td>lower locating</td>\n",
       "      <td>B60</td>\n",
       "      <td>PERFORMING OPERATIONS; TRANSPORTING. VEHICLES ...</td>\n",
       "      <td>lower trunnion[SEP]lower locating[SEP]PERFORMI...</td>\n",
       "    </tr>\n",
       "    <tr>\n",
       "      <th>3</th>\n",
       "      <td>1f37ead645e7f0c8</td>\n",
       "      <td>cap component</td>\n",
       "      <td>upper portion</td>\n",
       "      <td>D06</td>\n",
       "      <td>TEXTILES; PAPER. TREATMENT OF TEXTILES OR THE ...</td>\n",
       "      <td>cap component[SEP]upper portion[SEP]TEXTILES; ...</td>\n",
       "    </tr>\n",
       "    <tr>\n",
       "      <th>4</th>\n",
       "      <td>71a5b6ad068d531f</td>\n",
       "      <td>neural stimulation</td>\n",
       "      <td>artificial neural network</td>\n",
       "      <td>H04</td>\n",
       "      <td>ELECTRICITY. ELECTRIC COMMUNICATION TECHNIQUE</td>\n",
       "      <td>neural stimulation[SEP]artificial neural netwo...</td>\n",
       "    </tr>\n",
       "  </tbody>\n",
       "</table>\n",
       "</div>"
      ],
      "text/plain": [
       "                 id              anchor                         target context                                       context_text                                             inputs\n",
       "0  4112d61851461f60            opc drum  inorganic photoconductor drum     G02                                    PHYSICS. OPTICS  opc drum[SEP]inorganic photoconductor drum[SEP...\n",
       "1  09e418c93a776564     adjust gas flow              altering gas flow     F23  MECHANICAL ENGINEERING; LIGHTING; HEATING; WEA...  adjust gas flow[SEP]altering gas flow[SEP]MECH...\n",
       "2  36baf228038e314b      lower trunnion                 lower locating     B60  PERFORMING OPERATIONS; TRANSPORTING. VEHICLES ...  lower trunnion[SEP]lower locating[SEP]PERFORMI...\n",
       "3  1f37ead645e7f0c8       cap component                  upper portion     D06  TEXTILES; PAPER. TREATMENT OF TEXTILES OR THE ...  cap component[SEP]upper portion[SEP]TEXTILES; ...\n",
       "4  71a5b6ad068d531f  neural stimulation      artificial neural network     H04      ELECTRICITY. ELECTRIC COMMUNICATION TECHNIQUE  neural stimulation[SEP]artificial neural netwo..."
      ]
     },
     "metadata": {},
     "output_type": "display_data"
    }
   ],
   "source": [
    "df['inputs'] = df.anchor + sep + df.target + sep + df.context_text\n",
    "test_df['inputs'] = test_df.anchor + sep + test_df.target + sep + test_df.context_text\n",
    "display(df.head())\n",
    "display(test_df.head())"
   ]
  },
  {
   "cell_type": "code",
   "execution_count": 10,
   "id": "69252a79",
   "metadata": {
    "execution": {
     "iopub.execute_input": "2022-06-03T18:26:21.940743Z",
     "iopub.status.busy": "2022-06-03T18:26:21.940540Z",
     "iopub.status.idle": "2022-06-03T18:26:21.986456Z",
     "shell.execute_reply": "2022-06-03T18:26:21.985841Z"
    },
    "papermill": {
     "duration": 0.098381,
     "end_time": "2022-06-03T18:26:21.988465",
     "exception": false,
     "start_time": "2022-06-03T18:26:21.890084",
     "status": "completed"
    },
    "tags": []
   },
   "outputs": [],
   "source": [
    "ds = Dataset.from_pandas(df).rename_column('score','label')\n",
    "test_ds = Dataset.from_pandas(test_df)"
   ]
  },
  {
   "cell_type": "code",
   "execution_count": 11,
   "id": "9bbc15e2",
   "metadata": {
    "execution": {
     "iopub.execute_input": "2022-06-03T18:26:22.090148Z",
     "iopub.status.busy": "2022-06-03T18:26:22.089931Z",
     "iopub.status.idle": "2022-06-03T18:26:22.096428Z",
     "shell.execute_reply": "2022-06-03T18:26:22.095734Z"
    },
    "papermill": {
     "duration": 0.060643,
     "end_time": "2022-06-03T18:26:22.098158",
     "exception": false,
     "start_time": "2022-06-03T18:26:22.037515",
     "status": "completed"
    },
    "tags": []
   },
   "outputs": [
    {
     "data": {
      "text/plain": [
       "{'id': '37d61fd2272659b1',\n",
       " 'anchor': 'abatement',\n",
       " 'target': 'abatement of pollution',\n",
       " 'context': 'A47',\n",
       " 'label': 0.5,\n",
       " 'context_text': 'HUMAN NECESSITIES. FURNITURE; DOMESTIC ARTICLES OR APPLIANCES; COFFEE MILLS; SPICE MILLS; SUCTION CLEANERS IN GENERAL',\n",
       " 'inputs': 'abatement[SEP]abatement of pollution[SEP]HUMAN NECESSITIES. FURNITURE; DOMESTIC ARTICLES OR APPLIANCES; COFFEE MILLS; SPICE MILLS; SUCTION CLEANERS IN GENERAL'}"
      ]
     },
     "metadata": {},
     "output_type": "display_data"
    }
   ],
   "source": [
    "display(ds[0])"
   ]
  },
  {
   "cell_type": "markdown",
   "id": "411dc2f3",
   "metadata": {
    "papermill": {
     "duration": 0.049501,
     "end_time": "2022-06-03T18:26:22.197918",
     "exception": false,
     "start_time": "2022-06-03T18:26:22.148417",
     "status": "completed"
    },
    "tags": []
   },
   "source": [
    "Determine the longest observed length of an input. Make sure that our `max_len` is greater than this since the competition dataset may have larger inputs."
   ]
  },
  {
   "cell_type": "code",
   "execution_count": 12,
   "id": "32195cf1",
   "metadata": {
    "execution": {
     "iopub.execute_input": "2022-06-03T18:26:22.298956Z",
     "iopub.status.busy": "2022-06-03T18:26:22.298281Z",
     "iopub.status.idle": "2022-06-03T18:26:32.483435Z",
     "shell.execute_reply": "2022-06-03T18:26:32.482298Z"
    },
    "papermill": {
     "duration": 10.241198,
     "end_time": "2022-06-03T18:26:32.488508",
     "exception": false,
     "start_time": "2022-06-03T18:26:22.247310",
     "status": "completed"
    },
    "tags": []
   },
   "outputs": [
    {
     "data": {
      "application/vnd.jupyter.widget-view+json": {
       "model_id": "f40b20e8705d4071a96714df8f3cc425",
       "version_major": 2,
       "version_minor": 0
      },
      "text/plain": [
       "  0%|          | 0/36473 [00:00<?, ?it/s]"
      ]
     },
     "metadata": {},
     "output_type": "display_data"
    },
    {
     "name": "stdout",
     "output_type": "stream",
     "text": [
      "longest input: 99\n",
      "Make sure max_len is larger than this.\n"
     ]
    }
   ],
   "source": [
    "lengths = []\n",
    "tk0 = tqdm(df['inputs'], total=len(df))\n",
    "for text in tk0:\n",
    "    length = len(tokz(text, add_special_tokens=False)['input_ids'])\n",
    "    lengths.append(length)\n",
    "print(f\"longest input: {max(lengths)}\\nMake sure max_len is larger than this.\")"
   ]
  },
  {
   "cell_type": "markdown",
   "id": "b308c93b",
   "metadata": {
    "papermill": {
     "duration": 0.05162,
     "end_time": "2022-06-03T18:26:32.591782",
     "exception": false,
     "start_time": "2022-06-03T18:26:32.540162",
     "status": "completed"
    },
    "tags": []
   },
   "source": [
    "## Create Validation Set\n",
    "According to [this post](https://www.kaggle.com/competitions/us-patent-phrase-to-phrase-matching/discussion/315220), the private test anchors do not overlap with the training set, so we will replicate that when creating our validation set."
   ]
  },
  {
   "cell_type": "code",
   "execution_count": 13,
   "id": "a1835c5c",
   "metadata": {
    "execution": {
     "iopub.execute_input": "2022-06-03T18:26:32.693695Z",
     "iopub.status.busy": "2022-06-03T18:26:32.693439Z",
     "iopub.status.idle": "2022-06-03T18:26:32.697551Z",
     "shell.execute_reply": "2022-06-03T18:26:32.696884Z"
    },
    "papermill": {
     "duration": 0.057104,
     "end_time": "2022-06-03T18:26:32.699272",
     "exception": false,
     "start_time": "2022-06-03T18:26:32.642168",
     "status": "completed"
    },
    "tags": []
   },
   "outputs": [],
   "source": [
    "if CFG.debug:\n",
    "    display(len(df))\n",
    "    df = df.sample(n=1000, random_state=0).reset_index(drop=True)\n",
    "    display(len(df))"
   ]
  },
  {
   "cell_type": "code",
   "execution_count": 14,
   "id": "38344d2e",
   "metadata": {
    "execution": {
     "iopub.execute_input": "2022-06-03T18:26:32.800713Z",
     "iopub.status.busy": "2022-06-03T18:26:32.800526Z",
     "iopub.status.idle": "2022-06-03T18:26:32.810212Z",
     "shell.execute_reply": "2022-06-03T18:26:32.809395Z"
    },
    "papermill": {
     "duration": 0.062455,
     "end_time": "2022-06-03T18:26:32.812126",
     "exception": false,
     "start_time": "2022-06-03T18:26:32.749671",
     "status": "completed"
    },
    "tags": []
   },
   "outputs": [
    {
     "data": {
      "text/plain": [
       "array(['time digital signal', 'antiatherosclerotic', 'filled interior',\n",
       "       'dispersed powder', 'locking formation'], dtype=object)"
      ]
     },
     "execution_count": 14,
     "metadata": {},
     "output_type": "execute_result"
    }
   ],
   "source": [
    "anchors = df.anchor.unique()\n",
    "np.random.seed(CFG.seed)\n",
    "np.random.shuffle(anchors)\n",
    "anchors[:5]"
   ]
  },
  {
   "cell_type": "markdown",
   "id": "5538a973",
   "metadata": {
    "papermill": {
     "duration": 0.050394,
     "end_time": "2022-06-03T18:26:32.913139",
     "exception": false,
     "start_time": "2022-06-03T18:26:32.862745",
     "status": "completed"
    },
    "tags": []
   },
   "source": [
    "We choose some proportion of the anchors to go into the validation set:"
   ]
  },
  {
   "cell_type": "code",
   "execution_count": 15,
   "id": "abde7166",
   "metadata": {
    "execution": {
     "iopub.execute_input": "2022-06-03T18:26:33.015669Z",
     "iopub.status.busy": "2022-06-03T18:26:33.015468Z",
     "iopub.status.idle": "2022-06-03T18:26:33.019049Z",
     "shell.execute_reply": "2022-06-03T18:26:33.018354Z"
    },
    "papermill": {
     "duration": 0.056482,
     "end_time": "2022-06-03T18:26:33.020648",
     "exception": false,
     "start_time": "2022-06-03T18:26:32.964166",
     "status": "completed"
    },
    "tags": []
   },
   "outputs": [],
   "source": [
    "val_size = CFG.val_size\n",
    "val_sz = int(len(anchors)*val_size)\n",
    "val_anchors = anchors[:val_sz]"
   ]
  },
  {
   "cell_type": "markdown",
   "id": "8fd86b83",
   "metadata": {
    "papermill": {
     "duration": 0.051504,
     "end_time": "2022-06-03T18:26:33.122799",
     "exception": false,
     "start_time": "2022-06-03T18:26:33.071295",
     "status": "completed"
    },
    "tags": []
   },
   "source": [
    "Create a list of the rows that match our `val_anchors`:"
   ]
  },
  {
   "cell_type": "code",
   "execution_count": 16,
   "id": "e874370c",
   "metadata": {
    "execution": {
     "iopub.execute_input": "2022-06-03T18:26:33.224777Z",
     "iopub.status.busy": "2022-06-03T18:26:33.224523Z",
     "iopub.status.idle": "2022-06-03T18:26:33.446372Z",
     "shell.execute_reply": "2022-06-03T18:26:33.445707Z"
    },
    "papermill": {
     "duration": 0.274997,
     "end_time": "2022-06-03T18:26:33.448121",
     "exception": false,
     "start_time": "2022-06-03T18:26:33.173124",
     "status": "completed"
    },
    "tags": []
   },
   "outputs": [
    {
     "data": {
      "text/plain": [
       "(9116, 27357)"
      ]
     },
     "execution_count": 16,
     "metadata": {},
     "output_type": "execute_result"
    }
   ],
   "source": [
    "is_val = np.isin(df.anchor, val_anchors)\n",
    "idxs = np.arange(len(df))\n",
    "val_idxs = idxs[ is_val]\n",
    "trn_idxs = idxs[~is_val]\n",
    "len(val_idxs),len(trn_idxs)"
   ]
  },
  {
   "cell_type": "markdown",
   "id": "de552fd9",
   "metadata": {
    "papermill": {
     "duration": 0.051847,
     "end_time": "2022-06-03T18:26:33.551332",
     "exception": false,
     "start_time": "2022-06-03T18:26:33.499485",
     "status": "completed"
    },
    "tags": []
   },
   "source": [
    "## Build Datasets"
   ]
  },
  {
   "cell_type": "code",
   "execution_count": 17,
   "id": "8739ac73",
   "metadata": {
    "execution": {
     "iopub.execute_input": "2022-06-03T18:26:33.657197Z",
     "iopub.status.busy": "2022-06-03T18:26:33.656974Z",
     "iopub.status.idle": "2022-06-03T18:26:33.665978Z",
     "shell.execute_reply": "2022-06-03T18:26:33.665203Z"
    },
    "papermill": {
     "duration": 0.063507,
     "end_time": "2022-06-03T18:26:33.667607",
     "exception": false,
     "start_time": "2022-06-03T18:26:33.604100",
     "status": "completed"
    },
    "tags": []
   },
   "outputs": [],
   "source": [
    "def prepare_input(cfg, text):\n",
    "    inputs = cfg.tokenizer(text,\n",
    "                           add_special_tokens=True,\n",
    "                           max_length=cfg.max_len,\n",
    "                           padding=\"max_length\",\n",
    "                           return_offsets_mapping=False)\n",
    "    for k, v in inputs.items():\n",
    "        inputs[k] = torch.tensor(v, dtype=torch.long)\n",
    "    return inputs\n",
    "\n",
    "class TrainDataset(Dataset):\n",
    "    def __init__(self, cfg, ds):\n",
    "        self.cfg = cfg\n",
    "        self.inputs = ds['inputs']\n",
    "        self.labels = ds['label']\n",
    "\n",
    "    def __len__(self):\n",
    "        return len(self.labels)\n",
    "\n",
    "    def __getitem__(self, item):\n",
    "        inputs = prepare_input(self.cfg, self.inputs[item])\n",
    "        label = torch.tensor(self.labels[item], dtype=torch.float)\n",
    "        return inputs, label\n",
    "    \n",
    "class TestDataset(Dataset):\n",
    "    def __init__(self, cfg, ds):\n",
    "        self.cfg = cfg\n",
    "        self.inputs = ds['inputs']\n",
    "        \n",
    "    def __len__(self):\n",
    "        return len(self.inputs)\n",
    "    \n",
    "    def __getitem__(self, item):\n",
    "        inputs = prepare_input(self.cfg, self.inputs[item])\n",
    "        return inputs"
   ]
  },
  {
   "cell_type": "code",
   "execution_count": 18,
   "id": "07dc081e",
   "metadata": {
    "execution": {
     "iopub.execute_input": "2022-06-03T18:26:33.821421Z",
     "iopub.status.busy": "2022-06-03T18:26:33.821112Z",
     "iopub.status.idle": "2022-06-03T18:26:33.824569Z",
     "shell.execute_reply": "2022-06-03T18:26:33.823844Z"
    },
    "papermill": {
     "duration": 0.100633,
     "end_time": "2022-06-03T18:26:33.829333",
     "exception": false,
     "start_time": "2022-06-03T18:26:33.728700",
     "status": "completed"
    },
    "tags": []
   },
   "outputs": [],
   "source": [
    "#prepare_input(CFG, ds['inputs'][0])"
   ]
  },
  {
   "cell_type": "code",
   "execution_count": 19,
   "id": "b140d7cd",
   "metadata": {
    "execution": {
     "iopub.execute_input": "2022-06-03T18:26:34.001627Z",
     "iopub.status.busy": "2022-06-03T18:26:34.001256Z",
     "iopub.status.idle": "2022-06-03T18:26:35.589948Z",
     "shell.execute_reply": "2022-06-03T18:26:35.589182Z"
    },
    "papermill": {
     "duration": 1.682825,
     "end_time": "2022-06-03T18:26:35.592151",
     "exception": false,
     "start_time": "2022-06-03T18:26:33.909326",
     "status": "completed"
    },
    "tags": []
   },
   "outputs": [],
   "source": [
    "trn_ds = TrainDataset(CFG,ds[trn_idxs])\n",
    "val_df = ds[val_idxs]\n",
    "val_labels = val_df['label']\n",
    "val_ds = TrainDataset(CFG,val_df)"
   ]
  },
  {
   "cell_type": "code",
   "execution_count": 20,
   "id": "558e2145",
   "metadata": {
    "execution": {
     "iopub.execute_input": "2022-06-03T18:26:35.696875Z",
     "iopub.status.busy": "2022-06-03T18:26:35.696194Z",
     "iopub.status.idle": "2022-06-03T18:26:35.701029Z",
     "shell.execute_reply": "2022-06-03T18:26:35.700210Z"
    },
    "papermill": {
     "duration": 0.059753,
     "end_time": "2022-06-03T18:26:35.703764",
     "exception": false,
     "start_time": "2022-06-03T18:26:35.644011",
     "status": "completed"
    },
    "tags": []
   },
   "outputs": [
    {
     "name": "stdout",
     "output_type": "stream",
     "text": [
      "len(trn_ds): 27357\n",
      "len(val_ds): 9116\n"
     ]
    }
   ],
   "source": [
    "print(f'len(trn_ds): {len(trn_ds)}')\n",
    "print(f'len(val_ds): {len(val_ds)}')"
   ]
  },
  {
   "cell_type": "code",
   "execution_count": 21,
   "id": "3c2fbe5c",
   "metadata": {
    "execution": {
     "iopub.execute_input": "2022-06-03T18:26:35.809306Z",
     "iopub.status.busy": "2022-06-03T18:26:35.809086Z",
     "iopub.status.idle": "2022-06-03T18:26:35.818295Z",
     "shell.execute_reply": "2022-06-03T18:26:35.817619Z"
    },
    "papermill": {
     "duration": 0.064222,
     "end_time": "2022-06-03T18:26:35.820134",
     "exception": false,
     "start_time": "2022-06-03T18:26:35.755912",
     "status": "completed"
    },
    "tags": []
   },
   "outputs": [
    {
     "name": "stdout",
     "output_type": "stream",
     "text": [
      "({'input_ids': tensor([     1,  47284,      2,  47284,    265,   6435,      2,  54373,  24817,\n",
      "         37360,  50787,    260, 114347,    346,  34093,  17808,  12713,  66582,\n",
      "           430,   3516,  24093,  58629, 110304,    346,  94252, 108812,    346,\n",
      "        104775, 108812,    346,  20143, 100168,  46465,  12921,   3078,  43799,\n",
      "             2,      0,      0,      0,      0,      0,      0,      0,      0,\n",
      "             0,      0,      0,      0,      0,      0,      0,      0,      0,\n",
      "             0,      0,      0,      0,      0,      0,      0,      0,      0,\n",
      "             0,      0,      0,      0,      0,      0,      0,      0,      0,\n",
      "             0,      0,      0,      0,      0,      0,      0,      0,      0,\n",
      "             0,      0,      0,      0,      0,      0,      0,      0,      0,\n",
      "             0,      0,      0,      0,      0,      0,      0,      0,      0,\n",
      "             0,      0,      0,      0,      0,      0,      0,      0,      0,\n",
      "             0,      0,      0,      0,      0,      0,      0,      0,      0,\n",
      "             0,      0,      0,      0,      0,      0,      0,      0,      0,\n",
      "             0,      0,      0,      0,      0,      0,      0,      0,      0,\n",
      "             0,      0,      0,      0,      0,      0,      0,      0,      0,\n",
      "             0,      0,      0,      0,      0,      0]), 'token_type_ids': tensor([0, 0, 0, 0, 0, 0, 0, 0, 0, 0, 0, 0, 0, 0, 0, 0, 0, 0, 0, 0, 0, 0, 0, 0,\n",
      "        0, 0, 0, 0, 0, 0, 0, 0, 0, 0, 0, 0, 0, 0, 0, 0, 0, 0, 0, 0, 0, 0, 0, 0,\n",
      "        0, 0, 0, 0, 0, 0, 0, 0, 0, 0, 0, 0, 0, 0, 0, 0, 0, 0, 0, 0, 0, 0, 0, 0,\n",
      "        0, 0, 0, 0, 0, 0, 0, 0, 0, 0, 0, 0, 0, 0, 0, 0, 0, 0, 0, 0, 0, 0, 0, 0,\n",
      "        0, 0, 0, 0, 0, 0, 0, 0, 0, 0, 0, 0, 0, 0, 0, 0, 0, 0, 0, 0, 0, 0, 0, 0,\n",
      "        0, 0, 0, 0, 0, 0, 0, 0, 0, 0, 0, 0, 0, 0, 0, 0, 0, 0, 0, 0, 0, 0, 0, 0,\n",
      "        0, 0, 0, 0, 0, 0]), 'attention_mask': tensor([1, 1, 1, 1, 1, 1, 1, 1, 1, 1, 1, 1, 1, 1, 1, 1, 1, 1, 1, 1, 1, 1, 1, 1,\n",
      "        1, 1, 1, 1, 1, 1, 1, 1, 1, 1, 1, 1, 1, 0, 0, 0, 0, 0, 0, 0, 0, 0, 0, 0,\n",
      "        0, 0, 0, 0, 0, 0, 0, 0, 0, 0, 0, 0, 0, 0, 0, 0, 0, 0, 0, 0, 0, 0, 0, 0,\n",
      "        0, 0, 0, 0, 0, 0, 0, 0, 0, 0, 0, 0, 0, 0, 0, 0, 0, 0, 0, 0, 0, 0, 0, 0,\n",
      "        0, 0, 0, 0, 0, 0, 0, 0, 0, 0, 0, 0, 0, 0, 0, 0, 0, 0, 0, 0, 0, 0, 0, 0,\n",
      "        0, 0, 0, 0, 0, 0, 0, 0, 0, 0, 0, 0, 0, 0, 0, 0, 0, 0, 0, 0, 0, 0, 0, 0,\n",
      "        0, 0, 0, 0, 0, 0])}, tensor(0.5000))\n"
     ]
    }
   ],
   "source": [
    "print(trn_ds[0])"
   ]
  },
  {
   "cell_type": "markdown",
   "id": "77e3a96f",
   "metadata": {
    "papermill": {
     "duration": 0.051472,
     "end_time": "2022-06-03T18:26:35.926505",
     "exception": false,
     "start_time": "2022-06-03T18:26:35.875033",
     "status": "completed"
    },
    "tags": []
   },
   "source": [
    "## Build DataLoaders"
   ]
  },
  {
   "cell_type": "code",
   "execution_count": 22,
   "id": "cfb26e9a",
   "metadata": {
    "execution": {
     "iopub.execute_input": "2022-06-03T18:26:36.031473Z",
     "iopub.status.busy": "2022-06-03T18:26:36.030989Z",
     "iopub.status.idle": "2022-06-03T18:26:36.035980Z",
     "shell.execute_reply": "2022-06-03T18:26:36.035259Z"
    },
    "papermill": {
     "duration": 0.059638,
     "end_time": "2022-06-03T18:26:36.037596",
     "exception": false,
     "start_time": "2022-06-03T18:26:35.977958",
     "status": "completed"
    },
    "tags": []
   },
   "outputs": [],
   "source": [
    "trn_loader = DataLoader(trn_ds,\n",
    "                       batch_size=CFG.batch_size, shuffle=True,\n",
    "                        num_workers=CFG.num_workers, pin_memory=True, drop_last=True)\n",
    "val_loader = DataLoader(val_ds,\n",
    "                       batch_size=CFG.batch_size, shuffle=False, \n",
    "                        num_workers=CFG.num_workers, pin_memory=True, drop_last=False)"
   ]
  },
  {
   "cell_type": "markdown",
   "id": "cabbc59f",
   "metadata": {
    "papermill": {
     "duration": 0.052789,
     "end_time": "2022-06-03T18:26:36.142654",
     "exception": false,
     "start_time": "2022-06-03T18:26:36.089865",
     "status": "completed"
    },
    "tags": []
   },
   "source": [
    "## Build Model"
   ]
  },
  {
   "cell_type": "code",
   "execution_count": 23,
   "id": "37250eb0",
   "metadata": {
    "execution": {
     "iopub.execute_input": "2022-06-03T18:26:36.247850Z",
     "iopub.status.busy": "2022-06-03T18:26:36.247425Z",
     "iopub.status.idle": "2022-06-03T18:26:36.264330Z",
     "shell.execute_reply": "2022-06-03T18:26:36.263568Z"
    },
    "papermill": {
     "duration": 0.071508,
     "end_time": "2022-06-03T18:26:36.266096",
     "exception": false,
     "start_time": "2022-06-03T18:26:36.194588",
     "status": "completed"
    },
    "tags": []
   },
   "outputs": [],
   "source": [
    "class CustomModel(nn.Module):\n",
    "    def __init__(self, cfg, config_path=None, pretrained=False):\n",
    "        super().__init__()\n",
    "        self.cfg = cfg\n",
    "        if config_path is None:\n",
    "            self.config = AutoConfig.from_pretrained(cfg.model_name, output_hidden_states=True)\n",
    "        else:\n",
    "            self.config = torch.load(config_path)\n",
    "        if CFG.model_type == 'deberta':\n",
    "            if pretrained:\n",
    "                self.model = AutoModel.from_pretrained(cfg.model_name, config=self.config)\n",
    "            else:\n",
    "                self.model = AutoModel.from_config(self.config)\n",
    "            self.fc_dropout = nn.Dropout(cfg.fc_dropout)\n",
    "            self.fc = nn.Linear(self.config.hidden_size, self.cfg.target_size)\n",
    "            self._init_weights(self.fc)\n",
    "            self.attention = nn.Sequential(\n",
    "                nn.Linear(self.config.hidden_size, 512),\n",
    "                nn.Tanh(),\n",
    "                nn.Linear(512, 1),\n",
    "                nn.Softmax(dim=1)\n",
    "            )\n",
    "            self._init_weights(self.attention)\n",
    "        elif CFG.model_type == 'bert':\n",
    "            self.model = AutoModel.from_pretrained(CFG.model_name, config=self.config)\n",
    "            self.head = nn.Linear(self.config.hidden_size, 1, bias=True)\n",
    "            self.dropout = nn.Dropout(0.5)\n",
    "        print(f'hidden size: {self.config.hidden_size}')\n",
    "            \n",
    "        \n",
    "    def _init_weights(self, module):\n",
    "        if isinstance(module, nn.Linear):\n",
    "            module.weight.data.normal_(mean=0.0, std=self.config.initializer_range)\n",
    "            if module.bias is not None:\n",
    "                module.bias.data.zero_()\n",
    "        elif isinstance(module, nn.Embedding):\n",
    "            module.weight.data.normal_(mean=0.0, std=self.config.initializer_range)\n",
    "            if module.padding_idx is not None:\n",
    "                module.weight.data[module.padding_idx].zero_()\n",
    "        elif isinstance(module, nn.LayerNorm):\n",
    "            module.bias.data.zero_()\n",
    "            module.weight.data.fill_(1.0)\n",
    "\n",
    "    def forward(self, inputs):\n",
    "        if CFG.model_type == 'deberta':\n",
    "            outputs = self.model(**inputs)\n",
    "            last_hidden_states = outputs[0]\n",
    "            # feature = torch.mean(last_hidden_states, 1)\n",
    "            weights = self.attention(last_hidden_states)\n",
    "            feats = torch.sum(weights * last_hidden_states, dim=1)\n",
    "            output = self.fc(self.fc_dropout(feats))\n",
    "        elif CFG.model_type == 'bert':\n",
    "            feats = self.model(**inputs)\n",
    "            feats = torch.sum(feats[0], 1)/feats[0].shape[1]\n",
    "            feats = self.dropout(feats)\n",
    "            output = self.head(feats)\n",
    "        return output"
   ]
  },
  {
   "cell_type": "code",
   "execution_count": 24,
   "id": "4427a1df",
   "metadata": {
    "execution": {
     "iopub.execute_input": "2022-06-03T18:26:36.369989Z",
     "iopub.status.busy": "2022-06-03T18:26:36.369578Z",
     "iopub.status.idle": "2022-06-03T18:26:36.395489Z",
     "shell.execute_reply": "2022-06-03T18:26:36.394735Z"
    },
    "papermill": {
     "duration": 0.080047,
     "end_time": "2022-06-03T18:26:36.397176",
     "exception": false,
     "start_time": "2022-06-03T18:26:36.317129",
     "status": "completed"
    },
    "tags": []
   },
   "outputs": [],
   "source": [
    "def get_score(y_true, y_pred):\n",
    "    score = stats.pearsonr(y_true, y_pred)[0]\n",
    "    return score\n",
    "\n",
    "class AverageMeter(object):\n",
    "    \"\"\"Computes and stores the average and current value\"\"\"\n",
    "    def __init__(self):\n",
    "        self.reset()\n",
    "\n",
    "    def reset(self):\n",
    "        self.val = 0\n",
    "        self.avg = 0\n",
    "        self.sum = 0\n",
    "        self.count = 0\n",
    "\n",
    "    def update(self, val, n=1):\n",
    "        self.val = val\n",
    "        self.sum += val * n\n",
    "        self.count += n\n",
    "        self.avg = self.sum / self.count\n",
    "\n",
    "def asMinutes(s):\n",
    "    m = math.floor(s / 60)\n",
    "    s -= m * 60\n",
    "    return '%dm %ds' % (m, s)\n",
    "\n",
    "\n",
    "def timeSince(since, percent):\n",
    "    now = time.time()\n",
    "    s = now - since\n",
    "    es = s / (percent)\n",
    "    rs = es - s\n",
    "    return '%s (remain %s)' % (asMinutes(s), asMinutes(rs))\n",
    "\n",
    "def train_fn(train_loader, model, criterion, optimizer, epoch, scheduler, device):\n",
    "    model.train()\n",
    "    scaler = torch.cuda.amp.GradScaler(enabled=CFG.apex)\n",
    "    losses = AverageMeter()\n",
    "    start = end = time.time()\n",
    "    global_step = 0\n",
    "    for step, (inputs, labels) in enumerate(train_loader):\n",
    "        for k, v in inputs.items():\n",
    "            inputs[k] = v.to(device)\n",
    "        labels = labels.to(device)\n",
    "        batch_size = labels.size(0)\n",
    "        with torch.cuda.amp.autocast(enabled=CFG.apex):\n",
    "            y_preds = model(inputs)\n",
    "        loss = criterion(y_preds.view(-1,1), labels.view(-1,1))\n",
    "        if CFG.gradient_accumulation_steps > 1:\n",
    "            loss = loss / CFG.gradient_accumulation_steps\n",
    "        losses.update(loss.item(), batch_size)\n",
    "        scaler.scale(loss).backward()\n",
    "        grad_norm = torch.nn.utils.clip_grad_norm_(model.parameters(), CFG.max_grad_norm)\n",
    "        if (step + 1) % CFG.gradient_accumulation_steps == 0:\n",
    "            scaler.step(optimizer)\n",
    "            scaler.update()\n",
    "            optimizer.zero_grad()\n",
    "            global_step += 1\n",
    "            if CFG.batch_scheduler:\n",
    "                scheduler.step()\n",
    "        end = time.time()\n",
    "        if step % CFG.print_freq == 0 or step == (len(train_loader)-1):\n",
    "            print('Epoch: [{0}/{1}][{2}/{3}] '\n",
    "                  'Elapsed {remain:s} '\n",
    "                  'Loss: {loss.val:.4f}({loss.avg:.4f}) '\n",
    "                  'Grad: {grad_norm:.4f}  '\n",
    "                  'LR: {lr:.8f}  '\n",
    "                  .format(epoch+1, CFG.epochs, step, len(train_loader), \n",
    "                          remain=timeSince(start, float(step+1)/len(train_loader)),\n",
    "                          loss=losses,\n",
    "                          grad_norm=grad_norm,\n",
    "                          lr=scheduler.get_lr()[0]))\n",
    "    return losses.avg\n",
    "\n",
    "def valid_fn(valid_loader, model, criterion, device):\n",
    "    losses = AverageMeter()\n",
    "    model.eval()\n",
    "    preds = []\n",
    "    start = end = time.time()\n",
    "    for step, (inputs, labels) in enumerate(valid_loader):\n",
    "        for k, v in inputs.items():\n",
    "            inputs[k] = v.to(device)\n",
    "        labels = labels.to(device)\n",
    "        batch_size = labels.size(0)\n",
    "        with torch.no_grad():\n",
    "            y_preds = model(inputs)\n",
    "        loss = criterion(y_preds.view(-1, 1), labels.view(-1, 1))\n",
    "        if CFG.gradient_accumulation_steps > 1:\n",
    "            loss = loss / CFG.gradient_accumulation_steps\n",
    "        losses.update(loss.item(), batch_size)\n",
    "        preds.append(y_preds.sigmoid().to('cpu').numpy())\n",
    "        end = time.time()\n",
    "        if step % CFG.print_freq == 0 or step == (len(valid_loader)-1):\n",
    "            print('EVAL: [{0}/{1}] '\n",
    "                  'Elapsed {remain:s} '\n",
    "                  'Loss: {loss.val:.4f}({loss.avg:.4f}) '\n",
    "                  .format(step, len(valid_loader),\n",
    "                          loss=losses,\n",
    "                          remain=timeSince(start, float(step+1)/len(valid_loader))))\n",
    "    predictions = np.concatenate(preds)\n",
    "    predictions = np.concatenate(predictions)\n",
    "    return losses.avg, predictions\n",
    "\n",
    "def inference_fn(test_loader, model, device):\n",
    "    preds = []\n",
    "    model.eval()\n",
    "    model.to(device)\n",
    "    tk0 = tqdm(test_loader, total=len(test_loader))\n",
    "    for inputs in tk0:\n",
    "        for k, v in inputs.items():\n",
    "            inputs[k] = v.to(device)\n",
    "        with torch.no_grad():\n",
    "            y_preds = model(inputs)\n",
    "        preds.append(y_preds.sigmoid().to('cpu').numpy())\n",
    "    predictions = np.concatenate(preds)\n",
    "    return predictions"
   ]
  },
  {
   "cell_type": "code",
   "execution_count": 25,
   "id": "65818f0b",
   "metadata": {
    "execution": {
     "iopub.execute_input": "2022-06-03T18:26:36.500963Z",
     "iopub.status.busy": "2022-06-03T18:26:36.500417Z",
     "iopub.status.idle": "2022-06-03T18:26:36.508543Z",
     "shell.execute_reply": "2022-06-03T18:26:36.507863Z"
    },
    "papermill": {
     "duration": 0.061993,
     "end_time": "2022-06-03T18:26:36.510176",
     "exception": false,
     "start_time": "2022-06-03T18:26:36.448183",
     "status": "completed"
    },
    "tags": []
   },
   "outputs": [],
   "source": [
    "def get_optimizer_params(model, encoder_lr, decoder_lr, weight_decay=0.0):\n",
    "    param_optimizer = list(model.named_parameters())\n",
    "    no_decay = [\"bias\", \"LayerNorm.bias\", \"LayerNorm.weight\"]\n",
    "    optimizer_parameters = [\n",
    "        {'params': [p for n, p in model.model.named_parameters() if not any(nd in n for nd in no_decay)],\n",
    "         'lr': encoder_lr, 'weight_decay': weight_decay},\n",
    "        {'params': [p for n, p in model.model.named_parameters() if any(nd in n for nd in no_decay)],\n",
    "         'lr': encoder_lr, 'weight_decay': 0.0},\n",
    "        {'params': [p for n, p in model.named_parameters() if \"model\" not in n],\n",
    "         'lr': decoder_lr, 'weight_decay': 0.0}\n",
    "        ]\n",
    "    return optimizer_parameters\n",
    "\n",
    "def get_scheduler(cfg, optimizer, num_train_steps):\n",
    "    if cfg.scheduler == 'linear':\n",
    "        scheduler = get_linear_schedule_with_warmup(\n",
    "            optimizer, num_warmup_steps=cfg.num_warmup_steps, num_training_steps=num_train_steps)\n",
    "    elif cfg.scheduler == 'cosine':\n",
    "        scheduler = get_cosine_schedule_with_warmup(\n",
    "            optimizer, num_warmup_steps=cfg.num_warmup_steps, num_training_steps=num_train_steps, num_cycles=cfg.num_cycles)\n",
    "    return scheduler"
   ]
  },
  {
   "cell_type": "code",
   "execution_count": 26,
   "id": "383da717",
   "metadata": {
    "execution": {
     "iopub.execute_input": "2022-06-03T18:26:36.614485Z",
     "iopub.status.busy": "2022-06-03T18:26:36.614263Z",
     "iopub.status.idle": "2022-06-03T18:27:28.412240Z",
     "shell.execute_reply": "2022-06-03T18:27:28.411466Z"
    },
    "papermill": {
     "duration": 51.852819,
     "end_time": "2022-06-03T18:27:28.414697",
     "exception": false,
     "start_time": "2022-06-03T18:26:36.561878",
     "status": "completed"
    },
    "tags": []
   },
   "outputs": [
    {
     "data": {
      "application/vnd.jupyter.widget-view+json": {
       "model_id": "d587247a97d043bf92598dbb6da0eab6",
       "version_major": 2,
       "version_minor": 0
      },
      "text/plain": [
       "Downloading:   0%|          | 0.00/833M [00:00<?, ?B/s]"
      ]
     },
     "metadata": {},
     "output_type": "display_data"
    },
    {
     "name": "stderr",
     "output_type": "stream",
     "text": [
      "Some weights of the model checkpoint at microsoft/deberta-v3-large were not used when initializing DebertaV2Model: ['mask_predictions.dense.weight', 'mask_predictions.dense.bias', 'mask_predictions.LayerNorm.weight', 'lm_predictions.lm_head.dense.weight', 'lm_predictions.lm_head.dense.bias', 'lm_predictions.lm_head.LayerNorm.weight', 'lm_predictions.lm_head.LayerNorm.bias', 'mask_predictions.classifier.bias', 'mask_predictions.classifier.weight', 'lm_predictions.lm_head.bias', 'mask_predictions.LayerNorm.bias']\n",
      "- This IS expected if you are initializing DebertaV2Model from the checkpoint of a model trained on another task or with another architecture (e.g. initializing a BertForSequenceClassification model from a BertForPreTraining model).\n",
      "- This IS NOT expected if you are initializing DebertaV2Model from the checkpoint of a model that you expect to be exactly identical (initializing a BertForSequenceClassification model from a BertForSequenceClassification model).\n"
     ]
    },
    {
     "name": "stdout",
     "output_type": "stream",
     "text": [
      "hidden size: 1024\n",
      "Model loaded\n"
     ]
    }
   ],
   "source": [
    "model = CustomModel(CFG, config_path=None, pretrained=True)\n",
    "    \n",
    "torch.save(model.config, OUTPUT_DIR + 'config.pth')\n",
    "model.to(device)\n",
    "print('Model loaded')"
   ]
  },
  {
   "cell_type": "code",
   "execution_count": 27,
   "id": "e9767459",
   "metadata": {
    "execution": {
     "iopub.execute_input": "2022-06-03T18:27:28.523389Z",
     "iopub.status.busy": "2022-06-03T18:27:28.523174Z",
     "iopub.status.idle": "2022-06-03T18:27:28.526410Z",
     "shell.execute_reply": "2022-06-03T18:27:28.525647Z"
    },
    "papermill": {
     "duration": 0.059802,
     "end_time": "2022-06-03T18:27:28.528070",
     "exception": false,
     "start_time": "2022-06-03T18:27:28.468268",
     "status": "completed"
    },
    "tags": []
   },
   "outputs": [],
   "source": [
    "#item0 = next(iter(trn_loader))\n",
    "#inp0 = item0[0]\n",
    "#label0 = item0[1]\n",
    "#print(inp0)\n",
    "#print(label0)"
   ]
  },
  {
   "cell_type": "code",
   "execution_count": 28,
   "id": "413e10dc",
   "metadata": {
    "execution": {
     "iopub.execute_input": "2022-06-03T18:27:28.634629Z",
     "iopub.status.busy": "2022-06-03T18:27:28.634437Z",
     "iopub.status.idle": "2022-06-03T18:27:28.637351Z",
     "shell.execute_reply": "2022-06-03T18:27:28.636649Z"
    },
    "papermill": {
     "duration": 0.058253,
     "end_time": "2022-06-03T18:27:28.638984",
     "exception": false,
     "start_time": "2022-06-03T18:27:28.580731",
     "status": "completed"
    },
    "tags": []
   },
   "outputs": [],
   "source": [
    "#inp0.to(device)\n",
    "#model(inp0)"
   ]
  },
  {
   "cell_type": "code",
   "execution_count": 29,
   "id": "09ed5343",
   "metadata": {
    "execution": {
     "iopub.execute_input": "2022-06-03T18:27:28.745099Z",
     "iopub.status.busy": "2022-06-03T18:27:28.744887Z",
     "iopub.status.idle": "2022-06-03T20:05:59.078164Z",
     "shell.execute_reply": "2022-06-03T20:05:59.077243Z"
    },
    "papermill": {
     "duration": 5910.388917,
     "end_time": "2022-06-03T20:05:59.080387",
     "exception": false,
     "start_time": "2022-06-03T18:27:28.691470",
     "status": "completed"
    },
    "tags": []
   },
   "outputs": [
    {
     "name": "stdout",
     "output_type": "stream",
     "text": [
      "Epoch: [1/3][0/1709] Elapsed 0m 2s (remain 68m 56s) Loss: 0.7001(0.7001) Grad: 108972.3359  LR: 0.00002000  \n",
      "Epoch: [1/3][50/1709] Elapsed 0m 54s (remain 29m 37s) Loss: 0.5790(0.6569) Grad: 83301.6406  LR: 0.00002000  \n",
      "Epoch: [1/3][100/1709] Elapsed 1m 46s (remain 28m 22s) Loss: 0.6478(0.6333) Grad: 69788.8359  LR: 0.00001998  \n",
      "Epoch: [1/3][150/1709] Elapsed 2m 39s (remain 27m 22s) Loss: 0.5483(0.6214) Grad: 52950.3516  LR: 0.00001996  \n",
      "Epoch: [1/3][200/1709] Elapsed 3m 31s (remain 26m 26s) Loss: 0.5567(0.6113) Grad: 62215.3438  LR: 0.00001992  \n",
      "Epoch: [1/3][250/1709] Elapsed 4m 23s (remain 25m 32s) Loss: 0.5947(0.6045) Grad: 219127.7344  LR: 0.00001988  \n",
      "Epoch: [1/3][300/1709] Elapsed 5m 16s (remain 24m 38s) Loss: 0.6211(0.6008) Grad: 56188.1094  LR: 0.00001983  \n",
      "Epoch: [1/3][350/1709] Elapsed 6m 8s (remain 23m 45s) Loss: 0.6170(0.5962) Grad: 49901.0000  LR: 0.00001977  \n",
      "Epoch: [1/3][400/1709] Elapsed 7m 0s (remain 22m 52s) Loss: 0.5003(0.5947) Grad: 140681.8438  LR: 0.00001970  \n",
      "Epoch: [1/3][450/1709] Elapsed 7m 53s (remain 21m 59s) Loss: 0.4712(0.5929) Grad: 41194.2227  LR: 0.00001962  \n",
      "Epoch: [1/3][500/1709] Elapsed 8m 45s (remain 21m 6s) Loss: 0.5346(0.5895) Grad: 27628.5527  LR: 0.00001953  \n",
      "Epoch: [1/3][550/1709] Elapsed 9m 37s (remain 20m 13s) Loss: 0.6056(0.5865) Grad: 24279.3398  LR: 0.00001944  \n",
      "Epoch: [1/3][600/1709] Elapsed 10m 29s (remain 19m 21s) Loss: 0.5160(0.5853) Grad: 25822.3418  LR: 0.00001933  \n",
      "Epoch: [1/3][650/1709] Elapsed 11m 22s (remain 18m 28s) Loss: 0.5061(0.5820) Grad: 29820.6484  LR: 0.00001922  \n",
      "Epoch: [1/3][700/1709] Elapsed 12m 14s (remain 17m 36s) Loss: 0.6498(0.5796) Grad: 78828.1328  LR: 0.00001909  \n",
      "Epoch: [1/3][750/1709] Elapsed 13m 6s (remain 16m 43s) Loss: 0.5908(0.5771) Grad: 39129.5977  LR: 0.00001896  \n",
      "Epoch: [1/3][800/1709] Elapsed 13m 59s (remain 15m 51s) Loss: 0.6251(0.5767) Grad: 54699.9922  LR: 0.00001882  \n",
      "Epoch: [1/3][850/1709] Elapsed 14m 51s (remain 14m 58s) Loss: 0.5928(0.5749) Grad: 23656.6895  LR: 0.00001867  \n",
      "Epoch: [1/3][900/1709] Elapsed 15m 43s (remain 14m 6s) Loss: 0.4682(0.5739) Grad: 39127.8555  LR: 0.00001852  \n",
      "Epoch: [1/3][950/1709] Elapsed 16m 35s (remain 13m 13s) Loss: 0.6394(0.5731) Grad: 85513.0000  LR: 0.00001835  \n",
      "Epoch: [1/3][1000/1709] Elapsed 17m 28s (remain 12m 21s) Loss: 0.5622(0.5720) Grad: 11112.7842  LR: 0.00001818  \n",
      "Epoch: [1/3][1050/1709] Elapsed 18m 21s (remain 11m 29s) Loss: 0.5881(0.5714) Grad: 66274.3047  LR: 0.00001800  \n",
      "Epoch: [1/3][1100/1709] Elapsed 19m 13s (remain 10m 36s) Loss: 0.5757(0.5704) Grad: 25401.9316  LR: 0.00001781  \n",
      "Epoch: [1/3][1150/1709] Elapsed 20m 5s (remain 9m 44s) Loss: 0.3692(0.5693) Grad: 19361.4062  LR: 0.00001762  \n",
      "Epoch: [1/3][1200/1709] Elapsed 20m 57s (remain 8m 52s) Loss: 0.3945(0.5686) Grad: 32269.9473  LR: 0.00001741  \n",
      "Epoch: [1/3][1250/1709] Elapsed 21m 50s (remain 7m 59s) Loss: 0.4721(0.5677) Grad: 14336.3037  LR: 0.00001721  \n",
      "Epoch: [1/3][1300/1709] Elapsed 22m 42s (remain 7m 7s) Loss: 0.4770(0.5672) Grad: 28520.9219  LR: 0.00001699  \n",
      "Epoch: [1/3][1350/1709] Elapsed 23m 34s (remain 6m 14s) Loss: 0.5389(0.5658) Grad: 17996.9883  LR: 0.00001677  \n",
      "Epoch: [1/3][1400/1709] Elapsed 24m 27s (remain 5m 22s) Loss: 0.6581(0.5653) Grad: 53038.6719  LR: 0.00001654  \n",
      "Epoch: [1/3][1450/1709] Elapsed 25m 19s (remain 4m 30s) Loss: 0.5512(0.5645) Grad: 14577.3896  LR: 0.00001630  \n",
      "Epoch: [1/3][1500/1709] Elapsed 26m 11s (remain 3m 37s) Loss: 0.6168(0.5641) Grad: 23090.0977  LR: 0.00001606  \n",
      "Epoch: [1/3][1550/1709] Elapsed 27m 3s (remain 2m 45s) Loss: 0.5594(0.5631) Grad: 28881.4238  LR: 0.00001582  \n",
      "Epoch: [1/3][1600/1709] Elapsed 27m 56s (remain 1m 53s) Loss: 0.6483(0.5626) Grad: 40903.1406  LR: 0.00001556  \n",
      "Epoch: [1/3][1650/1709] Elapsed 28m 48s (remain 1m 0s) Loss: 0.5863(0.5618) Grad: 33814.7188  LR: 0.00001531  \n",
      "Epoch: [1/3][1700/1709] Elapsed 29m 40s (remain 0m 8s) Loss: 0.5455(0.5611) Grad: 94464.5234  LR: 0.00001505  \n",
      "Epoch: [1/3][1708/1709] Elapsed 29m 49s (remain 0m 0s) Loss: 0.5012(0.5610) Grad: 35197.6484  LR: 0.00001500  \n",
      "EVAL: [0/570] Elapsed 0m 0s (remain 5m 53s) Loss: 0.5158(0.5158) \n",
      "EVAL: [50/570] Elapsed 0m 16s (remain 2m 43s) Loss: 0.5308(0.5574) \n",
      "EVAL: [100/570] Elapsed 0m 31s (remain 2m 26s) Loss: 0.4183(0.5419) \n",
      "EVAL: [150/570] Elapsed 0m 47s (remain 2m 10s) Loss: 0.4720(0.5339) \n",
      "EVAL: [200/570] Elapsed 1m 2s (remain 1m 54s) Loss: 0.5992(0.5379) \n",
      "EVAL: [250/570] Elapsed 1m 18s (remain 1m 39s) Loss: 0.6455(0.5361) \n",
      "EVAL: [300/570] Elapsed 1m 33s (remain 1m 23s) Loss: 0.4980(0.5386) \n",
      "EVAL: [350/570] Elapsed 1m 49s (remain 1m 8s) Loss: 0.4329(0.5395) \n",
      "EVAL: [400/570] Elapsed 2m 4s (remain 0m 52s) Loss: 0.5632(0.5389) \n",
      "EVAL: [450/570] Elapsed 2m 19s (remain 0m 36s) Loss: 0.4164(0.5366) \n",
      "EVAL: [500/570] Elapsed 2m 35s (remain 0m 21s) Loss: 0.6002(0.5379) \n",
      "EVAL: [550/570] Elapsed 2m 50s (remain 0m 5s) Loss: 0.4953(0.5362) \n",
      "EVAL: [569/570] Elapsed 2m 56s (remain 0m 0s) Loss: 0.4138(0.5377) \n",
      "Epoch 1 - avg_train_loss: 0.5610  avg_val_loss: 0.5377  time: 1966s\n",
      "Epoch 1 - Score: 0.8308\n",
      "Epoch 1 - Save Best Score: 0.8308 Model\n",
      "Score: 0.8308\n",
      "Epoch: [2/3][0/1709] Elapsed 0m 1s (remain 36m 38s) Loss: 0.5052(0.5052) Grad: 68052.1875  LR: 0.00001500  \n",
      "Epoch: [2/3][50/1709] Elapsed 0m 53s (remain 28m 59s) Loss: 0.5639(0.5220) Grad: 21953.6191  LR: 0.00001473  \n",
      "Epoch: [2/3][100/1709] Elapsed 1m 45s (remain 28m 4s) Loss: 0.6250(0.5254) Grad: 39966.7461  LR: 0.00001446  \n",
      "Epoch: [2/3][150/1709] Elapsed 2m 38s (remain 27m 11s) Loss: 0.5275(0.5216) Grad: 24147.1562  LR: 0.00001418  \n",
      "Epoch: [2/3][200/1709] Elapsed 3m 30s (remain 26m 18s) Loss: 0.5297(0.5159) Grad: 14093.1064  LR: 0.00001390  \n",
      "Epoch: [2/3][250/1709] Elapsed 4m 22s (remain 25m 26s) Loss: 0.5871(0.5154) Grad: 208820.8125  LR: 0.00001362  \n",
      "Epoch: [2/3][300/1709] Elapsed 5m 15s (remain 24m 33s) Loss: 0.5892(0.5181) Grad: 24440.4707  LR: 0.00001333  \n",
      "Epoch: [2/3][350/1709] Elapsed 6m 7s (remain 23m 41s) Loss: 0.5716(0.5193) Grad: 38674.2969  LR: 0.00001304  \n",
      "Epoch: [2/3][400/1709] Elapsed 6m 59s (remain 22m 48s) Loss: 0.5594(0.5193) Grad: 22651.2402  LR: 0.00001275  \n",
      "Epoch: [2/3][450/1709] Elapsed 7m 51s (remain 21m 56s) Loss: 0.4844(0.5188) Grad: 31945.6348  LR: 0.00001245  \n",
      "Epoch: [2/3][500/1709] Elapsed 8m 44s (remain 21m 4s) Loss: 0.6013(0.5181) Grad: 387061.1562  LR: 0.00001215  \n",
      "Epoch: [2/3][550/1709] Elapsed 9m 36s (remain 20m 11s) Loss: 0.5802(0.5199) Grad: 20388.2344  LR: 0.00001185  \n",
      "Epoch: [2/3][600/1709] Elapsed 10m 28s (remain 19m 19s) Loss: 0.4774(0.5203) Grad: 51648.3750  LR: 0.00001155  \n",
      "Epoch: [2/3][650/1709] Elapsed 11m 21s (remain 18m 27s) Loss: 0.5758(0.5194) Grad: 20856.1387  LR: 0.00001125  \n",
      "Epoch: [2/3][700/1709] Elapsed 12m 13s (remain 17m 34s) Loss: 0.3776(0.5188) Grad: 68966.2734  LR: 0.00001094  \n",
      "Epoch: [2/3][750/1709] Elapsed 13m 5s (remain 16m 42s) Loss: 0.4752(0.5190) Grad: 48397.3320  LR: 0.00001064  \n",
      "Epoch: [2/3][800/1709] Elapsed 13m 58s (remain 15m 50s) Loss: 0.5477(0.5190) Grad: 39628.5430  LR: 0.00001033  \n",
      "Epoch: [2/3][850/1709] Elapsed 14m 50s (remain 14m 57s) Loss: 0.3907(0.5186) Grad: 19448.2969  LR: 0.00001003  \n",
      "Epoch: [2/3][900/1709] Elapsed 15m 42s (remain 14m 5s) Loss: 0.5195(0.5184) Grad: 334983.0625  LR: 0.00000972  \n",
      "Epoch: [2/3][950/1709] Elapsed 16m 35s (remain 13m 13s) Loss: 0.5301(0.5190) Grad: 28489.0195  LR: 0.00000942  \n",
      "Epoch: [2/3][1000/1709] Elapsed 17m 27s (remain 12m 20s) Loss: 0.5653(0.5190) Grad: 45671.3984  LR: 0.00000911  \n",
      "Epoch: [2/3][1050/1709] Elapsed 18m 19s (remain 11m 28s) Loss: 0.4048(0.5190) Grad: 18707.8125  LR: 0.00000881  \n",
      "Epoch: [2/3][1100/1709] Elapsed 19m 11s (remain 10m 36s) Loss: 0.3536(0.5179) Grad: 7223.8276  LR: 0.00000850  \n",
      "Epoch: [2/3][1150/1709] Elapsed 20m 4s (remain 9m 43s) Loss: 0.4865(0.5185) Grad: 22855.8164  LR: 0.00000820  \n",
      "Epoch: [2/3][1200/1709] Elapsed 20m 56s (remain 8m 51s) Loss: 0.4938(0.5188) Grad: 15192.2969  LR: 0.00000790  \n",
      "Epoch: [2/3][1250/1709] Elapsed 21m 48s (remain 7m 59s) Loss: 0.6173(0.5191) Grad: 38633.5625  LR: 0.00000760  \n",
      "Epoch: [2/3][1300/1709] Elapsed 22m 41s (remain 7m 6s) Loss: 0.5026(0.5191) Grad: 32127.9766  LR: 0.00000730  \n",
      "Epoch: [2/3][1350/1709] Elapsed 23m 33s (remain 6m 14s) Loss: 0.6333(0.5192) Grad: 34638.1133  LR: 0.00000701  \n",
      "Epoch: [2/3][1400/1709] Elapsed 24m 26s (remain 5m 22s) Loss: 0.6519(0.5191) Grad: 17994.9355  LR: 0.00000672  \n",
      "Epoch: [2/3][1450/1709] Elapsed 25m 18s (remain 4m 30s) Loss: 0.5897(0.5194) Grad: 53401.8984  LR: 0.00000643  \n",
      "Epoch: [2/3][1500/1709] Elapsed 26m 10s (remain 3m 37s) Loss: 0.5364(0.5199) Grad: 82331.9531  LR: 0.00000615  \n",
      "Epoch: [2/3][1550/1709] Elapsed 27m 3s (remain 2m 45s) Loss: 0.5898(0.5196) Grad: 83073.8359  LR: 0.00000587  \n",
      "Epoch: [2/3][1600/1709] Elapsed 27m 55s (remain 1m 53s) Loss: 0.4406(0.5191) Grad: 30690.5137  LR: 0.00000559  \n",
      "Epoch: [2/3][1650/1709] Elapsed 28m 47s (remain 1m 0s) Loss: 0.4696(0.5191) Grad: 27115.5840  LR: 0.00000532  \n",
      "Epoch: [2/3][1700/1709] Elapsed 29m 40s (remain 0m 8s) Loss: 0.4174(0.5184) Grad: 33586.2148  LR: 0.00000505  \n",
      "Epoch: [2/3][1708/1709] Elapsed 29m 48s (remain 0m 0s) Loss: 0.5368(0.5184) Grad: 44381.8438  LR: 0.00000501  \n",
      "EVAL: [0/570] Elapsed 0m 0s (remain 4m 46s) Loss: 0.5263(0.5263) \n",
      "EVAL: [50/570] Elapsed 0m 15s (remain 2m 42s) Loss: 0.5189(0.5603) \n",
      "EVAL: [100/570] Elapsed 0m 31s (remain 2m 25s) Loss: 0.4123(0.5485) \n",
      "EVAL: [150/570] Elapsed 0m 46s (remain 2m 10s) Loss: 0.4723(0.5422) \n",
      "EVAL: [200/570] Elapsed 1m 2s (remain 1m 54s) Loss: 0.5744(0.5456) \n",
      "EVAL: [250/570] Elapsed 1m 17s (remain 1m 38s) Loss: 0.6281(0.5428) \n",
      "EVAL: [300/570] Elapsed 1m 33s (remain 1m 23s) Loss: 0.5044(0.5462) \n",
      "EVAL: [350/570] Elapsed 1m 48s (remain 1m 7s) Loss: 0.4251(0.5502) \n",
      "EVAL: [400/570] Elapsed 2m 4s (remain 0m 52s) Loss: 0.5617(0.5487) \n",
      "EVAL: [450/570] Elapsed 2m 19s (remain 0m 36s) Loss: 0.4262(0.5451) \n",
      "EVAL: [500/570] Elapsed 2m 35s (remain 0m 21s) Loss: 0.6171(0.5458) \n",
      "EVAL: [550/570] Elapsed 2m 50s (remain 0m 5s) Loss: 0.5063(0.5437) \n",
      "EVAL: [569/570] Elapsed 2m 56s (remain 0m 0s) Loss: 0.3866(0.5455) \n",
      "Epoch 2 - avg_train_loss: 0.5184  avg_val_loss: 0.5455  time: 1965s\n",
      "Epoch 2 - Score: 0.8382\n",
      "Epoch 2 - Save Best Score: 0.8382 Model\n",
      "Score: 0.8382\n",
      "Epoch: [3/3][0/1709] Elapsed 0m 1s (remain 37m 37s) Loss: 0.3962(0.3962) Grad: 31527.1543  LR: 0.00000500  \n",
      "Epoch: [3/3][50/1709] Elapsed 0m 53s (remain 29m 3s) Loss: 0.5719(0.5023) Grad: 34298.3281  LR: 0.00000474  \n",
      "Epoch: [3/3][100/1709] Elapsed 1m 45s (remain 28m 6s) Loss: 0.5387(0.5060) Grad: 71887.8516  LR: 0.00000448  \n",
      "Epoch: [3/3][150/1709] Elapsed 2m 38s (remain 27m 13s) Loss: 0.4097(0.5009) Grad: 72627.3203  LR: 0.00000423  \n",
      "Epoch: [3/3][200/1709] Elapsed 3m 30s (remain 26m 20s) Loss: 0.5360(0.5035) Grad: 196863.7656  LR: 0.00000398  \n",
      "Epoch: [3/3][250/1709] Elapsed 4m 22s (remain 25m 27s) Loss: 0.5370(0.5028) Grad: 61160.2656  LR: 0.00000374  \n",
      "Epoch: [3/3][300/1709] Elapsed 5m 15s (remain 24m 34s) Loss: 0.5182(0.5040) Grad: 42056.2383  LR: 0.00000350  \n",
      "Epoch: [3/3][350/1709] Elapsed 6m 7s (remain 23m 42s) Loss: 0.4392(0.5036) Grad: 67642.9844  LR: 0.00000327  \n",
      "Epoch: [3/3][400/1709] Elapsed 6m 59s (remain 22m 49s) Loss: 0.4418(0.5012) Grad: 54182.5977  LR: 0.00000305  \n",
      "Epoch: [3/3][450/1709] Elapsed 7m 52s (remain 21m 57s) Loss: 0.4950(0.5023) Grad: 16727.8965  LR: 0.00000283  \n",
      "Epoch: [3/3][500/1709] Elapsed 8m 44s (remain 21m 4s) Loss: 0.4186(0.5004) Grad: 142578.6562  LR: 0.00000262  \n",
      "Epoch: [3/3][550/1709] Elapsed 9m 36s (remain 20m 12s) Loss: 0.4211(0.4993) Grad: 25974.1738  LR: 0.00000242  \n",
      "Epoch: [3/3][600/1709] Elapsed 10m 29s (remain 19m 19s) Loss: 0.5699(0.5000) Grad: 57183.8828  LR: 0.00000222  \n",
      "Epoch: [3/3][650/1709] Elapsed 11m 21s (remain 18m 27s) Loss: 0.5694(0.5017) Grad: 13490.1738  LR: 0.00000203  \n",
      "Epoch: [3/3][700/1709] Elapsed 12m 13s (remain 17m 35s) Loss: 0.4723(0.5029) Grad: 18280.4551  LR: 0.00000185  \n",
      "Epoch: [3/3][750/1709] Elapsed 13m 6s (remain 16m 42s) Loss: 0.4622(0.5032) Grad: 25738.9648  LR: 0.00000168  \n",
      "Epoch: [3/3][800/1709] Elapsed 13m 58s (remain 15m 50s) Loss: 0.4154(0.5020) Grad: 21896.6016  LR: 0.00000151  \n",
      "Epoch: [3/3][850/1709] Elapsed 14m 50s (remain 14m 57s) Loss: 0.4352(0.5032) Grad: 22466.4961  LR: 0.00000136  \n",
      "Epoch: [3/3][900/1709] Elapsed 15m 42s (remain 14m 5s) Loss: 0.4780(0.5034) Grad: 12446.9502  LR: 0.00000121  \n",
      "Epoch: [3/3][950/1709] Elapsed 16m 35s (remain 13m 13s) Loss: 0.4915(0.5038) Grad: 11531.7676  LR: 0.00000106  \n",
      "Epoch: [3/3][1000/1709] Elapsed 17m 27s (remain 12m 20s) Loss: 0.4556(0.5030) Grad: 17231.6191  LR: 0.00000093  \n",
      "Epoch: [3/3][1050/1709] Elapsed 18m 19s (remain 11m 28s) Loss: 0.5008(0.5037) Grad: 31229.5605  LR: 0.00000081  \n",
      "Epoch: [3/3][1100/1709] Elapsed 19m 12s (remain 10m 36s) Loss: 0.4841(0.5031) Grad: 44534.4258  LR: 0.00000069  \n",
      "Epoch: [3/3][1150/1709] Elapsed 20m 4s (remain 9m 43s) Loss: 0.4450(0.5036) Grad: 47966.9414  LR: 0.00000058  \n",
      "Epoch: [3/3][1200/1709] Elapsed 20m 56s (remain 8m 51s) Loss: 0.3840(0.5038) Grad: 9793.0293  LR: 0.00000048  \n",
      "Epoch: [3/3][1250/1709] Elapsed 21m 49s (remain 7m 59s) Loss: 0.5650(0.5037) Grad: 24025.3848  LR: 0.00000039  \n",
      "Epoch: [3/3][1300/1709] Elapsed 22m 41s (remain 7m 6s) Loss: 0.6075(0.5034) Grad: 33130.9453  LR: 0.00000031  \n",
      "Epoch: [3/3][1350/1709] Elapsed 23m 34s (remain 6m 14s) Loss: 0.4313(0.5028) Grad: 14190.3320  LR: 0.00000024  \n",
      "Epoch: [3/3][1400/1709] Elapsed 24m 26s (remain 5m 22s) Loss: 0.5375(0.5026) Grad: 28819.5176  LR: 0.00000018  \n",
      "Epoch: [3/3][1450/1709] Elapsed 25m 18s (remain 4m 30s) Loss: 0.5644(0.5038) Grad: 12365.2764  LR: 0.00000013  \n",
      "Epoch: [3/3][1500/1709] Elapsed 26m 10s (remain 3m 37s) Loss: 0.5389(0.5039) Grad: 24339.6230  LR: 0.00000008  \n",
      "Epoch: [3/3][1550/1709] Elapsed 27m 3s (remain 2m 45s) Loss: 0.4755(0.5039) Grad: 37903.7656  LR: 0.00000005  \n",
      "Epoch: [3/3][1600/1709] Elapsed 27m 55s (remain 1m 53s) Loss: 0.5786(0.5034) Grad: 35754.3164  LR: 0.00000002  \n",
      "Epoch: [3/3][1650/1709] Elapsed 28m 47s (remain 1m 0s) Loss: 0.5410(0.5033) Grad: 28015.3145  LR: 0.00000001  \n",
      "Epoch: [3/3][1700/1709] Elapsed 29m 40s (remain 0m 8s) Loss: 0.4812(0.5039) Grad: 22518.0371  LR: 0.00000000  \n",
      "Epoch: [3/3][1708/1709] Elapsed 29m 48s (remain 0m 0s) Loss: 0.3686(0.5036) Grad: 17781.7871  LR: 0.00000000  \n",
      "EVAL: [0/570] Elapsed 0m 0s (remain 4m 58s) Loss: 0.5363(0.5363) \n",
      "EVAL: [50/570] Elapsed 0m 15s (remain 2m 42s) Loss: 0.5340(0.5696) \n",
      "EVAL: [100/570] Elapsed 0m 31s (remain 2m 26s) Loss: 0.4116(0.5538) \n",
      "EVAL: [150/570] Elapsed 0m 46s (remain 2m 10s) Loss: 0.4963(0.5481) \n",
      "EVAL: [200/570] Elapsed 1m 2s (remain 1m 54s) Loss: 0.5751(0.5511) \n",
      "EVAL: [250/570] Elapsed 1m 17s (remain 1m 39s) Loss: 0.6245(0.5488) \n",
      "EVAL: [300/570] Elapsed 1m 33s (remain 1m 23s) Loss: 0.5055(0.5529) \n",
      "EVAL: [350/570] Elapsed 1m 48s (remain 1m 8s) Loss: 0.4186(0.5590) \n",
      "EVAL: [400/570] Elapsed 2m 4s (remain 0m 52s) Loss: 0.5588(0.5581) \n",
      "EVAL: [450/570] Elapsed 2m 19s (remain 0m 36s) Loss: 0.4295(0.5543) \n",
      "EVAL: [500/570] Elapsed 2m 35s (remain 0m 21s) Loss: 0.6206(0.5550) \n",
      "EVAL: [550/570] Elapsed 2m 50s (remain 0m 5s) Loss: 0.5151(0.5530) \n",
      "EVAL: [569/570] Elapsed 2m 56s (remain 0m 0s) Loss: 0.3752(0.5554) \n",
      "Epoch 3 - avg_train_loss: 0.5036  avg_val_loss: 0.5554  time: 1965s\n",
      "Epoch 3 - Score: 0.8359\n",
      "Score: 0.8382\n"
     ]
    }
   ],
   "source": [
    "optimizer_parameters = get_optimizer_params(model,\n",
    "                                            encoder_lr=CFG.encoder_lr, \n",
    "                                            decoder_lr=CFG.decoder_lr,\n",
    "                                            weight_decay=CFG.weight_decay)\n",
    "optimizer = AdamW(optimizer_parameters, lr=CFG.encoder_lr, eps=CFG.eps, betas=CFG.betas)\n",
    "\n",
    "num_train_steps = int(len(trn_ds) / CFG.batch_size * CFG.epochs)\n",
    "scheduler = get_scheduler(CFG, optimizer, num_train_steps)\n",
    "\n",
    "criterion = nn.BCEWithLogitsLoss(reduction=\"mean\")\n",
    "\n",
    "best_score = 0.\n",
    "\n",
    "for epoch in range(CFG.epochs):\n",
    "    start_time = time.time()\n",
    "    \n",
    "    # train\n",
    "    avg_loss = train_fn(trn_loader,model,criterion,optimizer,epoch,scheduler,device)\n",
    "    \n",
    "    # eval\n",
    "    avg_val_loss, predictions = valid_fn(val_loader, model, criterion, device)\n",
    "    \n",
    "    # scoring\n",
    "    score = get_score(val_labels, predictions)\n",
    "    \n",
    "    elapsed = time.time() - start_time\n",
    "    \n",
    "    print(f'Epoch {epoch+1} - avg_train_loss: {avg_loss:.4f}  avg_val_loss: {avg_val_loss:.4f}  time: {elapsed:.0f}s')\n",
    "    print(f'Epoch {epoch+1} - Score: {score:.4f}')\n",
    "    \n",
    "    if best_score < score:\n",
    "        best_score = score\n",
    "        print(f'Epoch {epoch+1} - Save Best Score: {best_score:.4f} Model')\n",
    "        torch.save({'model': model.state_dict(),\n",
    "                    'predictions': predictions},\n",
    "                   OUTPUT_DIR+f\"{CFG.model_name.replace('/', '-')}_best.pth\")\n",
    "        \n",
    "    preds = torch.load(OUTPUT_DIR+f\"{CFG.model_name.replace('/', '-')}_best.pth\", \n",
    "                             map_location=torch.device('cpu'))['predictions']\n",
    "\n",
    "    torch.cuda.empty_cache()\n",
    "    gc.collect()\n",
    "    \n",
    "    labels = val_labels\n",
    "    score = get_score(labels, preds)\n",
    "    print(f'Score: {score:<.4f}')"
   ]
  },
  {
   "attachments": {
    "edf7a4ec-065b-4e25-bda1-4e881120f036.png": {
     "image/png": "[encoded data removed]"
    },
    "fb3c3bfe-0547-430e-ba04-6312be8863aa.png": {
     "image/png": "[encoded data removed]"
    }
   },
   "cell_type": "markdown",
   "id": "84342999",
   "metadata": {
    "papermill": {
     "duration": 0.099792,
     "end_time": "2022-06-03T20:05:59.282172",
     "exception": false,
     "start_time": "2022-06-03T20:05:59.182380",
     "status": "completed"
    },
    "tags": []
   },
   "source": [
    "```\n",
    "class CFG:\n",
    "    model_name = \"microsoft/deberta-v3-large\"\n",
    "    max_len = 128\n",
    "    val_size = 0.25\n",
    "    seed = 42\n",
    "    batch_size = 16\n",
    "    num_workers = 4\n",
    "    encoder_lr = 2e-5\n",
    "    decoder_lr = 2e-5\n",
    "    weight_decay = 0.01\n",
    "    eps = 1e-6\n",
    "    betas = (0.9, 0.999)\n",
    "    num_cycles=0.5\n",
    "    num_warmup_steps = 0\n",
    "    scheduler = 'cosine' # ['linear','cosine']\n",
    "    batch_scheduler = True\n",
    "    fc_dropout = 0.20\n",
    "    target_size = 1\n",
    "    epochs = 3\n",
    "    train = True\n",
    "    apex = True\n",
    "    gradient_accumulation_steps = 1\n",
    "    max_grad_norm = 1000\n",
    "    print_freq = 100\n",
    "    debug = False\n",
    "```\n",
    "\n",
    "(5/21) Score: 0.8402\n",
    "\n",
    "```\n",
    "class CFG:\n",
    "    model_name = \"microsoft/deberta-v3-large\"\n",
    "    max_len = 128\n",
    "    val_size = 0.25\n",
    "    seed = 42\n",
    "    batch_size = 16\n",
    "    num_workers = 4\n",
    "    encoder_lr = 2e-5\n",
    "    decoder_lr = 2e-5\n",
    "    weight_decay = 0.01\n",
    "    eps = 1e-6\n",
    "    betas = (0.9, 0.999)\n",
    "    num_cycles=0.5\n",
    "    num_warmup_steps = 0\n",
    "    scheduler = 'cosine' # ['linear','cosine']\n",
    "    batch_scheduler = True\n",
    "    fc_dropout = 0.20\n",
    "    target_size = 1\n",
    "    epochs = 6\n",
    "    train = True\n",
    "    apex = True\n",
    "    gradient_accumulation_steps = 1\n",
    "    max_grad_norm = 1000\n",
    "    print_freq = 100\n",
    "    debug = False\n",
    "```\n",
    "\n",
    "(5/22) Score: 0.8385\n",
    "\n",
    "Just jamming in bert-for-patents without changing the model structure at all results in garbage.\n",
    "\n",
    "![image.png](attachment:fb3c3bfe-0547-430e-ba04-6312be8863aa.png)\n",
    "\n",
    "Just jamming in roberta-large doesn't work either.\n",
    "\n",
    "![image.png](attachment:edf7a4ec-065b-4e25-bda1-4e881120f036.png)"
   ]
  },
  {
   "attachments": {
    "7f2bc659-25fe-4a90-84ce-9bfaf870690c.png": {
     "image/png": "[encoded data removed]"
    },
    "d55e10e4-9015-4ec6-8970-e6de44728e16.png": {
     "image/png": "[encoded data removed]"
    }
   },
   "cell_type": "markdown",
   "id": "a757a027",
   "metadata": {
    "papermill": {
     "duration": 0.099647,
     "end_time": "2022-06-03T20:05:59.482664",
     "exception": false,
     "start_time": "2022-06-03T20:05:59.383017",
     "status": "completed"
    },
    "tags": []
   },
   "source": [
    "(5/31) New attempt with bert-for-patent\n",
    "\n",
    "![image.png](attachment:d55e10e4-9015-4ec6-8970-e6de44728e16.png)\n",
    "\n",
    "(6/1) Roberta-base:\n",
    "```\n",
    "class CFG:\n",
    "    model_type = 'bert' # ['bert', 'deberta']\n",
    "    model_name = 'roberta-base' # ['anferico/bert-for-patents' ''../input/bert-for-patent/bert-for-patents/', 'microsoft/deberta-v3-large']\n",
    "    max_len = 150\n",
    "    val_size = 0.25\n",
    "    seed = 42\n",
    "    batch_size = 16\n",
    "    num_workers = 4\n",
    "    encoder_lr = 2e-5\n",
    "    decoder_lr = 2e-5\n",
    "    weight_decay = 0.01\n",
    "    eps = 1e-6\n",
    "    betas = (0.9, 0.999)\n",
    "    num_cycles=0.5\n",
    "    num_warmup_steps = 0\n",
    "    scheduler = 'cosine' # ['linear','cosine']\n",
    "    batch_scheduler = True\n",
    "    fc_dropout = 0.20\n",
    "    target_size = 1\n",
    "    epochs = 3\n",
    "    train = True\n",
    "    apex = True\n",
    "    gradient_accumulation_steps = 1\n",
    "    max_grad_norm = 1000\n",
    "    print_freq = 100\n",
    "    debug = False\n",
    "```\n",
    "\n",
    "![image.png](attachment:7f2bc659-25fe-4a90-84ce-9bfaf870690c.png)"
   ]
  },
  {
   "attachments": {
    "1e0ddb9c-fa9b-4778-be1d-6f97f26c6aec.png": {
     "image/png": "[encoded data removed]"
    }
   },
   "cell_type": "markdown",
   "id": "8e24a593",
   "metadata": {
    "papermill": {
     "duration": 0.101407,
     "end_time": "2022-06-03T20:05:59.684630",
     "exception": false,
     "start_time": "2022-06-03T20:05:59.583223",
     "status": "completed"
    },
    "tags": []
   },
   "source": [
    "(6/1) Roberta-base with Deberta's post-layers\n",
    "\n",
    "![image.png](attachment:1e0ddb9c-fa9b-4778-be1d-6f97f26c6aec.png)"
   ]
  },
  {
   "cell_type": "code",
   "execution_count": 30,
   "id": "61d7f26b",
   "metadata": {
    "execution": {
     "iopub.execute_input": "2022-06-03T20:05:59.887944Z",
     "iopub.status.busy": "2022-06-03T20:05:59.887441Z",
     "iopub.status.idle": "2022-06-03T20:06:01.080768Z",
     "shell.execute_reply": "2022-06-03T20:06:01.079836Z"
    },
    "papermill": {
     "duration": 1.297858,
     "end_time": "2022-06-03T20:06:01.082702",
     "exception": false,
     "start_time": "2022-06-03T20:05:59.784844",
     "status": "completed"
    },
    "tags": []
   },
   "outputs": [
    {
     "data": {
      "application/vnd.jupyter.widget-view+json": {
       "model_id": "96eff520c12e4b39b5246db47b4f8035",
       "version_major": 2,
       "version_minor": 0
      },
      "text/plain": [
       "  0%|          | 0/3 [00:00<?, ?it/s]"
      ]
     },
     "metadata": {},
     "output_type": "display_data"
    }
   ],
   "source": [
    "test_dataset = TestDataset(CFG, test_ds)\n",
    "test_loader = DataLoader(test_dataset,\n",
    "                         batch_size=CFG.batch_size,\n",
    "                         shuffle=False,\n",
    "                         num_workers=CFG.num_workers, pin_memory=True, drop_last=False)\n",
    "predictions = inference_fn(test_loader, model, device)"
   ]
  },
  {
   "cell_type": "code",
   "execution_count": 31,
   "id": "db39aea1",
   "metadata": {
    "execution": {
     "iopub.execute_input": "2022-06-03T20:06:01.291189Z",
     "iopub.status.busy": "2022-06-03T20:06:01.290897Z",
     "iopub.status.idle": "2022-06-03T20:06:01.299636Z",
     "shell.execute_reply": "2022-06-03T20:06:01.298993Z"
    },
    "papermill": {
     "duration": 0.113668,
     "end_time": "2022-06-03T20:06:01.301569",
     "exception": false,
     "start_time": "2022-06-03T20:06:01.187901",
     "status": "completed"
    },
    "tags": []
   },
   "outputs": [
    {
     "data": {
      "text/plain": [
       "array([[5.6182784e-01],\n",
       "       [7.6891184e-01],\n",
       "       [5.9751570e-01],\n",
       "       [2.2569174e-01],\n",
       "       [1.8517383e-04],\n",
       "       [4.7342917e-01],\n",
       "       [5.0178778e-01],\n",
       "       [1.2349675e-04],\n",
       "       [2.4082696e-01],\n",
       "       [9.9935275e-01],\n",
       "       [2.2509794e-01],\n",
       "       [2.6385301e-01],\n",
       "       [7.7413684e-01],\n",
       "       [8.6054224e-01],\n",
       "       [7.7479386e-01],\n",
       "       [2.9719993e-01],\n",
       "       [1.9775851e-01],\n",
       "       [2.2712931e-04],\n",
       "       [5.4280216e-01],\n",
       "       [2.3928957e-01],\n",
       "       [2.8498706e-01],\n",
       "       [2.4356963e-01],\n",
       "       [7.5295053e-02],\n",
       "       [2.2094059e-01],\n",
       "       [5.4607540e-01],\n",
       "       [1.6030566e-04],\n",
       "       [2.1591359e-04],\n",
       "       [1.7559767e-04],\n",
       "       [1.6339068e-04],\n",
       "       [6.5781677e-01],\n",
       "       [1.3861945e-03],\n",
       "       [1.8533593e-03],\n",
       "       [6.6778320e-01],\n",
       "       [5.6865388e-01],\n",
       "       [3.3628112e-01],\n",
       "       [2.4910793e-01]], dtype=float32)"
      ]
     },
     "metadata": {},
     "output_type": "display_data"
    }
   ],
   "source": [
    "display(predictions)"
   ]
  },
  {
   "cell_type": "code",
   "execution_count": 32,
   "id": "d831897c",
   "metadata": {
    "execution": {
     "iopub.execute_input": "2022-06-03T20:06:01.505416Z",
     "iopub.status.busy": "2022-06-03T20:06:01.505192Z",
     "iopub.status.idle": "2022-06-03T20:06:01.511789Z",
     "shell.execute_reply": "2022-06-03T20:06:01.511159Z"
    },
    "papermill": {
     "duration": 0.110363,
     "end_time": "2022-06-03T20:06:01.514075",
     "exception": false,
     "start_time": "2022-06-03T20:06:01.403712",
     "status": "completed"
    },
    "tags": []
   },
   "outputs": [
    {
     "data": {
      "text/plain": [
       "array([[5.6182784e-01],\n",
       "       [7.6891184e-01],\n",
       "       [5.9751570e-01],\n",
       "       [2.2569174e-01],\n",
       "       [1.8517383e-04],\n",
       "       [4.7342917e-01],\n",
       "       [5.0178778e-01],\n",
       "       [1.2349675e-04],\n",
       "       [2.4082696e-01],\n",
       "       [9.9935275e-01],\n",
       "       [2.2509794e-01],\n",
       "       [2.6385301e-01],\n",
       "       [7.7413684e-01],\n",
       "       [8.6054224e-01],\n",
       "       [7.7479386e-01],\n",
       "       [2.9719993e-01],\n",
       "       [1.9775851e-01],\n",
       "       [2.2712931e-04],\n",
       "       [5.4280216e-01],\n",
       "       [2.3928957e-01],\n",
       "       [2.8498706e-01],\n",
       "       [2.4356963e-01],\n",
       "       [7.5295053e-02],\n",
       "       [2.2094059e-01],\n",
       "       [5.4607540e-01],\n",
       "       [1.6030566e-04],\n",
       "       [2.1591359e-04],\n",
       "       [1.7559767e-04],\n",
       "       [1.6339068e-04],\n",
       "       [6.5781677e-01],\n",
       "       [1.3861945e-03],\n",
       "       [1.8533593e-03],\n",
       "       [6.6778320e-01],\n",
       "       [5.6865388e-01],\n",
       "       [3.3628112e-01],\n",
       "       [2.4910793e-01]], dtype=float32)"
      ]
     },
     "execution_count": 32,
     "metadata": {},
     "output_type": "execute_result"
    }
   ],
   "source": [
    "np.clip(predictions,0,1)"
   ]
  }
 ],
 "metadata": {
  "kernelspec": {
   "display_name": "Python 3",
   "language": "python",
   "name": "python3"
  },
  "language_info": {
   "codemirror_mode": {
    "name": "ipython",
    "version": 3
   },
   "file_extension": ".py",
   "mimetype": "text/x-python",
   "name": "python",
   "nbconvert_exporter": "python",
   "pygments_lexer": "ipython3",
   "version": "3.7.12"
  },
  "papermill": {
   "default_parameters": {},
   "duration": 6017.326771,
   "end_time": "2022-06-03T20:06:04.352999",
   "environment_variables": {},
   "exception": null,
   "input_path": "__notebook__.ipynb",
   "output_path": "__notebook__.ipynb",
   "parameters": {},
   "start_time": "2022-06-03T18:25:47.026228",
   "version": "2.3.4"
  },
  "widgets": {
   "application/vnd.jupyter.widget-state+json": {
    "state": {
     "0081eaf634b24a44893a3cf9f367aa27": {
      "model_module": "@jupyter-widgets/controls",
      "model_module_version": "1.5.0",
      "model_name": "HTMLModel",
      "state": {
       "_dom_classes": [],
       "_model_module": "@jupyter-widgets/controls",
       "_model_module_version": "1.5.0",
       "_model_name": "HTMLModel",
       "_view_count": null,
       "_view_module": "@jupyter-widgets/controls",
       "_view_module_version": "1.5.0",
       "_view_name": "HTMLView",
       "description": "",
       "description_tooltip": null,
       "layout": "IPY_MODEL_6e1fe1e41bd54d5f970f7ca093806deb",
       "placeholder": "​",
       "style": "IPY_MODEL_d716487a8b2f4d358cd5851d5a03f455",
       "value": "Downloading: 100%"
      }
     },
     "03048aa409bc438aa0fe520ff19229d9": {
      "model_module": "@jupyter-widgets/base",
      "model_module_version": "1.2.0",
      "model_name": "LayoutModel",
      "state": {
       "_model_module": "@jupyter-widgets/base",
       "_model_module_version": "1.2.0",
       "_model_name": "LayoutModel",
       "_view_count": null,
       "_view_module": "@jupyter-widgets/base",
       "_view_module_version": "1.2.0",
       "_view_name": "LayoutView",
       "align_content": null,
       "align_items": null,
       "align_self": null,
       "border": null,
       "bottom": null,
       "display": null,
       "flex": null,
       "flex_flow": null,
       "grid_area": null,
       "grid_auto_columns": null,
       "grid_auto_flow": null,
       "grid_auto_rows": null,
       "grid_column": null,
       "grid_gap": null,
       "grid_row": null,
       "grid_template_areas": null,
       "grid_template_columns": null,
       "grid_template_rows": null,
       "height": null,
       "justify_content": null,
       "justify_items": null,
       "left": null,
       "margin": null,
       "max_height": null,
       "max_width": null,
       "min_height": null,
       "min_width": null,
       "object_fit": null,
       "object_position": null,
       "order": null,
       "overflow": null,
       "overflow_x": null,
       "overflow_y": null,
       "padding": null,
       "right": null,
       "top": null,
       "visibility": null,
       "width": null
      }
     },
     "0350ecd84e324551924b0ebcb397b2ba": {
      "model_module": "@jupyter-widgets/base",
      "model_module_version": "1.2.0",
      "model_name": "LayoutModel",
      "state": {
       "_model_module": "@jupyter-widgets/base",
       "_model_module_version": "1.2.0",
       "_model_name": "LayoutModel",
       "_view_count": null,
       "_view_module": "@jupyter-widgets/base",
       "_view_module_version": "1.2.0",
       "_view_name": "LayoutView",
       "align_content": null,
       "align_items": null,
       "align_self": null,
       "border": null,
       "bottom": null,
       "display": null,
       "flex": null,
       "flex_flow": null,
       "grid_area": null,
       "grid_auto_columns": null,
       "grid_auto_flow": null,
       "grid_auto_rows": null,
       "grid_column": null,
       "grid_gap": null,
       "grid_row": null,
       "grid_template_areas": null,
       "grid_template_columns": null,
       "grid_template_rows": null,
       "height": null,
       "justify_content": null,
       "justify_items": null,
       "left": null,
       "margin": null,
       "max_height": null,
       "max_width": null,
       "min_height": null,
       "min_width": null,
       "object_fit": null,
       "object_position": null,
       "order": null,
       "overflow": null,
       "overflow_x": null,
       "overflow_y": null,
       "padding": null,
       "right": null,
       "top": null,
       "visibility": null,
       "width": null
      }
     },
     "0459d2d4e41e42f08215db00d0a705a1": {
      "model_module": "@jupyter-widgets/controls",
      "model_module_version": "1.5.0",
      "model_name": "HTMLModel",
      "state": {
       "_dom_classes": [],
       "_model_module": "@jupyter-widgets/controls",
       "_model_module_version": "1.5.0",
       "_model_name": "HTMLModel",
       "_view_count": null,
       "_view_module": "@jupyter-widgets/controls",
       "_view_module_version": "1.5.0",
       "_view_name": "HTMLView",
       "description": "",
       "description_tooltip": null,
       "layout": "IPY_MODEL_e4b1cd26ef89493684fd8041071ffb9e",
       "placeholder": "​",
       "style": "IPY_MODEL_f7e194ad66944616a8b46826f0802d55",
       "value": "Downloading: 100%"
      }
     },
     "04a616a91530468fb77a63b580be8ec0": {
      "model_module": "@jupyter-widgets/controls",
      "model_module_version": "1.5.0",
      "model_name": "DescriptionStyleModel",
      "state": {
       "_model_module": "@jupyter-widgets/controls",
       "_model_module_version": "1.5.0",
       "_model_name": "DescriptionStyleModel",
       "_view_count": null,
       "_view_module": "@jupyter-widgets/base",
       "_view_module_version": "1.2.0",
       "_view_name": "StyleView",
       "description_width": ""
      }
     },
     "0b0f436f670b44d99158fc0e5c7147b1": {
      "model_module": "@jupyter-widgets/controls",
      "model_module_version": "1.5.0",
      "model_name": "ProgressStyleModel",
      "state": {
       "_model_module": "@jupyter-widgets/controls",
       "_model_module_version": "1.5.0",
       "_model_name": "ProgressStyleModel",
       "_view_count": null,
       "_view_module": "@jupyter-widgets/base",
       "_view_module_version": "1.2.0",
       "_view_name": "StyleView",
       "bar_color": null,
       "description_width": ""
      }
     },
     "0e990a7274f94375ad1fb6a87c233d2e": {
      "model_module": "@jupyter-widgets/controls",
      "model_module_version": "1.5.0",
      "model_name": "FloatProgressModel",
      "state": {
       "_dom_classes": [],
       "_model_module": "@jupyter-widgets/controls",
       "_model_module_version": "1.5.0",
       "_model_name": "FloatProgressModel",
       "_view_count": null,
       "_view_module": "@jupyter-widgets/controls",
       "_view_module_version": "1.5.0",
       "_view_name": "ProgressView",
       "bar_style": "success",
       "description": "",
       "description_tooltip": null,
       "layout": "IPY_MODEL_1e1ef73002614065be303cf279c44320",
       "max": 2464616.0,
       "min": 0.0,
       "orientation": "horizontal",
       "style": "IPY_MODEL_8340fd6229244e699a72e8b27cc5337e",
       "value": 2464616.0
      }
     },
     "0f7fc59b86b64afd914f7e4d3e6f6de7": {
      "model_module": "@jupyter-widgets/controls",
      "model_module_version": "1.5.0",
      "model_name": "FloatProgressModel",
      "state": {
       "_dom_classes": [],
       "_model_module": "@jupyter-widgets/controls",
       "_model_module_version": "1.5.0",
       "_model_name": "FloatProgressModel",
       "_view_count": null,
       "_view_module": "@jupyter-widgets/controls",
       "_view_module_version": "1.5.0",
       "_view_name": "ProgressView",
       "bar_style": "success",
       "description": "",
       "description_tooltip": null,
       "layout": "IPY_MODEL_47d49e55c40949df9cf685312a7f9da2",
       "max": 3.0,
       "min": 0.0,
       "orientation": "horizontal",
       "style": "IPY_MODEL_51026c33d71b4cb2932bca7bd67edaf5",
       "value": 3.0
      }
     },
     "1475f57194844e8ca79b06887d59946f": {
      "model_module": "@jupyter-widgets/controls",
      "model_module_version": "1.5.0",
      "model_name": "DescriptionStyleModel",
      "state": {
       "_model_module": "@jupyter-widgets/controls",
       "_model_module_version": "1.5.0",
       "_model_name": "DescriptionStyleModel",
       "_view_count": null,
       "_view_module": "@jupyter-widgets/base",
       "_view_module_version": "1.2.0",
       "_view_name": "StyleView",
       "description_width": ""
      }
     },
     "1b3bc37960084a609b573c5b164faba6": {
      "model_module": "@jupyter-widgets/base",
      "model_module_version": "1.2.0",
      "model_name": "LayoutModel",
      "state": {
       "_model_module": "@jupyter-widgets/base",
       "_model_module_version": "1.2.0",
       "_model_name": "LayoutModel",
       "_view_count": null,
       "_view_module": "@jupyter-widgets/base",
       "_view_module_version": "1.2.0",
       "_view_name": "LayoutView",
       "align_content": null,
       "align_items": null,
       "align_self": null,
       "border": null,
       "bottom": null,
       "display": null,
       "flex": null,
       "flex_flow": null,
       "grid_area": null,
       "grid_auto_columns": null,
       "grid_auto_flow": null,
       "grid_auto_rows": null,
       "grid_column": null,
       "grid_gap": null,
       "grid_row": null,
       "grid_template_areas": null,
       "grid_template_columns": null,
       "grid_template_rows": null,
       "height": null,
       "justify_content": null,
       "justify_items": null,
       "left": null,
       "margin": null,
       "max_height": null,
       "max_width": null,
       "min_height": null,
       "min_width": null,
       "object_fit": null,
       "object_position": null,
       "order": null,
       "overflow": null,
       "overflow_x": null,
       "overflow_y": null,
       "padding": null,
       "right": null,
       "top": null,
       "visibility": null,
       "width": null
      }
     },
     "1d16ec337fe14952804b49bcd174d20b": {
      "model_module": "@jupyter-widgets/controls",
      "model_module_version": "1.5.0",
      "model_name": "DescriptionStyleModel",
      "state": {
       "_model_module": "@jupyter-widgets/controls",
       "_model_module_version": "1.5.0",
       "_model_name": "DescriptionStyleModel",
       "_view_count": null,
       "_view_module": "@jupyter-widgets/base",
       "_view_module_version": "1.2.0",
       "_view_name": "StyleView",
       "description_width": ""
      }
     },
     "1e1ef73002614065be303cf279c44320": {
      "model_module": "@jupyter-widgets/base",
      "model_module_version": "1.2.0",
      "model_name": "LayoutModel",
      "state": {
       "_model_module": "@jupyter-widgets/base",
       "_model_module_version": "1.2.0",
       "_model_name": "LayoutModel",
       "_view_count": null,
       "_view_module": "@jupyter-widgets/base",
       "_view_module_version": "1.2.0",
       "_view_name": "LayoutView",
       "align_content": null,
       "align_items": null,
       "align_self": null,
       "border": null,
       "bottom": null,
       "display": null,
       "flex": null,
       "flex_flow": null,
       "grid_area": null,
       "grid_auto_columns": null,
       "grid_auto_flow": null,
       "grid_auto_rows": null,
       "grid_column": null,
       "grid_gap": null,
       "grid_row": null,
       "grid_template_areas": null,
       "grid_template_columns": null,
       "grid_template_rows": null,
       "height": null,
       "justify_content": null,
       "justify_items": null,
       "left": null,
       "margin": null,
       "max_height": null,
       "max_width": null,
       "min_height": null,
       "min_width": null,
       "object_fit": null,
       "object_position": null,
       "order": null,
       "overflow": null,
       "overflow_x": null,
       "overflow_y": null,
       "padding": null,
       "right": null,
       "top": null,
       "visibility": null,
       "width": null
      }
     },
     "34aa1e83b9c64f778acd73870165755e": {
      "model_module": "@jupyter-widgets/controls",
      "model_module_version": "1.5.0",
      "model_name": "DescriptionStyleModel",
      "state": {
       "_model_module": "@jupyter-widgets/controls",
       "_model_module_version": "1.5.0",
       "_model_name": "DescriptionStyleModel",
       "_view_count": null,
       "_view_module": "@jupyter-widgets/base",
       "_view_module_version": "1.2.0",
       "_view_name": "StyleView",
       "description_width": ""
      }
     },
     "3a3d5e8d459c446d875d60b7e2ab33d0": {
      "model_module": "@jupyter-widgets/base",
      "model_module_version": "1.2.0",
      "model_name": "LayoutModel",
      "state": {
       "_model_module": "@jupyter-widgets/base",
       "_model_module_version": "1.2.0",
       "_model_name": "LayoutModel",
       "_view_count": null,
       "_view_module": "@jupyter-widgets/base",
       "_view_module_version": "1.2.0",
       "_view_name": "LayoutView",
       "align_content": null,
       "align_items": null,
       "align_self": null,
       "border": null,
       "bottom": null,
       "display": null,
       "flex": null,
       "flex_flow": null,
       "grid_area": null,
       "grid_auto_columns": null,
       "grid_auto_flow": null,
       "grid_auto_rows": null,
       "grid_column": null,
       "grid_gap": null,
       "grid_row": null,
       "grid_template_areas": null,
       "grid_template_columns": null,
       "grid_template_rows": null,
       "height": null,
       "justify_content": null,
       "justify_items": null,
       "left": null,
       "margin": null,
       "max_height": null,
       "max_width": null,
       "min_height": null,
       "min_width": null,
       "object_fit": null,
       "object_position": null,
       "order": null,
       "overflow": null,
       "overflow_x": null,
       "overflow_y": null,
       "padding": null,
       "right": null,
       "top": null,
       "visibility": null,
       "width": null
      }
     },
     "4047d972fcea412386a8b78c65fcd4de": {
      "model_module": "@jupyter-widgets/controls",
      "model_module_version": "1.5.0",
      "model_name": "HTMLModel",
      "state": {
       "_dom_classes": [],
       "_model_module": "@jupyter-widgets/controls",
       "_model_module_version": "1.5.0",
       "_model_name": "HTMLModel",
       "_view_count": null,
       "_view_module": "@jupyter-widgets/controls",
       "_view_module_version": "1.5.0",
       "_view_name": "HTMLView",
       "description": "",
       "description_tooltip": null,
       "layout": "IPY_MODEL_dc3781698ba94048ae9286d37ed04c5a",
       "placeholder": "​",
       "style": "IPY_MODEL_1475f57194844e8ca79b06887d59946f",
       "value": "100%"
      }
     },
     "43dd2e43d08a422aac73fe004fb1d5c0": {
      "model_module": "@jupyter-widgets/controls",
      "model_module_version": "1.5.0",
      "model_name": "ProgressStyleModel",
      "state": {
       "_model_module": "@jupyter-widgets/controls",
       "_model_module_version": "1.5.0",
       "_model_name": "ProgressStyleModel",
       "_view_count": null,
       "_view_module": "@jupyter-widgets/base",
       "_view_module_version": "1.2.0",
       "_view_name": "StyleView",
       "bar_color": null,
       "description_width": ""
      }
     },
     "4759ce6c98f94beba589ff6befe42575": {
      "model_module": "@jupyter-widgets/controls",
      "model_module_version": "1.5.0",
      "model_name": "FloatProgressModel",
      "state": {
       "_dom_classes": [],
       "_model_module": "@jupyter-widgets/controls",
       "_model_module_version": "1.5.0",
       "_model_name": "FloatProgressModel",
       "_view_count": null,
       "_view_module": "@jupyter-widgets/controls",
       "_view_module_version": "1.5.0",
       "_view_name": "ProgressView",
       "bar_style": "success",
       "description": "",
       "description_tooltip": null,
       "layout": "IPY_MODEL_d8c8d3d35baa46358a58182c17a57be8",
       "max": 36473.0,
       "min": 0.0,
       "orientation": "horizontal",
       "style": "IPY_MODEL_88cb122bf1954ac28c898b67066c5ec6",
       "value": 36473.0
      }
     },
     "47d49e55c40949df9cf685312a7f9da2": {
      "model_module": "@jupyter-widgets/base",
      "model_module_version": "1.2.0",
      "model_name": "LayoutModel",
      "state": {
       "_model_module": "@jupyter-widgets/base",
       "_model_module_version": "1.2.0",
       "_model_name": "LayoutModel",
       "_view_count": null,
       "_view_module": "@jupyter-widgets/base",
       "_view_module_version": "1.2.0",
       "_view_name": "LayoutView",
       "align_content": null,
       "align_items": null,
       "align_self": null,
       "border": null,
       "bottom": null,
       "display": null,
       "flex": null,
       "flex_flow": null,
       "grid_area": null,
       "grid_auto_columns": null,
       "grid_auto_flow": null,
       "grid_auto_rows": null,
       "grid_column": null,
       "grid_gap": null,
       "grid_row": null,
       "grid_template_areas": null,
       "grid_template_columns": null,
       "grid_template_rows": null,
       "height": null,
       "justify_content": null,
       "justify_items": null,
       "left": null,
       "margin": null,
       "max_height": null,
       "max_width": null,
       "min_height": null,
       "min_width": null,
       "object_fit": null,
       "object_position": null,
       "order": null,
       "overflow": null,
       "overflow_x": null,
       "overflow_y": null,
       "padding": null,
       "right": null,
       "top": null,
       "visibility": null,
       "width": null
      }
     },
     "4b45049ee98a44c6aeccfc94973a31a2": {
      "model_module": "@jupyter-widgets/controls",
      "model_module_version": "1.5.0",
      "model_name": "FloatProgressModel",
      "state": {
       "_dom_classes": [],
       "_model_module": "@jupyter-widgets/controls",
       "_model_module_version": "1.5.0",
       "_model_name": "FloatProgressModel",
       "_view_count": null,
       "_view_module": "@jupyter-widgets/controls",
       "_view_module_version": "1.5.0",
       "_view_name": "ProgressView",
       "bar_style": "success",
       "description": "",
       "description_tooltip": null,
       "layout": "IPY_MODEL_3a3d5e8d459c446d875d60b7e2ab33d0",
       "max": 873673253.0,
       "min": 0.0,
       "orientation": "horizontal",
       "style": "IPY_MODEL_0b0f436f670b44d99158fc0e5c7147b1",
       "value": 873673253.0
      }
     },
     "50bbd25f54d8491098da8037e15a2c1d": {
      "model_module": "@jupyter-widgets/controls",
      "model_module_version": "1.5.0",
      "model_name": "HTMLModel",
      "state": {
       "_dom_classes": [],
       "_model_module": "@jupyter-widgets/controls",
       "_model_module_version": "1.5.0",
       "_model_name": "HTMLModel",
       "_view_count": null,
       "_view_module": "@jupyter-widgets/controls",
       "_view_module_version": "1.5.0",
       "_view_name": "HTMLView",
       "description": "",
       "description_tooltip": null,
       "layout": "IPY_MODEL_c5a7477e999b4d86b6b2708a9a290bc9",
       "placeholder": "​",
       "style": "IPY_MODEL_a6d25fcaae3846178cbade241927a93f",
       "value": " 36473/36473 [00:10&lt;00:00, 3749.86it/s]"
      }
     },
     "51026c33d71b4cb2932bca7bd67edaf5": {
      "model_module": "@jupyter-widgets/controls",
      "model_module_version": "1.5.0",
      "model_name": "ProgressStyleModel",
      "state": {
       "_model_module": "@jupyter-widgets/controls",
       "_model_module_version": "1.5.0",
       "_model_name": "ProgressStyleModel",
       "_view_count": null,
       "_view_module": "@jupyter-widgets/base",
       "_view_module_version": "1.2.0",
       "_view_name": "StyleView",
       "bar_color": null,
       "description_width": ""
      }
     },
     "5484e3455f904f8692e9baa28f5d24ee": {
      "model_module": "@jupyter-widgets/controls",
      "model_module_version": "1.5.0",
      "model_name": "HTMLModel",
      "state": {
       "_dom_classes": [],
       "_model_module": "@jupyter-widgets/controls",
       "_model_module_version": "1.5.0",
       "_model_name": "HTMLModel",
       "_view_count": null,
       "_view_module": "@jupyter-widgets/controls",
       "_view_module_version": "1.5.0",
       "_view_name": "HTMLView",
       "description": "",
       "description_tooltip": null,
       "layout": "IPY_MODEL_f2b7b2fe69a144d992b8fe9b6d5339c5",
       "placeholder": "​",
       "style": "IPY_MODEL_04a616a91530468fb77a63b580be8ec0",
       "value": " 580/580 [00:00&lt;00:00, 23.1kB/s]"
      }
     },
     "5e09fb78946542b6bce9fdb86cd82d43": {
      "model_module": "@jupyter-widgets/controls",
      "model_module_version": "1.5.0",
      "model_name": "ProgressStyleModel",
      "state": {
       "_model_module": "@jupyter-widgets/controls",
       "_model_module_version": "1.5.0",
       "_model_name": "ProgressStyleModel",
       "_view_count": null,
       "_view_module": "@jupyter-widgets/base",
       "_view_module_version": "1.2.0",
       "_view_name": "StyleView",
       "bar_color": null,
       "description_width": ""
      }
     },
     "614ab8325cdf406c84cc450074765ba2": {
      "model_module": "@jupyter-widgets/controls",
      "model_module_version": "1.5.0",
      "model_name": "HTMLModel",
      "state": {
       "_dom_classes": [],
       "_model_module": "@jupyter-widgets/controls",
       "_model_module_version": "1.5.0",
       "_model_name": "HTMLModel",
       "_view_count": null,
       "_view_module": "@jupyter-widgets/controls",
       "_view_module_version": "1.5.0",
       "_view_name": "HTMLView",
       "description": "",
       "description_tooltip": null,
       "layout": "IPY_MODEL_9a74bc8dd7d649acbfebad2c90eb22fc",
       "placeholder": "​",
       "style": "IPY_MODEL_1d16ec337fe14952804b49bcd174d20b",
       "value": " 833M/833M [00:40&lt;00:00, 23.5MB/s]"
      }
     },
     "6680f643b33f4ac0a960cfb739a8d026": {
      "model_module": "@jupyter-widgets/controls",
      "model_module_version": "1.5.0",
      "model_name": "HBoxModel",
      "state": {
       "_dom_classes": [],
       "_model_module": "@jupyter-widgets/controls",
       "_model_module_version": "1.5.0",
       "_model_name": "HBoxModel",
       "_view_count": null,
       "_view_module": "@jupyter-widgets/controls",
       "_view_module_version": "1.5.0",
       "_view_name": "HBoxView",
       "box_style": "",
       "children": [
        "IPY_MODEL_b1d7d3d84e3048ff84b49a46f1b07a6f",
        "IPY_MODEL_0e990a7274f94375ad1fb6a87c233d2e",
        "IPY_MODEL_ed8bf56aec834542ba400382c55dcb8e"
       ],
       "layout": "IPY_MODEL_f84d05377d6443bf8d52d166196b9dd5"
      }
     },
     "6926745960b24cfe936615525cde69c9": {
      "model_module": "@jupyter-widgets/base",
      "model_module_version": "1.2.0",
      "model_name": "LayoutModel",
      "state": {
       "_model_module": "@jupyter-widgets/base",
       "_model_module_version": "1.2.0",
       "_model_name": "LayoutModel",
       "_view_count": null,
       "_view_module": "@jupyter-widgets/base",
       "_view_module_version": "1.2.0",
       "_view_name": "LayoutView",
       "align_content": null,
       "align_items": null,
       "align_self": null,
       "border": null,
       "bottom": null,
       "display": null,
       "flex": null,
       "flex_flow": null,
       "grid_area": null,
       "grid_auto_columns": null,
       "grid_auto_flow": null,
       "grid_auto_rows": null,
       "grid_column": null,
       "grid_gap": null,
       "grid_row": null,
       "grid_template_areas": null,
       "grid_template_columns": null,
       "grid_template_rows": null,
       "height": null,
       "justify_content": null,
       "justify_items": null,
       "left": null,
       "margin": null,
       "max_height": null,
       "max_width": null,
       "min_height": null,
       "min_width": null,
       "object_fit": null,
       "object_position": null,
       "order": null,
       "overflow": null,
       "overflow_x": null,
       "overflow_y": null,
       "padding": null,
       "right": null,
       "top": null,
       "visibility": null,
       "width": null
      }
     },
     "6e1e5ac3805044a18cf846c2c7655aca": {
      "model_module": "@jupyter-widgets/controls",
      "model_module_version": "1.5.0",
      "model_name": "FloatProgressModel",
      "state": {
       "_dom_classes": [],
       "_model_module": "@jupyter-widgets/controls",
       "_model_module_version": "1.5.0",
       "_model_name": "FloatProgressModel",
       "_view_count": null,
       "_view_module": "@jupyter-widgets/controls",
       "_view_module_version": "1.5.0",
       "_view_name": "ProgressView",
       "bar_style": "success",
       "description": "",
       "description_tooltip": null,
       "layout": "IPY_MODEL_0350ecd84e324551924b0ebcb397b2ba",
       "max": 580.0,
       "min": 0.0,
       "orientation": "horizontal",
       "style": "IPY_MODEL_43dd2e43d08a422aac73fe004fb1d5c0",
       "value": 580.0
      }
     },
     "6e1fe1e41bd54d5f970f7ca093806deb": {
      "model_module": "@jupyter-widgets/base",
      "model_module_version": "1.2.0",
      "model_name": "LayoutModel",
      "state": {
       "_model_module": "@jupyter-widgets/base",
       "_model_module_version": "1.2.0",
       "_model_name": "LayoutModel",
       "_view_count": null,
       "_view_module": "@jupyter-widgets/base",
       "_view_module_version": "1.2.0",
       "_view_name": "LayoutView",
       "align_content": null,
       "align_items": null,
       "align_self": null,
       "border": null,
       "bottom": null,
       "display": null,
       "flex": null,
       "flex_flow": null,
       "grid_area": null,
       "grid_auto_columns": null,
       "grid_auto_flow": null,
       "grid_auto_rows": null,
       "grid_column": null,
       "grid_gap": null,
       "grid_row": null,
       "grid_template_areas": null,
       "grid_template_columns": null,
       "grid_template_rows": null,
       "height": null,
       "justify_content": null,
       "justify_items": null,
       "left": null,
       "margin": null,
       "max_height": null,
       "max_width": null,
       "min_height": null,
       "min_width": null,
       "object_fit": null,
       "object_position": null,
       "order": null,
       "overflow": null,
       "overflow_x": null,
       "overflow_y": null,
       "padding": null,
       "right": null,
       "top": null,
       "visibility": null,
       "width": null
      }
     },
     "7fc5bf5857f44a47b8b2883be901675b": {
      "model_module": "@jupyter-widgets/controls",
      "model_module_version": "1.5.0",
      "model_name": "DescriptionStyleModel",
      "state": {
       "_model_module": "@jupyter-widgets/controls",
       "_model_module_version": "1.5.0",
       "_model_name": "DescriptionStyleModel",
       "_view_count": null,
       "_view_module": "@jupyter-widgets/base",
       "_view_module_version": "1.2.0",
       "_view_name": "StyleView",
       "description_width": ""
      }
     },
     "82ea2eb66ec44273827f5ac2998f4b17": {
      "model_module": "@jupyter-widgets/base",
      "model_module_version": "1.2.0",
      "model_name": "LayoutModel",
      "state": {
       "_model_module": "@jupyter-widgets/base",
       "_model_module_version": "1.2.0",
       "_model_name": "LayoutModel",
       "_view_count": null,
       "_view_module": "@jupyter-widgets/base",
       "_view_module_version": "1.2.0",
       "_view_name": "LayoutView",
       "align_content": null,
       "align_items": null,
       "align_self": null,
       "border": null,
       "bottom": null,
       "display": null,
       "flex": null,
       "flex_flow": null,
       "grid_area": null,
       "grid_auto_columns": null,
       "grid_auto_flow": null,
       "grid_auto_rows": null,
       "grid_column": null,
       "grid_gap": null,
       "grid_row": null,
       "grid_template_areas": null,
       "grid_template_columns": null,
       "grid_template_rows": null,
       "height": null,
       "justify_content": null,
       "justify_items": null,
       "left": null,
       "margin": null,
       "max_height": null,
       "max_width": null,
       "min_height": null,
       "min_width": null,
       "object_fit": null,
       "object_position": null,
       "order": null,
       "overflow": null,
       "overflow_x": null,
       "overflow_y": null,
       "padding": null,
       "right": null,
       "top": null,
       "visibility": null,
       "width": null
      }
     },
     "8340fd6229244e699a72e8b27cc5337e": {
      "model_module": "@jupyter-widgets/controls",
      "model_module_version": "1.5.0",
      "model_name": "ProgressStyleModel",
      "state": {
       "_model_module": "@jupyter-widgets/controls",
       "_model_module_version": "1.5.0",
       "_model_name": "ProgressStyleModel",
       "_view_count": null,
       "_view_module": "@jupyter-widgets/base",
       "_view_module_version": "1.2.0",
       "_view_name": "StyleView",
       "bar_color": null,
       "description_width": ""
      }
     },
     "8761d33cace74ae9ad51426638697aec": {
      "model_module": "@jupyter-widgets/base",
      "model_module_version": "1.2.0",
      "model_name": "LayoutModel",
      "state": {
       "_model_module": "@jupyter-widgets/base",
       "_model_module_version": "1.2.0",
       "_model_name": "LayoutModel",
       "_view_count": null,
       "_view_module": "@jupyter-widgets/base",
       "_view_module_version": "1.2.0",
       "_view_name": "LayoutView",
       "align_content": null,
       "align_items": null,
       "align_self": null,
       "border": null,
       "bottom": null,
       "display": null,
       "flex": null,
       "flex_flow": null,
       "grid_area": null,
       "grid_auto_columns": null,
       "grid_auto_flow": null,
       "grid_auto_rows": null,
       "grid_column": null,
       "grid_gap": null,
       "grid_row": null,
       "grid_template_areas": null,
       "grid_template_columns": null,
       "grid_template_rows": null,
       "height": null,
       "justify_content": null,
       "justify_items": null,
       "left": null,
       "margin": null,
       "max_height": null,
       "max_width": null,
       "min_height": null,
       "min_width": null,
       "object_fit": null,
       "object_position": null,
       "order": null,
       "overflow": null,
       "overflow_x": null,
       "overflow_y": null,
       "padding": null,
       "right": null,
       "top": null,
       "visibility": null,
       "width": null
      }
     },
     "88cb122bf1954ac28c898b67066c5ec6": {
      "model_module": "@jupyter-widgets/controls",
      "model_module_version": "1.5.0",
      "model_name": "ProgressStyleModel",
      "state": {
       "_model_module": "@jupyter-widgets/controls",
       "_model_module_version": "1.5.0",
       "_model_name": "ProgressStyleModel",
       "_view_count": null,
       "_view_module": "@jupyter-widgets/base",
       "_view_module_version": "1.2.0",
       "_view_name": "StyleView",
       "bar_color": null,
       "description_width": ""
      }
     },
     "8bae3177103b4f929efb014dccc67ab6": {
      "model_module": "@jupyter-widgets/controls",
      "model_module_version": "1.5.0",
      "model_name": "FloatProgressModel",
      "state": {
       "_dom_classes": [],
       "_model_module": "@jupyter-widgets/controls",
       "_model_module_version": "1.5.0",
       "_model_name": "FloatProgressModel",
       "_view_count": null,
       "_view_module": "@jupyter-widgets/controls",
       "_view_module_version": "1.5.0",
       "_view_name": "ProgressView",
       "bar_style": "success",
       "description": "",
       "description_tooltip": null,
       "layout": "IPY_MODEL_82ea2eb66ec44273827f5ac2998f4b17",
       "max": 52.0,
       "min": 0.0,
       "orientation": "horizontal",
       "style": "IPY_MODEL_5e09fb78946542b6bce9fdb86cd82d43",
       "value": 52.0
      }
     },
     "96eff520c12e4b39b5246db47b4f8035": {
      "model_module": "@jupyter-widgets/controls",
      "model_module_version": "1.5.0",
      "model_name": "HBoxModel",
      "state": {
       "_dom_classes": [],
       "_model_module": "@jupyter-widgets/controls",
       "_model_module_version": "1.5.0",
       "_model_name": "HBoxModel",
       "_view_count": null,
       "_view_module": "@jupyter-widgets/controls",
       "_view_module_version": "1.5.0",
       "_view_name": "HBoxView",
       "box_style": "",
       "children": [
        "IPY_MODEL_4047d972fcea412386a8b78c65fcd4de",
        "IPY_MODEL_0f7fc59b86b64afd914f7e4d3e6f6de7",
        "IPY_MODEL_cb754edb96424ab4832ee9bb780bb5f7"
       ],
       "layout": "IPY_MODEL_ead3712e6b454d17a6ae6aa9e89644cc"
      }
     },
     "99dacfff0eb74dcbb14d1dae4248c7dc": {
      "model_module": "@jupyter-widgets/controls",
      "model_module_version": "1.5.0",
      "model_name": "DescriptionStyleModel",
      "state": {
       "_model_module": "@jupyter-widgets/controls",
       "_model_module_version": "1.5.0",
       "_model_name": "DescriptionStyleModel",
       "_view_count": null,
       "_view_module": "@jupyter-widgets/base",
       "_view_module_version": "1.2.0",
       "_view_name": "StyleView",
       "description_width": ""
      }
     },
     "99e643dd73d246c6bd8a0d953d4ba67a": {
      "model_module": "@jupyter-widgets/controls",
      "model_module_version": "1.5.0",
      "model_name": "HBoxModel",
      "state": {
       "_dom_classes": [],
       "_model_module": "@jupyter-widgets/controls",
       "_model_module_version": "1.5.0",
       "_model_name": "HBoxModel",
       "_view_count": null,
       "_view_module": "@jupyter-widgets/controls",
       "_view_module_version": "1.5.0",
       "_view_name": "HBoxView",
       "box_style": "",
       "children": [
        "IPY_MODEL_0081eaf634b24a44893a3cf9f367aa27",
        "IPY_MODEL_6e1e5ac3805044a18cf846c2c7655aca",
        "IPY_MODEL_5484e3455f904f8692e9baa28f5d24ee"
       ],
       "layout": "IPY_MODEL_6926745960b24cfe936615525cde69c9"
      }
     },
     "9a0ac9659a7644f88d9f880da894d90d": {
      "model_module": "@jupyter-widgets/base",
      "model_module_version": "1.2.0",
      "model_name": "LayoutModel",
      "state": {
       "_model_module": "@jupyter-widgets/base",
       "_model_module_version": "1.2.0",
       "_model_name": "LayoutModel",
       "_view_count": null,
       "_view_module": "@jupyter-widgets/base",
       "_view_module_version": "1.2.0",
       "_view_name": "LayoutView",
       "align_content": null,
       "align_items": null,
       "align_self": null,
       "border": null,
       "bottom": null,
       "display": null,
       "flex": null,
       "flex_flow": null,
       "grid_area": null,
       "grid_auto_columns": null,
       "grid_auto_flow": null,
       "grid_auto_rows": null,
       "grid_column": null,
       "grid_gap": null,
       "grid_row": null,
       "grid_template_areas": null,
       "grid_template_columns": null,
       "grid_template_rows": null,
       "height": null,
       "justify_content": null,
       "justify_items": null,
       "left": null,
       "margin": null,
       "max_height": null,
       "max_width": null,
       "min_height": null,
       "min_width": null,
       "object_fit": null,
       "object_position": null,
       "order": null,
       "overflow": null,
       "overflow_x": null,
       "overflow_y": null,
       "padding": null,
       "right": null,
       "top": null,
       "visibility": null,
       "width": null
      }
     },
     "9a74bc8dd7d649acbfebad2c90eb22fc": {
      "model_module": "@jupyter-widgets/base",
      "model_module_version": "1.2.0",
      "model_name": "LayoutModel",
      "state": {
       "_model_module": "@jupyter-widgets/base",
       "_model_module_version": "1.2.0",
       "_model_name": "LayoutModel",
       "_view_count": null,
       "_view_module": "@jupyter-widgets/base",
       "_view_module_version": "1.2.0",
       "_view_name": "LayoutView",
       "align_content": null,
       "align_items": null,
       "align_self": null,
       "border": null,
       "bottom": null,
       "display": null,
       "flex": null,
       "flex_flow": null,
       "grid_area": null,
       "grid_auto_columns": null,
       "grid_auto_flow": null,
       "grid_auto_rows": null,
       "grid_column": null,
       "grid_gap": null,
       "grid_row": null,
       "grid_template_areas": null,
       "grid_template_columns": null,
       "grid_template_rows": null,
       "height": null,
       "justify_content": null,
       "justify_items": null,
       "left": null,
       "margin": null,
       "max_height": null,
       "max_width": null,
       "min_height": null,
       "min_width": null,
       "object_fit": null,
       "object_position": null,
       "order": null,
       "overflow": null,
       "overflow_x": null,
       "overflow_y": null,
       "padding": null,
       "right": null,
       "top": null,
       "visibility": null,
       "width": null
      }
     },
     "9d425e7b8d254f41b2cd783175bfca6b": {
      "model_module": "@jupyter-widgets/base",
      "model_module_version": "1.2.0",
      "model_name": "LayoutModel",
      "state": {
       "_model_module": "@jupyter-widgets/base",
       "_model_module_version": "1.2.0",
       "_model_name": "LayoutModel",
       "_view_count": null,
       "_view_module": "@jupyter-widgets/base",
       "_view_module_version": "1.2.0",
       "_view_name": "LayoutView",
       "align_content": null,
       "align_items": null,
       "align_self": null,
       "border": null,
       "bottom": null,
       "display": null,
       "flex": null,
       "flex_flow": null,
       "grid_area": null,
       "grid_auto_columns": null,
       "grid_auto_flow": null,
       "grid_auto_rows": null,
       "grid_column": null,
       "grid_gap": null,
       "grid_row": null,
       "grid_template_areas": null,
       "grid_template_columns": null,
       "grid_template_rows": null,
       "height": null,
       "justify_content": null,
       "justify_items": null,
       "left": null,
       "margin": null,
       "max_height": null,
       "max_width": null,
       "min_height": null,
       "min_width": null,
       "object_fit": null,
       "object_position": null,
       "order": null,
       "overflow": null,
       "overflow_x": null,
       "overflow_y": null,
       "padding": null,
       "right": null,
       "top": null,
       "visibility": null,
       "width": null
      }
     },
     "a17809aecd384f709155d031c45d7a2b": {
      "model_module": "@jupyter-widgets/controls",
      "model_module_version": "1.5.0",
      "model_name": "DescriptionStyleModel",
      "state": {
       "_model_module": "@jupyter-widgets/controls",
       "_model_module_version": "1.5.0",
       "_model_name": "DescriptionStyleModel",
       "_view_count": null,
       "_view_module": "@jupyter-widgets/base",
       "_view_module_version": "1.2.0",
       "_view_name": "StyleView",
       "description_width": ""
      }
     },
     "a6d25fcaae3846178cbade241927a93f": {
      "model_module": "@jupyter-widgets/controls",
      "model_module_version": "1.5.0",
      "model_name": "DescriptionStyleModel",
      "state": {
       "_model_module": "@jupyter-widgets/controls",
       "_model_module_version": "1.5.0",
       "_model_name": "DescriptionStyleModel",
       "_view_count": null,
       "_view_module": "@jupyter-widgets/base",
       "_view_module_version": "1.2.0",
       "_view_name": "StyleView",
       "description_width": ""
      }
     },
     "ad1a4002e7e2443085cc7dafaeb73d0b": {
      "model_module": "@jupyter-widgets/controls",
      "model_module_version": "1.5.0",
      "model_name": "HTMLModel",
      "state": {
       "_dom_classes": [],
       "_model_module": "@jupyter-widgets/controls",
       "_model_module_version": "1.5.0",
       "_model_name": "HTMLModel",
       "_view_count": null,
       "_view_module": "@jupyter-widgets/controls",
       "_view_module_version": "1.5.0",
       "_view_name": "HTMLView",
       "description": "",
       "description_tooltip": null,
       "layout": "IPY_MODEL_9d425e7b8d254f41b2cd783175bfca6b",
       "placeholder": "​",
       "style": "IPY_MODEL_34aa1e83b9c64f778acd73870165755e",
       "value": " 52.0/52.0 [00:00&lt;00:00, 1.97kB/s]"
      }
     },
     "b1d7d3d84e3048ff84b49a46f1b07a6f": {
      "model_module": "@jupyter-widgets/controls",
      "model_module_version": "1.5.0",
      "model_name": "HTMLModel",
      "state": {
       "_dom_classes": [],
       "_model_module": "@jupyter-widgets/controls",
       "_model_module_version": "1.5.0",
       "_model_name": "HTMLModel",
       "_view_count": null,
       "_view_module": "@jupyter-widgets/controls",
       "_view_module_version": "1.5.0",
       "_view_name": "HTMLView",
       "description": "",
       "description_tooltip": null,
       "layout": "IPY_MODEL_03048aa409bc438aa0fe520ff19229d9",
       "placeholder": "​",
       "style": "IPY_MODEL_99dacfff0eb74dcbb14d1dae4248c7dc",
       "value": "Downloading: 100%"
      }
     },
     "bf5813b6c23f4635986be334a11e694b": {
      "model_module": "@jupyter-widgets/base",
      "model_module_version": "1.2.0",
      "model_name": "LayoutModel",
      "state": {
       "_model_module": "@jupyter-widgets/base",
       "_model_module_version": "1.2.0",
       "_model_name": "LayoutModel",
       "_view_count": null,
       "_view_module": "@jupyter-widgets/base",
       "_view_module_version": "1.2.0",
       "_view_name": "LayoutView",
       "align_content": null,
       "align_items": null,
       "align_self": null,
       "border": null,
       "bottom": null,
       "display": null,
       "flex": null,
       "flex_flow": null,
       "grid_area": null,
       "grid_auto_columns": null,
       "grid_auto_flow": null,
       "grid_auto_rows": null,
       "grid_column": null,
       "grid_gap": null,
       "grid_row": null,
       "grid_template_areas": null,
       "grid_template_columns": null,
       "grid_template_rows": null,
       "height": null,
       "justify_content": null,
       "justify_items": null,
       "left": null,
       "margin": null,
       "max_height": null,
       "max_width": null,
       "min_height": null,
       "min_width": null,
       "object_fit": null,
       "object_position": null,
       "order": null,
       "overflow": null,
       "overflow_x": null,
       "overflow_y": null,
       "padding": null,
       "right": null,
       "top": null,
       "visibility": null,
       "width": null
      }
     },
     "c281f959ed304edbbe3901174f69dc81": {
      "model_module": "@jupyter-widgets/controls",
      "model_module_version": "1.5.0",
      "model_name": "DescriptionStyleModel",
      "state": {
       "_model_module": "@jupyter-widgets/controls",
       "_model_module_version": "1.5.0",
       "_model_name": "DescriptionStyleModel",
       "_view_count": null,
       "_view_module": "@jupyter-widgets/base",
       "_view_module_version": "1.2.0",
       "_view_name": "StyleView",
       "description_width": ""
      }
     },
     "c5a7477e999b4d86b6b2708a9a290bc9": {
      "model_module": "@jupyter-widgets/base",
      "model_module_version": "1.2.0",
      "model_name": "LayoutModel",
      "state": {
       "_model_module": "@jupyter-widgets/base",
       "_model_module_version": "1.2.0",
       "_model_name": "LayoutModel",
       "_view_count": null,
       "_view_module": "@jupyter-widgets/base",
       "_view_module_version": "1.2.0",
       "_view_name": "LayoutView",
       "align_content": null,
       "align_items": null,
       "align_self": null,
       "border": null,
       "bottom": null,
       "display": null,
       "flex": null,
       "flex_flow": null,
       "grid_area": null,
       "grid_auto_columns": null,
       "grid_auto_flow": null,
       "grid_auto_rows": null,
       "grid_column": null,
       "grid_gap": null,
       "grid_row": null,
       "grid_template_areas": null,
       "grid_template_columns": null,
       "grid_template_rows": null,
       "height": null,
       "justify_content": null,
       "justify_items": null,
       "left": null,
       "margin": null,
       "max_height": null,
       "max_width": null,
       "min_height": null,
       "min_width": null,
       "object_fit": null,
       "object_position": null,
       "order": null,
       "overflow": null,
       "overflow_x": null,
       "overflow_y": null,
       "padding": null,
       "right": null,
       "top": null,
       "visibility": null,
       "width": null
      }
     },
     "ca5632e5469948ffad56a225504628bb": {
      "model_module": "@jupyter-widgets/base",
      "model_module_version": "1.2.0",
      "model_name": "LayoutModel",
      "state": {
       "_model_module": "@jupyter-widgets/base",
       "_model_module_version": "1.2.0",
       "_model_name": "LayoutModel",
       "_view_count": null,
       "_view_module": "@jupyter-widgets/base",
       "_view_module_version": "1.2.0",
       "_view_name": "LayoutView",
       "align_content": null,
       "align_items": null,
       "align_self": null,
       "border": null,
       "bottom": null,
       "display": null,
       "flex": null,
       "flex_flow": null,
       "grid_area": null,
       "grid_auto_columns": null,
       "grid_auto_flow": null,
       "grid_auto_rows": null,
       "grid_column": null,
       "grid_gap": null,
       "grid_row": null,
       "grid_template_areas": null,
       "grid_template_columns": null,
       "grid_template_rows": null,
       "height": null,
       "justify_content": null,
       "justify_items": null,
       "left": null,
       "margin": null,
       "max_height": null,
       "max_width": null,
       "min_height": null,
       "min_width": null,
       "object_fit": null,
       "object_position": null,
       "order": null,
       "overflow": null,
       "overflow_x": null,
       "overflow_y": null,
       "padding": null,
       "right": null,
       "top": null,
       "visibility": null,
       "width": null
      }
     },
     "cb5e43940fba4b67998c5f06c7ef022a": {
      "model_module": "@jupyter-widgets/controls",
      "model_module_version": "1.5.0",
      "model_name": "DescriptionStyleModel",
      "state": {
       "_model_module": "@jupyter-widgets/controls",
       "_model_module_version": "1.5.0",
       "_model_name": "DescriptionStyleModel",
       "_view_count": null,
       "_view_module": "@jupyter-widgets/base",
       "_view_module_version": "1.2.0",
       "_view_name": "StyleView",
       "description_width": ""
      }
     },
     "cb754edb96424ab4832ee9bb780bb5f7": {
      "model_module": "@jupyter-widgets/controls",
      "model_module_version": "1.5.0",
      "model_name": "HTMLModel",
      "state": {
       "_dom_classes": [],
       "_model_module": "@jupyter-widgets/controls",
       "_model_module_version": "1.5.0",
       "_model_name": "HTMLModel",
       "_view_count": null,
       "_view_module": "@jupyter-widgets/controls",
       "_view_module_version": "1.5.0",
       "_view_name": "HTMLView",
       "description": "",
       "description_tooltip": null,
       "layout": "IPY_MODEL_1b3bc37960084a609b573c5b164faba6",
       "placeholder": "​",
       "style": "IPY_MODEL_7fc5bf5857f44a47b8b2883be901675b",
       "value": " 3/3 [00:01&lt;00:00,  2.17it/s]"
      }
     },
     "d587247a97d043bf92598dbb6da0eab6": {
      "model_module": "@jupyter-widgets/controls",
      "model_module_version": "1.5.0",
      "model_name": "HBoxModel",
      "state": {
       "_dom_classes": [],
       "_model_module": "@jupyter-widgets/controls",
       "_model_module_version": "1.5.0",
       "_model_name": "HBoxModel",
       "_view_count": null,
       "_view_module": "@jupyter-widgets/controls",
       "_view_module_version": "1.5.0",
       "_view_name": "HBoxView",
       "box_style": "",
       "children": [
        "IPY_MODEL_0459d2d4e41e42f08215db00d0a705a1",
        "IPY_MODEL_4b45049ee98a44c6aeccfc94973a31a2",
        "IPY_MODEL_614ab8325cdf406c84cc450074765ba2"
       ],
       "layout": "IPY_MODEL_f9d05b354df24cb8ad72140ce1095d78"
      }
     },
     "d716487a8b2f4d358cd5851d5a03f455": {
      "model_module": "@jupyter-widgets/controls",
      "model_module_version": "1.5.0",
      "model_name": "DescriptionStyleModel",
      "state": {
       "_model_module": "@jupyter-widgets/controls",
       "_model_module_version": "1.5.0",
       "_model_name": "DescriptionStyleModel",
       "_view_count": null,
       "_view_module": "@jupyter-widgets/base",
       "_view_module_version": "1.2.0",
       "_view_name": "StyleView",
       "description_width": ""
      }
     },
     "d8927932cac2405f8ff5f77ea1f21b33": {
      "model_module": "@jupyter-widgets/controls",
      "model_module_version": "1.5.0",
      "model_name": "HTMLModel",
      "state": {
       "_dom_classes": [],
       "_model_module": "@jupyter-widgets/controls",
       "_model_module_version": "1.5.0",
       "_model_name": "HTMLModel",
       "_view_count": null,
       "_view_module": "@jupyter-widgets/controls",
       "_view_module_version": "1.5.0",
       "_view_name": "HTMLView",
       "description": "",
       "description_tooltip": null,
       "layout": "IPY_MODEL_ca5632e5469948ffad56a225504628bb",
       "placeholder": "​",
       "style": "IPY_MODEL_c281f959ed304edbbe3901174f69dc81",
       "value": "Downloading: 100%"
      }
     },
     "d8a2f79d714f471c9a71d5151ed13711": {
      "model_module": "@jupyter-widgets/controls",
      "model_module_version": "1.5.0",
      "model_name": "HTMLModel",
      "state": {
       "_dom_classes": [],
       "_model_module": "@jupyter-widgets/controls",
       "_model_module_version": "1.5.0",
       "_model_name": "HTMLModel",
       "_view_count": null,
       "_view_module": "@jupyter-widgets/controls",
       "_view_module_version": "1.5.0",
       "_view_name": "HTMLView",
       "description": "",
       "description_tooltip": null,
       "layout": "IPY_MODEL_9a0ac9659a7644f88d9f880da894d90d",
       "placeholder": "​",
       "style": "IPY_MODEL_a17809aecd384f709155d031c45d7a2b",
       "value": "100%"
      }
     },
     "d8c8d3d35baa46358a58182c17a57be8": {
      "model_module": "@jupyter-widgets/base",
      "model_module_version": "1.2.0",
      "model_name": "LayoutModel",
      "state": {
       "_model_module": "@jupyter-widgets/base",
       "_model_module_version": "1.2.0",
       "_model_name": "LayoutModel",
       "_view_count": null,
       "_view_module": "@jupyter-widgets/base",
       "_view_module_version": "1.2.0",
       "_view_name": "LayoutView",
       "align_content": null,
       "align_items": null,
       "align_self": null,
       "border": null,
       "bottom": null,
       "display": null,
       "flex": null,
       "flex_flow": null,
       "grid_area": null,
       "grid_auto_columns": null,
       "grid_auto_flow": null,
       "grid_auto_rows": null,
       "grid_column": null,
       "grid_gap": null,
       "grid_row": null,
       "grid_template_areas": null,
       "grid_template_columns": null,
       "grid_template_rows": null,
       "height": null,
       "justify_content": null,
       "justify_items": null,
       "left": null,
       "margin": null,
       "max_height": null,
       "max_width": null,
       "min_height": null,
       "min_width": null,
       "object_fit": null,
       "object_position": null,
       "order": null,
       "overflow": null,
       "overflow_x": null,
       "overflow_y": null,
       "padding": null,
       "right": null,
       "top": null,
       "visibility": null,
       "width": null
      }
     },
     "dc3781698ba94048ae9286d37ed04c5a": {
      "model_module": "@jupyter-widgets/base",
      "model_module_version": "1.2.0",
      "model_name": "LayoutModel",
      "state": {
       "_model_module": "@jupyter-widgets/base",
       "_model_module_version": "1.2.0",
       "_model_name": "LayoutModel",
       "_view_count": null,
       "_view_module": "@jupyter-widgets/base",
       "_view_module_version": "1.2.0",
       "_view_name": "LayoutView",
       "align_content": null,
       "align_items": null,
       "align_self": null,
       "border": null,
       "bottom": null,
       "display": null,
       "flex": null,
       "flex_flow": null,
       "grid_area": null,
       "grid_auto_columns": null,
       "grid_auto_flow": null,
       "grid_auto_rows": null,
       "grid_column": null,
       "grid_gap": null,
       "grid_row": null,
       "grid_template_areas": null,
       "grid_template_columns": null,
       "grid_template_rows": null,
       "height": null,
       "justify_content": null,
       "justify_items": null,
       "left": null,
       "margin": null,
       "max_height": null,
       "max_width": null,
       "min_height": null,
       "min_width": null,
       "object_fit": null,
       "object_position": null,
       "order": null,
       "overflow": null,
       "overflow_x": null,
       "overflow_y": null,
       "padding": null,
       "right": null,
       "top": null,
       "visibility": null,
       "width": null
      }
     },
     "e4b1cd26ef89493684fd8041071ffb9e": {
      "model_module": "@jupyter-widgets/base",
      "model_module_version": "1.2.0",
      "model_name": "LayoutModel",
      "state": {
       "_model_module": "@jupyter-widgets/base",
       "_model_module_version": "1.2.0",
       "_model_name": "LayoutModel",
       "_view_count": null,
       "_view_module": "@jupyter-widgets/base",
       "_view_module_version": "1.2.0",
       "_view_name": "LayoutView",
       "align_content": null,
       "align_items": null,
       "align_self": null,
       "border": null,
       "bottom": null,
       "display": null,
       "flex": null,
       "flex_flow": null,
       "grid_area": null,
       "grid_auto_columns": null,
       "grid_auto_flow": null,
       "grid_auto_rows": null,
       "grid_column": null,
       "grid_gap": null,
       "grid_row": null,
       "grid_template_areas": null,
       "grid_template_columns": null,
       "grid_template_rows": null,
       "height": null,
       "justify_content": null,
       "justify_items": null,
       "left": null,
       "margin": null,
       "max_height": null,
       "max_width": null,
       "min_height": null,
       "min_width": null,
       "object_fit": null,
       "object_position": null,
       "order": null,
       "overflow": null,
       "overflow_x": null,
       "overflow_y": null,
       "padding": null,
       "right": null,
       "top": null,
       "visibility": null,
       "width": null
      }
     },
     "ead3712e6b454d17a6ae6aa9e89644cc": {
      "model_module": "@jupyter-widgets/base",
      "model_module_version": "1.2.0",
      "model_name": "LayoutModel",
      "state": {
       "_model_module": "@jupyter-widgets/base",
       "_model_module_version": "1.2.0",
       "_model_name": "LayoutModel",
       "_view_count": null,
       "_view_module": "@jupyter-widgets/base",
       "_view_module_version": "1.2.0",
       "_view_name": "LayoutView",
       "align_content": null,
       "align_items": null,
       "align_self": null,
       "border": null,
       "bottom": null,
       "display": null,
       "flex": null,
       "flex_flow": null,
       "grid_area": null,
       "grid_auto_columns": null,
       "grid_auto_flow": null,
       "grid_auto_rows": null,
       "grid_column": null,
       "grid_gap": null,
       "grid_row": null,
       "grid_template_areas": null,
       "grid_template_columns": null,
       "grid_template_rows": null,
       "height": null,
       "justify_content": null,
       "justify_items": null,
       "left": null,
       "margin": null,
       "max_height": null,
       "max_width": null,
       "min_height": null,
       "min_width": null,
       "object_fit": null,
       "object_position": null,
       "order": null,
       "overflow": null,
       "overflow_x": null,
       "overflow_y": null,
       "padding": null,
       "right": null,
       "top": null,
       "visibility": null,
       "width": null
      }
     },
     "ebd9edef069d42f381a68d9d41cf4c72": {
      "model_module": "@jupyter-widgets/base",
      "model_module_version": "1.2.0",
      "model_name": "LayoutModel",
      "state": {
       "_model_module": "@jupyter-widgets/base",
       "_model_module_version": "1.2.0",
       "_model_name": "LayoutModel",
       "_view_count": null,
       "_view_module": "@jupyter-widgets/base",
       "_view_module_version": "1.2.0",
       "_view_name": "LayoutView",
       "align_content": null,
       "align_items": null,
       "align_self": null,
       "border": null,
       "bottom": null,
       "display": null,
       "flex": null,
       "flex_flow": null,
       "grid_area": null,
       "grid_auto_columns": null,
       "grid_auto_flow": null,
       "grid_auto_rows": null,
       "grid_column": null,
       "grid_gap": null,
       "grid_row": null,
       "grid_template_areas": null,
       "grid_template_columns": null,
       "grid_template_rows": null,
       "height": null,
       "justify_content": null,
       "justify_items": null,
       "left": null,
       "margin": null,
       "max_height": null,
       "max_width": null,
       "min_height": null,
       "min_width": null,
       "object_fit": null,
       "object_position": null,
       "order": null,
       "overflow": null,
       "overflow_x": null,
       "overflow_y": null,
       "padding": null,
       "right": null,
       "top": null,
       "visibility": null,
       "width": null
      }
     },
     "ed8bf56aec834542ba400382c55dcb8e": {
      "model_module": "@jupyter-widgets/controls",
      "model_module_version": "1.5.0",
      "model_name": "HTMLModel",
      "state": {
       "_dom_classes": [],
       "_model_module": "@jupyter-widgets/controls",
       "_model_module_version": "1.5.0",
       "_model_name": "HTMLModel",
       "_view_count": null,
       "_view_module": "@jupyter-widgets/controls",
       "_view_module_version": "1.5.0",
       "_view_name": "HTMLView",
       "description": "",
       "description_tooltip": null,
       "layout": "IPY_MODEL_ebd9edef069d42f381a68d9d41cf4c72",
       "placeholder": "​",
       "style": "IPY_MODEL_cb5e43940fba4b67998c5f06c7ef022a",
       "value": " 2.35M/2.35M [00:01&lt;00:00, 3.17MB/s]"
      }
     },
     "f2b7b2fe69a144d992b8fe9b6d5339c5": {
      "model_module": "@jupyter-widgets/base",
      "model_module_version": "1.2.0",
      "model_name": "LayoutModel",
      "state": {
       "_model_module": "@jupyter-widgets/base",
       "_model_module_version": "1.2.0",
       "_model_name": "LayoutModel",
       "_view_count": null,
       "_view_module": "@jupyter-widgets/base",
       "_view_module_version": "1.2.0",
       "_view_name": "LayoutView",
       "align_content": null,
       "align_items": null,
       "align_self": null,
       "border": null,
       "bottom": null,
       "display": null,
       "flex": null,
       "flex_flow": null,
       "grid_area": null,
       "grid_auto_columns": null,
       "grid_auto_flow": null,
       "grid_auto_rows": null,
       "grid_column": null,
       "grid_gap": null,
       "grid_row": null,
       "grid_template_areas": null,
       "grid_template_columns": null,
       "grid_template_rows": null,
       "height": null,
       "justify_content": null,
       "justify_items": null,
       "left": null,
       "margin": null,
       "max_height": null,
       "max_width": null,
       "min_height": null,
       "min_width": null,
       "object_fit": null,
       "object_position": null,
       "order": null,
       "overflow": null,
       "overflow_x": null,
       "overflow_y": null,
       "padding": null,
       "right": null,
       "top": null,
       "visibility": null,
       "width": null
      }
     },
     "f40b20e8705d4071a96714df8f3cc425": {
      "model_module": "@jupyter-widgets/controls",
      "model_module_version": "1.5.0",
      "model_name": "HBoxModel",
      "state": {
       "_dom_classes": [],
       "_model_module": "@jupyter-widgets/controls",
       "_model_module_version": "1.5.0",
       "_model_name": "HBoxModel",
       "_view_count": null,
       "_view_module": "@jupyter-widgets/controls",
       "_view_module_version": "1.5.0",
       "_view_name": "HBoxView",
       "box_style": "",
       "children": [
        "IPY_MODEL_d8a2f79d714f471c9a71d5151ed13711",
        "IPY_MODEL_4759ce6c98f94beba589ff6befe42575",
        "IPY_MODEL_50bbd25f54d8491098da8037e15a2c1d"
       ],
       "layout": "IPY_MODEL_bf5813b6c23f4635986be334a11e694b"
      }
     },
     "f7e194ad66944616a8b46826f0802d55": {
      "model_module": "@jupyter-widgets/controls",
      "model_module_version": "1.5.0",
      "model_name": "DescriptionStyleModel",
      "state": {
       "_model_module": "@jupyter-widgets/controls",
       "_model_module_version": "1.5.0",
       "_model_name": "DescriptionStyleModel",
       "_view_count": null,
       "_view_module": "@jupyter-widgets/base",
       "_view_module_version": "1.2.0",
       "_view_name": "StyleView",
       "description_width": ""
      }
     },
     "f84d05377d6443bf8d52d166196b9dd5": {
      "model_module": "@jupyter-widgets/base",
      "model_module_version": "1.2.0",
      "model_name": "LayoutModel",
      "state": {
       "_model_module": "@jupyter-widgets/base",
       "_model_module_version": "1.2.0",
       "_model_name": "LayoutModel",
       "_view_count": null,
       "_view_module": "@jupyter-widgets/base",
       "_view_module_version": "1.2.0",
       "_view_name": "LayoutView",
       "align_content": null,
       "align_items": null,
       "align_self": null,
       "border": null,
       "bottom": null,
       "display": null,
       "flex": null,
       "flex_flow": null,
       "grid_area": null,
       "grid_auto_columns": null,
       "grid_auto_flow": null,
       "grid_auto_rows": null,
       "grid_column": null,
       "grid_gap": null,
       "grid_row": null,
       "grid_template_areas": null,
       "grid_template_columns": null,
       "grid_template_rows": null,
       "height": null,
       "justify_content": null,
       "justify_items": null,
       "left": null,
       "margin": null,
       "max_height": null,
       "max_width": null,
       "min_height": null,
       "min_width": null,
       "object_fit": null,
       "object_position": null,
       "order": null,
       "overflow": null,
       "overflow_x": null,
       "overflow_y": null,
       "padding": null,
       "right": null,
       "top": null,
       "visibility": null,
       "width": null
      }
     },
     "f95e6dce10bb453cb5e11433e43f80ef": {
      "model_module": "@jupyter-widgets/controls",
      "model_module_version": "1.5.0",
      "model_name": "HBoxModel",
      "state": {
       "_dom_classes": [],
       "_model_module": "@jupyter-widgets/controls",
       "_model_module_version": "1.5.0",
       "_model_name": "HBoxModel",
       "_view_count": null,
       "_view_module": "@jupyter-widgets/controls",
       "_view_module_version": "1.5.0",
       "_view_name": "HBoxView",
       "box_style": "",
       "children": [
        "IPY_MODEL_d8927932cac2405f8ff5f77ea1f21b33",
        "IPY_MODEL_8bae3177103b4f929efb014dccc67ab6",
        "IPY_MODEL_ad1a4002e7e2443085cc7dafaeb73d0b"
       ],
       "layout": "IPY_MODEL_8761d33cace74ae9ad51426638697aec"
      }
     },
     "f9d05b354df24cb8ad72140ce1095d78": {
      "model_module": "@jupyter-widgets/base",
      "model_module_version": "1.2.0",
      "model_name": "LayoutModel",
      "state": {
       "_model_module": "@jupyter-widgets/base",
       "_model_module_version": "1.2.0",
       "_model_name": "LayoutModel",
       "_view_count": null,
       "_view_module": "@jupyter-widgets/base",
       "_view_module_version": "1.2.0",
       "_view_name": "LayoutView",
       "align_content": null,
       "align_items": null,
       "align_self": null,
       "border": null,
       "bottom": null,
       "display": null,
       "flex": null,
       "flex_flow": null,
       "grid_area": null,
       "grid_auto_columns": null,
       "grid_auto_flow": null,
       "grid_auto_rows": null,
       "grid_column": null,
       "grid_gap": null,
       "grid_row": null,
       "grid_template_areas": null,
       "grid_template_columns": null,
       "grid_template_rows": null,
       "height": null,
       "justify_content": null,
       "justify_items": null,
       "left": null,
       "margin": null,
       "max_height": null,
       "max_width": null,
       "min_height": null,
       "min_width": null,
       "object_fit": null,
       "object_position": null,
       "order": null,
       "overflow": null,
       "overflow_x": null,
       "overflow_y": null,
       "padding": null,
       "right": null,
       "top": null,
       "visibility": null,
       "width": null
      }
     }
    },
    "version_major": 2,
    "version_minor": 0
   }
  }
 },
 "nbformat": 4,
 "nbformat_minor": 5
}
